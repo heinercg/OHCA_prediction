{
 "cells": [
  {
   "cell_type": "code",
   "execution_count": 2,
   "id": "372cef01-e9b3-4413-a439-ee803aefcf91",
   "metadata": {
    "tags": []
   },
   "outputs": [
    {
     "name": "stdout",
     "output_type": "stream",
     "text": [
      "Looking in indexes: https://devpi.svc.ngsci.local/root/pypi/+simple/\n",
      "Requirement already satisfied: pip in /opt/venv/default/lib/python3.10/site-packages (24.3.1)\n",
      "Looking in indexes: https://devpi.svc.ngsci.local/root/pypi/+simple/\n",
      "Requirement already satisfied: imblearn in /opt/venv/default/lib/python3.10/site-packages (0.0)\n",
      "Requirement already satisfied: imbalanced-learn in /opt/venv/default/lib/python3.10/site-packages (from imblearn) (0.12.4)\n",
      "Requirement already satisfied: numpy>=1.17.3 in /opt/venv/default/lib/python3.10/site-packages (from imbalanced-learn->imblearn) (1.23.5)\n",
      "Requirement already satisfied: scipy>=1.5.0 in /opt/venv/default/lib/python3.10/site-packages (from imbalanced-learn->imblearn) (1.10.1)\n",
      "Requirement already satisfied: scikit-learn>=1.0.2 in /opt/venv/default/lib/python3.10/site-packages (from imbalanced-learn->imblearn) (1.2.2)\n",
      "Requirement already satisfied: joblib>=1.1.1 in /opt/venv/default/lib/python3.10/site-packages (from imbalanced-learn->imblearn) (1.2.0)\n",
      "Requirement already satisfied: threadpoolctl>=2.0.0 in /opt/venv/default/lib/python3.10/site-packages (from imbalanced-learn->imblearn) (3.1.0)\n",
      "Looking in indexes: https://devpi.svc.ngsci.local/root/pypi/+simple/\n",
      "Requirement already satisfied: scikit-optimize in /opt/venv/default/lib/python3.10/site-packages (0.10.2)\n",
      "Requirement already satisfied: joblib>=0.11 in /opt/venv/default/lib/python3.10/site-packages (from scikit-optimize) (1.2.0)\n",
      "Requirement already satisfied: pyaml>=16.9 in /opt/venv/default/lib/python3.10/site-packages (from scikit-optimize) (25.1.0)\n",
      "Requirement already satisfied: numpy>=1.20.3 in /opt/venv/default/lib/python3.10/site-packages (from scikit-optimize) (1.23.5)\n",
      "Requirement already satisfied: scipy>=1.1.0 in /opt/venv/default/lib/python3.10/site-packages (from scikit-optimize) (1.10.1)\n",
      "Requirement already satisfied: scikit-learn>=1.0.0 in /opt/venv/default/lib/python3.10/site-packages (from scikit-optimize) (1.2.2)\n",
      "Requirement already satisfied: packaging>=21.3 in /opt/venv/default/lib/python3.10/site-packages (from scikit-optimize) (23.1)\n",
      "Requirement already satisfied: PyYAML in /opt/venv/default/lib/python3.10/site-packages (from pyaml>=16.9->scikit-optimize) (6.0)\n",
      "Requirement already satisfied: threadpoolctl>=2.0.0 in /opt/venv/default/lib/python3.10/site-packages (from scikit-learn>=1.0.0->scikit-optimize) (3.1.0)\n"
     ]
    }
   ],
   "source": [
    "!pip install --upgrade pip\n",
    "!pip install imblearn\n",
    "!pip install scikit-optimize"
   ]
  },
  {
   "cell_type": "code",
   "execution_count": 1,
   "id": "f6bf21cf-eb40-4247-a478-ffcc4c30528f",
   "metadata": {},
   "outputs": [],
   "source": [
    "# Import necessary libraries\n",
    "import pandas as pd\n",
    "import os\n",
    "import numpy as np\n",
    "import matplotlib.pyplot as plt\n",
    "from sklearn.model_selection import train_test_split\n",
    "from sklearn.metrics import confusion_matrix, classification_report\n",
    "from imblearn.over_sampling import SMOTE\n",
    "import seaborn as sns\n",
    "from sklearn.metrics import accuracy_score, precision_score, recall_score, f1_score, make_scorer\n",
    "from sklearn.preprocessing import StandardScaler\n",
    "from imblearn.metrics import specificity_score\n",
    "from sklearn.model_selection import cross_val_score, StratifiedKFold, GridSearchCV\n",
    "from scipy.optimize import minimize\n",
    "\n",
    "#Import classifier libraries\n",
    "from sklearn.linear_model import SGDClassifier, LogisticRegression\n",
    "from sklearn.ensemble import VotingClassifier\n",
    "from sklearn.tree import DecisionTreeClassifier\n",
    "from sklearn.neighbors import KNeighborsClassifier\n",
    "from sklearn import svm\n",
    "\n",
    "import itertools\n",
    "import time\n",
    "from skopt import gp_minimize\n",
    "from skopt import BayesSearchCV\n",
    "from skopt.space import Real, Integer, Categorical\n"
   ]
  },
  {
   "cell_type": "code",
   "execution_count": 2,
   "id": "421ae5c2-8954-4eda-853d-3e82894a148d",
   "metadata": {
    "tags": []
   },
   "outputs": [],
   "source": [
    "# Function to evaluate the model\n",
    "def evaluate_model(model, X, y):\n",
    "    \"\"\"\n",
    "    Calculate Evluation metrics for a given model and dataset.\n",
    "    \n",
    "    Parameters:\n",
    "    model : sklearn model\n",
    "        The trained model used to predict the labels.\n",
    "    X : array-like or DataFrame\n",
    "        The input data used for prediction.\n",
    "    y : array-like or Series\n",
    "        The true labels of the data.\n",
    "    \n",
    "    Returns:\n",
    "    accuracy : float\n",
    "        The Accuracy of the model.\n",
    "    precision or PPV : float\n",
    "        The Accuracy Precision or PPV the model.\n",
    "    recall : float\n",
    "        The Recall of the model.\n",
    "    specificity : float\n",
    "        The Specificity of the model.\n",
    "    f1-score : float\n",
    "        The f1-score of the model.\n",
    "    auc_roc : float\n",
    "        The auc_roc of the model.\n",
    "    npv : float\n",
    "        The Negative Predictive Value (NPV) of the model.\n",
    "    \"\"\"\n",
    "    y_pred = model.predict(X)\n",
    "    #y_prob = model.predict_proba(X)[:, 1]  # Probability estimates for the positive class\n",
    "\n",
    "    accuracy = accuracy_score(y, y_pred)\n",
    "    precision = precision_score(y, y_pred)\n",
    "    recall = recall_score(y, y_pred)\n",
    "    specificity = specificity_score(y, y_pred)\n",
    "    \n",
    "    f1 = f1_score(y, y_pred)\n",
    "    npv = calculate_npv(y, y_pred)\n",
    "\n",
    "    return accuracy, precision, recall, specificity, npv, f1\n",
    "\n",
    "# Plot the AUC-ROC curve for each set\n",
    "def plot_roc_curve(model, X, y, set_name):\n",
    "    y_prob = model.predict_proba(X)[:, 1]\n",
    "    fpr, tpr, _ = roc_curve(y, y_prob)\n",
    "    roc_auc = auc(fpr, tpr)\n",
    "\n",
    "    plt.figure()\n",
    "    plt.plot(fpr, tpr, color='darkorange', lw=2, label='ROC curve (area = %0.2f)' % roc_auc)\n",
    "    plt.plot([0, 1], [0, 1], color='navy', lw=2, linestyle='--')\n",
    "    plt.xlim([0.0, 1.0])\n",
    "    plt.ylim([0.0, 1.05])\n",
    "    plt.xlabel('False Positive Rate')\n",
    "    plt.ylabel('True Positive Rate')\n",
    "    plt.title('Receiver Operating Characteristic (ROC) - ' + set_name)\n",
    "    plt.legend(loc=\"lower right\")\n",
    "    plt.show()\n",
    "\n",
    "    # Function to plot confusion matrix\n",
    "def plot_confusion_matrix(y_true, y_pred, set_name):\n",
    "    cm = confusion_matrix(y_true, y_pred)\n",
    "    plt.figure(figsize=(6, 4))\n",
    "    sns.heatmap(cm, annot=True, fmt='d', cmap='Blues', cbar=False)\n",
    "    plt.xlabel('Predicted')\n",
    "    plt.ylabel('True')\n",
    "    plt.title(f'Confusion Matrix - {set_name}')\n",
    "    plt.show()\n",
    "    \n",
    "def calculate_npv(y, y_pred):\n",
    "    \"\"\"\n",
    "    Calculate the Negative Predictive Value (NPV) for a given model and dataset.\n",
    "    \n",
    "    Parameters:\n",
    "    model : sklearn model\n",
    "        The trained model used to predict the labels.\n",
    "    X : array-like or DataFrame\n",
    "        The input data used for prediction.\n",
    "    y : array-like or Series\n",
    "        The true labels of the data.\n",
    "    \n",
    "    Returns:\n",
    "    npv : float\n",
    "        The Negative Predictive Value (NPV) of the model.\n",
    "    \"\"\"\n",
    "    \n",
    "    # Generate the confusion matrix\n",
    "    tn, fp, fn, tp = confusion_matrix(y, y_pred).ravel()\n",
    "    \n",
    "    # Calculate NPV\n",
    "    npv = tn / (tn + fn)\n",
    "    \n",
    "    return npv \n",
    "\n",
    "def show_model_eval(model, X, y, data_type):\n",
    "    metrics = evaluate_model(model, X, y)\n",
    "    print(\"\\n \",data_type, \" Metrics:\")\n",
    "    print(\"Accuracy: {:.2f}\".format(metrics[0]))\n",
    "    print(\"Precision: {:.2f}\".format(metrics[1]))\n",
    "    print(\"Recall: {:.2f}\".format(metrics[2]))\n",
    "    print(\"Specificity: {:.2f}\".format(metrics[3]))\n",
    "    print(\"Negative Predictive Value: {:.2f}\".format(metrics[4]))\n",
    "    print(\"F1-Score: {:.2f}\".format(metrics[5]))\n",
    "    \n",
    "    #Plot Confusion Matrix\n",
    "    y_pred = model.predict(X)\n",
    "    plot_confusion_matrix(y, y_pred, data_type)\n",
    "\n",
    "def print_train_val_metrics(metrics_train, metrics_val):\n",
    "    print(\"Train Set Metrics\")\n",
    "    print(\"Accuracy: {:.2f}\".format(metrics_train[0]))\n",
    "    print(\"Precision: {:.2f}\".format(metrics_train[1]))\n",
    "    print(\"Recall: {:.2f}\".format(metrics_train[2]))\n",
    "    print(\"Specificity: {:.2f}\".format(metrics_train[3]))\n",
    "    print(\"Negative Predictive Value: {:.2f}\".format(metrics_train[4]))\n",
    "    print(\"F1-Score: {:.2f}\".format(metrics_train[5]))\n",
    "\n",
    "    print(\"\\nValidation Set Metrics:\")\n",
    "    print(\"Accuracy: {:.2f}\".format(metrics_val[0]))\n",
    "    print(\"Precision: {:.2f}\".format(metrics_val[1]))\n",
    "    print(\"Recall: {:.2f}\".format(metrics_val[2]))\n",
    "    print(\"Specificity: {:.2f}\".format(metrics_val[3]))\n",
    "    print(\"Negative Predictive Value: {:.2f}\".format(metrics_val[4]))\n",
    "    print(\"F1-Score: {:.2f}\".format(metrics_val[5]))\n",
    "    \n",
    "def print_cv_metrics(model,X,y,cv):\n",
    "    metrics = ['accuracy', 'precision', 'recall', 'f1']\n",
    "\n",
    "    #caculate the metrics using cross validation\n",
    "    for metric in metrics:\n",
    "        score = cross_val_score(model, X, y, scoring=metric, cv=cv, n_jobs=-1)\n",
    "        print(metric, ': mean %.3f and standard deviation (%.3f)' % (np.mean(score), np.std(score)))\n",
    "\n",
    "    #find the specificity\n",
    "    specificity = cross_val_score(model, X, y, scoring=make_scorer(recall_score, pos_label=0))\n",
    "    print('specificity: mean %.3f and standard deviation (%.3f)' % (np.mean(specificity), np.std(specificity)))\n",
    "\n",
    "    #find the npv\n",
    "    npvs = cross_val_score(model, X, y, scoring=make_scorer(precision_score, pos_label=0))\n",
    "    print('npv: mean %.3f and standard deviation (%.3f)' % (np.mean(npvs), np.std(npvs)))\n",
    "    \n"
   ]
  },
  {
   "cell_type": "code",
   "execution_count": 3,
   "id": "7bb1c0dd-1bb1-4c97-aa50-68b485155669",
   "metadata": {
    "tags": []
   },
   "outputs": [
    {
     "name": "stdout",
     "output_type": "stream",
     "text": [
      "(19, 26)\n",
      "(247, 26)\n"
     ]
    }
   ],
   "source": [
    "#Read data\n",
    "filter_dir = os.path.join('/','home','ngsci','project','csv_files_and_genarators')\n",
    "data_positive_label = pd.read_csv(os.path.join(filter_dir,'data_OHCA_preECGs_w24h.csv'))\n",
    "data_negative_label = pd.read_csv(os.path.join(filter_dir,'data_ctrg_preECGs_wNdays.csv'))\n",
    "\n",
    "print(data_positive_label.shape)\n",
    "print(data_negative_label.shape)\n",
    "\n",
    "#Concatanete both datasets\n",
    "dataset_df = pd.concat([data_negative_label,data_positive_label], ignore_index=True)\n",
    "\n",
    "#Remove IDs\n",
    "dataset_df = dataset_df.drop(columns=['ecg_id', 'patient_id'])\n"
   ]
  },
  {
   "cell_type": "code",
   "execution_count": 4,
   "id": "825027ac-0940-42ea-8733-460163fdb412",
   "metadata": {
    "tags": []
   },
   "outputs": [
    {
     "name": "stdout",
     "output_type": "stream",
     "text": [
      "Original dataset shape: (266, 24)\n",
      "Resampled dataset shape: (304, 24)\n",
      "Original class distribution:\n",
      " label\n",
      "0    247\n",
      "1     19\n",
      "Name: count, dtype: int64\n",
      "Resampled class distribution:\n",
      " label\n",
      "0    247\n",
      "1     57\n",
      "Name: count, dtype: int64\n"
     ]
    }
   ],
   "source": [
    "#Apply SMOTE to minority class\n",
    "X = dataset_df.drop('label', axis=1)  # Features\n",
    "y = dataset_df['label']  # Labels\n",
    "\n",
    "# Count the current number of labels\n",
    "count_label_1 = sum(y == 1)\n",
    "\n",
    "# Initialize SMOTE with the desired ratio\n",
    "resampling_factor=3\n",
    "smote = SMOTE(sampling_strategy={1: count_label_1*resampling_factor}, random_state=42)\n",
    "\n",
    "# Apply SMOTE\n",
    "X_resampled, y_resampled = smote.fit_resample(X, y)\n",
    "\n",
    "#Standarize the dataset\n",
    "scaler = StandardScaler()\n",
    "X_scaled = scaler.fit_transform(X_resampled)\n",
    "\n",
    "# Create a new dataframe with the resampled data\n",
    "resampled_df = pd.concat([pd.DataFrame(X_scaled, columns=X.columns), pd.DataFrame(y_resampled, columns=['label'])], axis=1)\n",
    "\n",
    "print(\"Original dataset shape:\", dataset_df.shape)\n",
    "print(\"Resampled dataset shape:\", resampled_df.shape)\n",
    "print(\"Original class distribution:\\n\", dataset_df['label'].value_counts())\n",
    "print(\"Resampled class distribution:\\n\", resampled_df['label'].value_counts())"
   ]
  },
  {
   "cell_type": "code",
   "execution_count": 5,
   "id": "eeda5a11-9471-41bd-8898-2c4dafba822e",
   "metadata": {
    "tags": []
   },
   "outputs": [],
   "source": [
    "# Split the dataset into training, validation, and testing sets\n",
    "train_df, val_df = train_test_split(resampled_df, test_size=0.3, random_state=42)\n",
    "\n",
    "# Define the features (X) and target (y)\n",
    "X_train = train_df.drop('label', axis=1)\n",
    "y_train = train_df['label']\n",
    "X_val = val_df.drop('label', axis=1)\n",
    "y_val = val_df['label']"
   ]
  },
  {
   "cell_type": "code",
   "execution_count": 6,
   "id": "700b04c9-c55c-4a1b-a634-960bef843b9b",
   "metadata": {
    "tags": []
   },
   "outputs": [],
   "source": [
    "# Initialize the models.\n",
    "#Decision Tree\n",
    "#dt = DecisionTreeClassifier(max_depth=7, max_features=0.5, max_leaf_nodes=10, random_state=42)\n",
    "dt = DecisionTreeClassifier(max_depth=5, max_features=0.5, max_leaf_nodes=7,\n",
    "                       random_state=42) #New\n",
    "#SVM\n",
    "#svm_nL = svm.SVC(C=0.5, class_weight='balanced', probability=True, random_state=1, tol=0.1)\n",
    "svm_nL = svm.SVC(class_weight='balanced', gamma=0.1, probability=True, random_state=1) #New\n",
    "\n",
    "#KNN \n",
    "#knn = KNeighborsClassifier(n_neighbors=4, weights='distance')\n",
    "knn = KNeighborsClassifier(n_neighbors=4, weights='distance') #New\n",
    "\n",
    "#Stocastic Gradient Descent Classifier (SGDC) \n",
    "#sgdc = SGDClassifier(alpha=0.001, class_weight='balanced', l1_ratio=0.0,\n",
    "#                          loss='perceptron', penalty=None, random_state=42)\n",
    "sgdc = SGDClassifier(alpha=0.01, class_weight='balanced', early_stopping=True,\n",
    "              l1_ratio=0.1, penalty='elasticnet', loss='modified_huber', \n",
    "              random_state=42) #New\n",
    "\n",
    "#Logistic Regression\n",
    "#lr = LogisticRegression(C=0.55, class_weight='balanced', intercept_scaling=3.0,\n",
    "#                               multi_class='ovr', penalty='l1', random_state=42,\n",
    "#                               solver='liblinear', tol=0.055)\n",
    "\n",
    "lr = LogisticRegression(C=0.775, class_weight='balanced', intercept_scaling=2.5,\n",
    "                   multi_class='ovr', penalty='l1', random_state=42,\n",
    "                   solver='liblinear', tol=0.01) #New\n",
    "\n",
    "#Define the cross validation strategy\n",
    "outer_folds = 5\n",
    "cv_outer = StratifiedKFold(n_splits=outer_folds, shuffle=True, random_state=42)"
   ]
  },
  {
   "cell_type": "code",
   "execution_count": 7,
   "id": "fbdec05f-d4b9-433a-99b4-b725fc3ec849",
   "metadata": {
    "tags": []
   },
   "outputs": [
    {
     "name": "stdout",
     "output_type": "stream",
     "text": [
      "Train Set Metrics\n",
      "Accuracy: 0.99\n",
      "Precision: 0.97\n",
      "Recall: 0.95\n",
      "Specificity: 0.99\n",
      "Negative Predictive Value: 0.99\n",
      "F1-Score: 0.96\n",
      "\n",
      "Validation Set Metrics:\n",
      "Accuracy: 0.87\n",
      "Precision: 0.67\n",
      "Recall: 0.59\n",
      "Specificity: 0.93\n",
      "Negative Predictive Value: 0.91\n",
      "F1-Score: 0.62\n"
     ]
    },
    {
     "data": {
      "image/png": "[encoded data removed]",
      "text/plain": [
       "<Figure size 600x400 with 1 Axes>"
      ]
     },
     "metadata": {},
     "output_type": "display_data"
    },
    {
     "data": {
      "image/png": "[encoded data removed]",
      "text/plain": [
       "<Figure size 600x400 with 1 Axes>"
      ]
     },
     "metadata": {},
     "output_type": "display_data"
    }
   ],
   "source": [
    "#Define estimators\n",
    "models=[('dt',dt), \n",
    "        ('svm',svm_nL), \n",
    "        ('knn',knn), \n",
    "        ('sgdc',sgdc), \n",
    "        ('lr', lr)]\n",
    "\n",
    "# Initialize the voting classifier\n",
    "model = VotingClassifier(estimators=models, voting='soft', \n",
    "                         flatten_transform=True)\n",
    "\n",
    "model.fit(X_train, y_train)\n",
    "\n",
    "# Evaluate the model on training, validation, and test sets\n",
    "metrics_train = evaluate_model(model, X_train, y_train)\n",
    "metrics_val = evaluate_model(model, X_val, y_val)\n",
    "\n",
    "# Print the metrics\n",
    "print_train_val_metrics(metrics_train, metrics_val)\n",
    "    \n",
    "#Plot Confusion Matrix Training Set\n",
    "y_train_pred = model.predict(X_train)\n",
    "plot_confusion_matrix(y_train, y_train_pred, 'Training Set')\n",
    "\n",
    "#Plot Confusion Matrix Validation Set\n",
    "y_val_pred = model.predict(X_val)\n",
    "plot_confusion_matrix(y_val, y_val_pred, 'Validation Set')\n"
   ]
  },
  {
   "cell_type": "code",
   "execution_count": 10,
   "id": "582f397e-2f8d-4bc6-8692-0e3b7a7f8474",
   "metadata": {
    "tags": []
   },
   "outputs": [
    {
     "name": "stderr",
     "output_type": "stream",
     "text": [
      "/opt/venv/default/lib/python3.10/site-packages/sklearn/model_selection/_validation.py:778: UserWarning: Scoring failed. The score on this train-test partition for these parameters will be set to nan. Details: \n",
      "Traceback (most recent call last):\n",
      "  File \"/opt/venv/default/lib/python3.10/site-packages/sklearn/model_selection/_validation.py\", line 767, in _score\n",
      "    scores = scorer(estimator, X_test, y_test)\n",
      "  File \"/opt/venv/default/lib/python3.10/site-packages/sklearn/metrics/_scorer.py\", line 234, in __call__\n",
      "    return self._score(\n",
      "  File \"/opt/venv/default/lib/python3.10/site-packages/sklearn/metrics/_scorer.py\", line 276, in _score\n",
      "    y_pred = method_caller(estimator, \"predict\", X)\n",
      "  File \"/opt/venv/default/lib/python3.10/site-packages/sklearn/metrics/_scorer.py\", line 73, in _cached_call\n",
      "    return getattr(estimator, method)(*args, **kwargs)\n",
      "  File \"/opt/venv/default/lib/python3.10/site-packages/sklearn/ensemble/_voting.py\", line 363, in predict\n",
      "    maj = np.argmax(self.predict_proba(X), axis=1)\n",
      "  File \"/opt/venv/default/lib/python3.10/site-packages/sklearn/ensemble/_voting.py\", line 403, in predict_proba\n",
      "    avg = np.average(\n",
      "  File \"<__array_function__ internals>\", line 180, in average\n",
      "  File \"/opt/venv/default/lib/python3.10/site-packages/numpy/lib/function_base.py\", line 547, in average\n",
      "    raise ZeroDivisionError(\n",
      "ZeroDivisionError: Weights sum to zero, can't be normalized\n",
      "\n",
      "  warnings.warn(\n",
      "/opt/venv/default/lib/python3.10/site-packages/sklearn/model_selection/_validation.py:778: UserWarning: Scoring failed. The score on this train-test partition for these parameters will be set to nan. Details: \n",
      "Traceback (most recent call last):\n",
      "  File \"/opt/venv/default/lib/python3.10/site-packages/sklearn/model_selection/_validation.py\", line 767, in _score\n",
      "    scores = scorer(estimator, X_test, y_test)\n",
      "  File \"/opt/venv/default/lib/python3.10/site-packages/sklearn/metrics/_scorer.py\", line 234, in __call__\n",
      "    return self._score(\n",
      "  File \"/opt/venv/default/lib/python3.10/site-packages/sklearn/metrics/_scorer.py\", line 276, in _score\n",
      "    y_pred = method_caller(estimator, \"predict\", X)\n",
      "  File \"/opt/venv/default/lib/python3.10/site-packages/sklearn/metrics/_scorer.py\", line 73, in _cached_call\n",
      "    return getattr(estimator, method)(*args, **kwargs)\n",
      "  File \"/opt/venv/default/lib/python3.10/site-packages/sklearn/ensemble/_voting.py\", line 363, in predict\n",
      "    maj = np.argmax(self.predict_proba(X), axis=1)\n",
      "  File \"/opt/venv/default/lib/python3.10/site-packages/sklearn/ensemble/_voting.py\", line 403, in predict_proba\n",
      "    avg = np.average(\n",
      "  File \"<__array_function__ internals>\", line 180, in average\n",
      "  File \"/opt/venv/default/lib/python3.10/site-packages/numpy/lib/function_base.py\", line 547, in average\n",
      "    raise ZeroDivisionError(\n",
      "ZeroDivisionError: Weights sum to zero, can't be normalized\n",
      "\n",
      "  warnings.warn(\n",
      "/opt/venv/default/lib/python3.10/site-packages/sklearn/model_selection/_validation.py:778: UserWarning: Scoring failed. The score on this train-test partition for these parameters will be set to nan. Details: \n",
      "Traceback (most recent call last):\n",
      "  File \"/opt/venv/default/lib/python3.10/site-packages/sklearn/model_selection/_validation.py\", line 767, in _score\n",
      "    scores = scorer(estimator, X_test, y_test)\n",
      "  File \"/opt/venv/default/lib/python3.10/site-packages/sklearn/metrics/_scorer.py\", line 234, in __call__\n",
      "    return self._score(\n",
      "  File \"/opt/venv/default/lib/python3.10/site-packages/sklearn/metrics/_scorer.py\", line 276, in _score\n",
      "    y_pred = method_caller(estimator, \"predict\", X)\n",
      "  File \"/opt/venv/default/lib/python3.10/site-packages/sklearn/metrics/_scorer.py\", line 73, in _cached_call\n",
      "    return getattr(estimator, method)(*args, **kwargs)\n",
      "  File \"/opt/venv/default/lib/python3.10/site-packages/sklearn/ensemble/_voting.py\", line 363, in predict\n",
      "    maj = np.argmax(self.predict_proba(X), axis=1)\n",
      "  File \"/opt/venv/default/lib/python3.10/site-packages/sklearn/ensemble/_voting.py\", line 403, in predict_proba\n",
      "    avg = np.average(\n",
      "  File \"<__array_function__ internals>\", line 180, in average\n",
      "  File \"/opt/venv/default/lib/python3.10/site-packages/numpy/lib/function_base.py\", line 547, in average\n",
      "    raise ZeroDivisionError(\n",
      "ZeroDivisionError: Weights sum to zero, can't be normalized\n",
      "\n",
      "  warnings.warn(\n",
      "/opt/venv/default/lib/python3.10/site-packages/sklearn/model_selection/_validation.py:778: UserWarning: Scoring failed. The score on this train-test partition for these parameters will be set to nan. Details: \n",
      "Traceback (most recent call last):\n",
      "  File \"/opt/venv/default/lib/python3.10/site-packages/sklearn/model_selection/_validation.py\", line 767, in _score\n",
      "    scores = scorer(estimator, X_test, y_test)\n",
      "  File \"/opt/venv/default/lib/python3.10/site-packages/sklearn/metrics/_scorer.py\", line 234, in __call__\n",
      "    return self._score(\n",
      "  File \"/opt/venv/default/lib/python3.10/site-packages/sklearn/metrics/_scorer.py\", line 276, in _score\n",
      "    y_pred = method_caller(estimator, \"predict\", X)\n",
      "  File \"/opt/venv/default/lib/python3.10/site-packages/sklearn/metrics/_scorer.py\", line 73, in _cached_call\n",
      "    return getattr(estimator, method)(*args, **kwargs)\n",
      "  File \"/opt/venv/default/lib/python3.10/site-packages/sklearn/ensemble/_voting.py\", line 363, in predict\n",
      "    maj = np.argmax(self.predict_proba(X), axis=1)\n",
      "  File \"/opt/venv/default/lib/python3.10/site-packages/sklearn/ensemble/_voting.py\", line 403, in predict_proba\n",
      "    avg = np.average(\n",
      "  File \"<__array_function__ internals>\", line 180, in average\n",
      "  File \"/opt/venv/default/lib/python3.10/site-packages/numpy/lib/function_base.py\", line 547, in average\n",
      "    raise ZeroDivisionError(\n",
      "ZeroDivisionError: Weights sum to zero, can't be normalized\n",
      "\n",
      "  warnings.warn(\n",
      "/opt/venv/default/lib/python3.10/site-packages/sklearn/model_selection/_validation.py:778: UserWarning: Scoring failed. The score on this train-test partition for these parameters will be set to nan. Details: \n",
      "Traceback (most recent call last):\n",
      "  File \"/opt/venv/default/lib/python3.10/site-packages/sklearn/model_selection/_validation.py\", line 767, in _score\n",
      "    scores = scorer(estimator, X_test, y_test)\n",
      "  File \"/opt/venv/default/lib/python3.10/site-packages/sklearn/metrics/_scorer.py\", line 234, in __call__\n",
      "    return self._score(\n",
      "  File \"/opt/venv/default/lib/python3.10/site-packages/sklearn/metrics/_scorer.py\", line 276, in _score\n",
      "    y_pred = method_caller(estimator, \"predict\", X)\n",
      "  File \"/opt/venv/default/lib/python3.10/site-packages/sklearn/metrics/_scorer.py\", line 73, in _cached_call\n",
      "    return getattr(estimator, method)(*args, **kwargs)\n",
      "  File \"/opt/venv/default/lib/python3.10/site-packages/sklearn/ensemble/_voting.py\", line 363, in predict\n",
      "    maj = np.argmax(self.predict_proba(X), axis=1)\n",
      "  File \"/opt/venv/default/lib/python3.10/site-packages/sklearn/ensemble/_voting.py\", line 403, in predict_proba\n",
      "    avg = np.average(\n",
      "  File \"<__array_function__ internals>\", line 180, in average\n",
      "  File \"/opt/venv/default/lib/python3.10/site-packages/numpy/lib/function_base.py\", line 547, in average\n",
      "    raise ZeroDivisionError(\n",
      "ZeroDivisionError: Weights sum to zero, can't be normalized\n",
      "\n",
      "  warnings.warn(\n"
     ]
    },
    {
     "name": "stdout",
     "output_type": "stream",
     "text": [
      "Time taken: 4.664 minutes\n"
     ]
    },
    {
     "name": "stderr",
     "output_type": "stream",
     "text": [
      "/opt/venv/default/lib/python3.10/site-packages/sklearn/model_selection/_search.py:952: UserWarning: One or more of the test scores are non-finite: [       nan 0.63279263 0.63279263 0.54774084 0.57333333 0.64114286\n",
      " 0.54774084 0.56401012 0.57333333 0.83541154 0.81861642 0.72955655\n",
      " 0.70931069 0.65371675 0.65864286 0.56745098 0.57655914 0.62758108\n",
      " 0.83541154 0.83007115 0.81861642 0.80395164 0.76382282 0.71333904\n",
      " 0.70931069 0.64977586 0.65371675 0.89972294 0.88154113 0.79331081\n",
      " 0.59693574 0.66245238 0.66234574 0.56745098 0.58090697 0.65447619\n",
      " 0.87201732 0.88154113 0.8561581  0.82252174 0.83096237 0.71304348\n",
      " 0.59325758 0.64800246 0.67292857 0.86344589 0.87201732 0.86249351\n",
      " 0.81797628 0.82948599 0.81492455 0.79172753 0.77448949 0.71764118\n",
      " 0.89972294 0.87011255 0.88154113 0.85640655 0.85116172 0.77512899\n",
      " 0.59693574 0.66171978 0.66245238 0.87790476 0.87028571 0.88154113\n",
      " 0.85640655 0.85640655 0.83572428 0.79491327 0.80441558 0.72785829\n",
      " 0.87201732 0.86162771 0.88154113 0.86497798 0.84758667 0.84312235\n",
      " 0.82252174 0.83096237 0.83096237 0.57550052 0.73632799 0.73543819\n",
      " 0.58145604 0.6122212  0.61793548 0.5544075  0.58932821 0.60088073\n",
      " 0.71751634 0.78334188 0.79105207 0.77244566 0.76556037 0.67866667\n",
      " 0.6057421  0.64340476 0.63853704 0.81374436 0.83255502 0.82347047\n",
      " 0.78552381 0.80024242 0.77096237 0.74789839 0.7275671  0.68147412\n",
      " 0.76394813 0.77928549 0.78251629 0.80231579 0.77304029 0.71988224\n",
      " 0.6057421  0.65192424 0.65701241 0.84564912 0.82464989 0.82757287\n",
      " 0.78171429 0.81314286 0.82439827 0.77792751 0.73623377 0.68570692\n",
      " 0.85362014 0.84623923 0.8383341  0.83011255 0.81963636 0.81660606\n",
      " 0.77391831 0.7835287  0.77675947 0.86860652 0.85728146 0.83963636\n",
      " 0.83584962 0.8207619  0.81762904 0.78707769 0.77316017 0.73030303\n",
      " 0.87778054 0.85011255 0.85201732 0.84622556 0.84742857 0.83843336\n",
      " 0.79409524 0.81660606 0.79993266 0.87778054 0.88067532 0.85201732\n",
      " 0.84067532 0.8312381  0.85106494 0.83201732 0.83201732 0.81660606\n",
      " 0.57550052 0.60392157 0.73632799 0.55585139 0.65052632 0.65952381\n",
      " 0.58145604 0.61274485 0.6122212  0.54843285 0.69103641 0.75096074\n",
      " 0.70002575 0.75187302 0.7625641  0.72674504 0.7133258  0.65753736\n",
      " 0.71751634 0.79010576 0.78334188 0.77349373 0.77092063 0.80258009\n",
      " 0.77244566 0.78716883 0.76556037 0.56106443 0.66559715 0.75837321\n",
      " 0.68909524 0.7488655  0.75554656 0.77256566 0.75508418 0.67834369\n",
      " 0.69762329 0.78220063 0.78712862 0.79120468 0.77549875 0.8007619\n",
      " 0.78231579 0.80171429 0.78030846 0.81307094 0.8188655  0.7974053\n",
      " 0.79454637 0.80612531 0.78707769 0.79219048 0.78171429 0.81314286\n",
      " 0.76394813 0.81301754 0.77928549 0.7929059  0.7929059  0.78707769\n",
      " 0.80231579 0.79670175 0.77304029 0.83407018 0.83407018 0.82464989\n",
      " 0.81810526 0.78707769 0.81314286 0.79670175 0.79670175 0.81314286\n",
      " 0.84564912 0.84775439 0.82464989 0.83279198 0.84647619 0.80535065\n",
      " 0.78171429 0.8007619  0.81314286]\n",
      "  warnings.warn(\n"
     ]
    }
   ],
   "source": [
    "#Double checking with GridSearch\n",
    "start = time.perf_counter()\n",
    "\n",
    "space = dict()\n",
    "# Generate all combinations of 5 integeres from 0 to 5\n",
    "space['weights'] = list(itertools.product(range(3), repeat=5))\n",
    "\n",
    "search = GridSearchCV(model, space, scoring='f1', n_jobs=1, cv=cv_outer, refit=True)\n",
    "\n",
    "#scores = cross_val_score(search, X_scaled, y_resampled, scoring='f1', cv=cv_outer, n_jobs=-1)\n",
    "#print(scores)\n",
    "best_model = search.fit(X_scaled, y_resampled).best_estimator_\n",
    "\n",
    "best_model.fit(X_scaled, y_resampled)\n",
    "\n",
    "end = time.perf_counter()\n",
    "print(f\"Time taken: {(end - start)/60:.3f} minutes\")"
   ]
  },
  {
   "cell_type": "code",
   "execution_count": 11,
   "id": "176cba6c-7e51-4624-aa15-64d57008da47",
   "metadata": {
    "tags": []
   },
   "outputs": [
    {
     "data": {
      "text/plain": [
       "(0, 1, 0, 0, 0)"
      ]
     },
     "execution_count": 11,
     "metadata": {},
     "output_type": "execute_result"
    }
   ],
   "source": [
    "best_model.weights"
   ]
  },
  {
   "cell_type": "code",
   "execution_count": 12,
   "id": "65b7c75f-b093-4c28-9471-f9c5c97c387b",
   "metadata": {
    "tags": []
   },
   "outputs": [
    {
     "name": "stdout",
     "output_type": "stream",
     "text": [
      "accuracy : mean 0.964 and standard deviation (0.012)\n",
      "precision : mean 0.951 and standard deviation (0.063)\n",
      "recall : mean 0.861 and standard deviation (0.066)\n",
      "f1 : mean 0.900 and standard deviation (0.032)\n",
      "specificity: mean 0.984 and standard deviation (0.024)\n",
      "npv: mean 0.974 and standard deviation (0.032)\n"
     ]
    }
   ],
   "source": [
    "best_model=VotingClassifier(estimators=models, voting='soft', weights=best_model.weights, \n",
    "                         flatten_transform=True)\n",
    "\n",
    "#print(best_model)\n",
    "metrics = ['accuracy', 'precision', 'recall', 'f1']\n",
    "\n",
    "#caculate the metrics using cross validation\n",
    "for metric in metrics:\n",
    "    score = cross_val_score(best_model, X_scaled, y_resampled, scoring=metric, cv=cv_outer, n_jobs=-1)\n",
    "    print(metric, ': mean %.3f and standard deviation (%.3f)' % (np.mean(score), np.std(score)))\n",
    "\n",
    "#find the specificity\n",
    "specificity = cross_val_score(best_model, X_scaled, y_resampled, scoring=make_scorer(recall_score, pos_label=0))\n",
    "print('specificity: mean %.3f and standard deviation (%.3f)' % (np.mean(specificity), np.std(specificity)))\n",
    "\n",
    "#find the npv\n",
    "npvs = cross_val_score(best_model, X_scaled, y_resampled, scoring=make_scorer(precision_score, pos_label=0))\n",
    "print('npv: mean %.3f and standard deviation (%.3f)' % (np.mean(npvs), np.std(npvs)))"
   ]
  },
  {
   "cell_type": "code",
   "execution_count": 8,
   "id": "a062546c-9798-4497-b0d0-89bded7898e3",
   "metadata": {
    "tags": []
   },
   "outputs": [
    {
     "name": "stdout",
     "output_type": "stream",
     "text": [
      "Best weights: 2.000 4.000 2.000 0.000 0.000\n",
      "Time taken: 2.745 minutes\n",
      "accuracy : mean 0.957 and standard deviation (0.030)\n",
      "precision : mean 0.928 and standard deviation (0.063)\n",
      "recall : mean 0.845 and standard deviation (0.143)\n",
      "f1 : mean 0.878 and standard deviation (0.094)\n",
      "specificity: mean 0.984 and standard deviation (0.024)\n",
      "npv: mean 0.981 and standard deviation (0.024)\n"
     ]
    }
   ],
   "source": [
    "# Optimize using Bayesian for a Gaussian Process\n",
    "# Objective function for Scikit-optimize\n",
    "\n",
    "start = time.perf_counter()\n",
    "def objective(weights):\n",
    "    voting = VotingClassifier(estimators=models, voting='soft', weights=weights)\n",
    "    score = cross_val_score(voting, X_scaled, y_resampled, cv=5, scoring='f1').mean()\n",
    "    return -score  # Minimize negative score means maximize\n",
    "\n",
    "# Define the search space\n",
    "space = [Integer(0, 5) for _ in range(len(models))]\n",
    "\n",
    "# Optimize the weights\n",
    "result = gp_minimize(objective, space, n_calls=50, random_state=42)\n",
    "\n",
    "# Best weights\n",
    "best_weights = result.x\n",
    "print(\"Best weights:\", \" \".join([f\"{weight:.3f}\" for weight in best_weights]))\n",
    "#print(f'Best weights: {best_weights[0]:.3f} {best_weights[1]:.3f} {best_weights[2]:.3f} {best_weights[3]:.3f} {best_weights[4]:.3f}')\n",
    "\n",
    "# Train the final model with the best weights\n",
    "best_voting = VotingClassifier(estimators=models, voting='soft', weights=best_weights)\n",
    "best_voting.fit(X_scaled, y_resampled)\n",
    "\n",
    "#Calculate time taken\n",
    "end = time.perf_counter()\n",
    "print(f\"Time taken: {(end - start)/60:.3f} minutes\")\n",
    "\n",
    "# Evaluate the best model found\n",
    "print_cv_metrics(best_voting, X_scaled, y_resampled, cv_outer)"
   ]
  },
  {
   "cell_type": "code",
   "execution_count": 9,
   "id": "c946df6f-c33b-4bf0-ae98-75a9c132c574",
   "metadata": {
    "tags": []
   },
   "outputs": [
    {
     "name": "stdout",
     "output_type": "stream",
     "text": [
      "Best weights: 2.581 5.000 1.518 0.000 0.000\n",
      "Time taken: 2.636 minutes\n",
      "accuracy : mean 0.957 and standard deviation (0.022)\n",
      "precision : mean 0.938 and standard deviation (0.075)\n",
      "recall : mean 0.845 and standard deviation (0.143)\n",
      "f1 : mean 0.877 and standard deviation (0.074)\n",
      "specificity: mean 0.984 and standard deviation (0.024)\n",
      "npv: mean 0.981 and standard deviation (0.024)\n"
     ]
    }
   ],
   "source": [
    "# Optimize using Bayesian for a Gaussian Process\n",
    "# Objective function for Scikit-optimize\n",
    "\n",
    "start = time.perf_counter()\n",
    "def objective(weights):\n",
    "    voting = VotingClassifier(estimators=models, voting='soft', weights=weights)\n",
    "    score = cross_val_score(voting, X_scaled, y_resampled, cv=5, scoring='f1').mean()\n",
    "    return -score  # Minimize negative score means maximize\n",
    "\n",
    "# Define the search space\n",
    "space = [Real(0, 5) for _ in range(len(models))]\n",
    "\n",
    "# Optimize the weights\n",
    "result = gp_minimize(objective, space, n_calls=50, random_state=42)\n",
    "\n",
    "# Best weights\n",
    "best_weights = result.x\n",
    "print(\"Best weights:\", \" \".join([f\"{weight:.3f}\" for weight in best_weights]))\n",
    "#print(f'Best weights: {best_weights[0]:.3f} {best_weights[1]:.3f} {best_weights[2]:.3f} {best_weights[3]:.3f} {best_weights[4]:.3f}')\n",
    "\n",
    "# Train the final model with the best weights\n",
    "best_voting = VotingClassifier(estimators=models, voting='soft', weights=best_weights)\n",
    "best_voting.fit(X_scaled, y_resampled)\n",
    "\n",
    "#Calculate time taken\n",
    "end = time.perf_counter()\n",
    "print(f\"Time taken: {(end - start)/60:.3f} minutes\")\n",
    "\n",
    "# Evaluate the best model found\n",
    "print_cv_metrics(best_voting, X_scaled, y_resampled, cv_outer)"
   ]
  },
  {
   "cell_type": "markdown",
   "id": "8b0ea91b-323a-4345-add4-b9bfafecd73f",
   "metadata": {},
   "source": [
    "# END"
   ]
  },
  {
   "cell_type": "code",
   "execution_count": 14,
   "id": "fbcff47b-8c9e-4f59-a0dd-436cfc943406",
   "metadata": {
    "tags": []
   },
   "outputs": [
    {
     "data": {
      "text/plain": [
       "[Integer(low=0, high=5, prior='uniform', transform='normalize'),\n",
       " Integer(low=0, high=5, prior='uniform', transform='normalize'),\n",
       " Integer(low=0, high=5, prior='uniform', transform='normalize'),\n",
       " Integer(low=0, high=5, prior='uniform', transform='normalize'),\n",
       " Integer(low=0, high=5, prior='uniform', transform='normalize')]"
      ]
     },
     "execution_count": 14,
     "metadata": {},
     "output_type": "execute_result"
    }
   ],
   "source": [
    "list(itertools.product(range(3), repeat=5))\n",
    "space"
   ]
  }
 ],
 "metadata": {
  "kernelspec": {
   "display_name": "Python 3 (ipykernel)",
   "language": "python",
   "name": "python3"
  },
  "language_info": {
   "codemirror_mode": {
    "name": "ipython",
    "version": 3
   },
   "file_extension": ".py",
   "mimetype": "text/x-python",
   "name": "python",
   "nbconvert_exporter": "python",
   "pygments_lexer": "ipython3",
   "version": "3.10.9"
  }
 },
 "nbformat": 4,
 "nbformat_minor": 5
}
