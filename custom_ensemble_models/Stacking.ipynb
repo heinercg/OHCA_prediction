{
 "cells": [
  {
   "cell_type": "code",
   "execution_count": 2,
   "id": "372cef01-e9b3-4413-a439-ee803aefcf91",
   "metadata": {
    "tags": []
   },
   "outputs": [
    {
     "name": "stdout",
     "output_type": "stream",
     "text": [
      "Looking in indexes: https://devpi.svc.ngsci.local/root/pypi/+simple/\n",
      "Requirement already satisfied: imblearn in /opt/venv/default/lib/python3.10/site-packages (0.0)\n",
      "Requirement already satisfied: imbalanced-learn in /opt/venv/default/lib/python3.10/site-packages (from imblearn) (0.12.4)\n",
      "Requirement already satisfied: numpy>=1.17.3 in /opt/venv/default/lib/python3.10/site-packages (from imbalanced-learn->imblearn) (1.23.5)\n",
      "Requirement already satisfied: joblib>=1.1.1 in /opt/venv/default/lib/python3.10/site-packages (from imbalanced-learn->imblearn) (1.2.0)\n",
      "Requirement already satisfied: scikit-learn>=1.0.2 in /opt/venv/default/lib/python3.10/site-packages (from imbalanced-learn->imblearn) (1.2.2)\n",
      "Requirement already satisfied: threadpoolctl>=2.0.0 in /opt/venv/default/lib/python3.10/site-packages (from imbalanced-learn->imblearn) (3.1.0)\n",
      "Requirement already satisfied: scipy>=1.5.0 in /opt/venv/default/lib/python3.10/site-packages (from imbalanced-learn->imblearn) (1.10.1)\n",
      "\u001b[33mWARNING: There was an error checking the latest version of pip.\u001b[0m\u001b[33m\n",
      "\u001b[0m"
     ]
    }
   ],
   "source": [
    "#!pip install --upgrade pip\n",
    "!pip install imblearn\n",
    "#!pip install scikit-optimize"
   ]
  },
  {
   "cell_type": "code",
   "execution_count": 1,
   "id": "f6bf21cf-eb40-4247-a478-ffcc4c30528f",
   "metadata": {},
   "outputs": [],
   "source": [
    "# Import necessary libraries\n",
    "import pandas as pd\n",
    "import os\n",
    "import numpy as np\n",
    "import matplotlib.pyplot as plt\n",
    "from sklearn.model_selection import train_test_split\n",
    "from sklearn.metrics import confusion_matrix, classification_report\n",
    "from imblearn.over_sampling import SMOTE\n",
    "import seaborn as sns\n",
    "from sklearn.metrics import accuracy_score, precision_score, recall_score, f1_score, make_scorer\n",
    "from sklearn.preprocessing import StandardScaler\n",
    "from imblearn.metrics import specificity_score\n",
    "from sklearn.model_selection import cross_val_score, StratifiedKFold, GridSearchCV\n",
    "from scipy.optimize import minimize\n",
    "\n",
    "#Import classifier libraries\n",
    "from sklearn.linear_model import SGDClassifier, LogisticRegression\n",
    "from sklearn.ensemble import StackingClassifier\n",
    "from sklearn.tree import DecisionTreeClassifier\n",
    "from sklearn.neighbors import KNeighborsClassifier\n",
    "from sklearn import svm\n",
    "\n",
    "import itertools\n",
    "import time\n",
    "#from skopt import gp_minimize"
   ]
  },
  {
   "cell_type": "code",
   "execution_count": 2,
   "id": "421ae5c2-8954-4eda-853d-3e82894a148d",
   "metadata": {
    "tags": []
   },
   "outputs": [],
   "source": [
    "# Function to evaluate the model\n",
    "def evaluate_model(model, X, y):\n",
    "    \"\"\"\n",
    "    Calculate Evluation metrics for a given model and dataset.\n",
    "    \n",
    "    Parameters:\n",
    "    model : sklearn model\n",
    "        The trained model used to predict the labels.\n",
    "    X : array-like or DataFrame\n",
    "        The input data used for prediction.\n",
    "    y : array-like or Series\n",
    "        The true labels of the data.\n",
    "    \n",
    "    Returns:\n",
    "    accuracy : float\n",
    "        The Accuracy of the model.\n",
    "    precision or PPV : float\n",
    "        The Accuracy Precision or PPV the model.\n",
    "    recall : float\n",
    "        The Recall of the model.\n",
    "    specificity : float\n",
    "        The Specificity of the model.\n",
    "    f1-score : float\n",
    "        The f1-score of the model.\n",
    "    auc_roc : float\n",
    "        The auc_roc of the model.\n",
    "    npv : float\n",
    "        The Negative Predictive Value (NPV) of the model.\n",
    "    \"\"\"\n",
    "    y_pred = model.predict(X)\n",
    "    #y_prob = model.predict_proba(X)[:, 1]  # Probability estimates for the positive class\n",
    "\n",
    "    accuracy = accuracy_score(y, y_pred)\n",
    "    precision = precision_score(y, y_pred)\n",
    "    recall = recall_score(y, y_pred)\n",
    "    specificity = specificity_score(y, y_pred)\n",
    "    \n",
    "    f1 = f1_score(y, y_pred)\n",
    "    npv = calculate_npv(y, y_pred)\n",
    "\n",
    "    return accuracy, precision, recall, specificity, npv, f1\n",
    "\n",
    "# Plot the AUC-ROC curve for each set\n",
    "def plot_roc_curve(model, X, y, set_name):\n",
    "    y_prob = model.predict_proba(X)[:, 1]\n",
    "    fpr, tpr, _ = roc_curve(y, y_prob)\n",
    "    roc_auc = auc(fpr, tpr)\n",
    "\n",
    "    plt.figure()\n",
    "    plt.plot(fpr, tpr, color='darkorange', lw=2, label='ROC curve (area = %0.2f)' % roc_auc)\n",
    "    plt.plot([0, 1], [0, 1], color='navy', lw=2, linestyle='--')\n",
    "    plt.xlim([0.0, 1.0])\n",
    "    plt.ylim([0.0, 1.05])\n",
    "    plt.xlabel('False Positive Rate')\n",
    "    plt.ylabel('True Positive Rate')\n",
    "    plt.title('Receiver Operating Characteristic (ROC) - ' + set_name)\n",
    "    plt.legend(loc=\"lower right\")\n",
    "    plt.show()\n",
    "\n",
    "    # Function to plot confusion matrix\n",
    "def plot_confusion_matrix(y_true, y_pred, set_name):\n",
    "    cm = confusion_matrix(y_true, y_pred)\n",
    "    plt.figure(figsize=(6, 4))\n",
    "    sns.heatmap(cm, annot=True, fmt='d', cmap='Blues', cbar=False)\n",
    "    plt.xlabel('Predicted')\n",
    "    plt.ylabel('True')\n",
    "    plt.title(f'Confusion Matrix - {set_name}')\n",
    "    plt.show()\n",
    "    \n",
    "def calculate_npv(y, y_pred):\n",
    "    \"\"\"\n",
    "    Calculate the Negative Predictive Value (NPV) for a given model and dataset.\n",
    "    \n",
    "    Parameters:\n",
    "    model : sklearn model\n",
    "        The trained model used to predict the labels.\n",
    "    X : array-like or DataFrame\n",
    "        The input data used for prediction.\n",
    "    y : array-like or Series\n",
    "        The true labels of the data.\n",
    "    \n",
    "    Returns:\n",
    "    npv : float\n",
    "        The Negative Predictive Value (NPV) of the model.\n",
    "    \"\"\"\n",
    "    \n",
    "    # Generate the confusion matrix\n",
    "    tn, fp, fn, tp = confusion_matrix(y, y_pred).ravel()\n",
    "    \n",
    "    # Calculate NPV\n",
    "    npv = tn / (tn + fn)\n",
    "    \n",
    "    return npv \n",
    "\n",
    "def show_model_eval(model, X, y, data_type):\n",
    "    metrics = evaluate_model(model, X, y)\n",
    "    print(\"\\n \",data_type, \" Metrics:\")\n",
    "    print(\"Accuracy: {:.2f}\".format(metrics[0]))\n",
    "    print(\"Precision: {:.2f}\".format(metrics[1]))\n",
    "    print(\"Recall: {:.2f}\".format(metrics[2]))\n",
    "    print(\"Specificity: {:.2f}\".format(metrics[3]))\n",
    "    print(\"Negative Predictive Value: {:.2f}\".format(metrics[4]))\n",
    "    print(\"F1-Score: {:.2f}\".format(metrics[5]))\n",
    "    \n",
    "    #Plot Confusion Matrix\n",
    "    y_pred = model.predict(X)\n",
    "    plot_confusion_matrix(y, y_pred, data_type)\n",
    "\n",
    "def print_train_val_metrics(metrics_train, metrics_val):\n",
    "    print(\"Train Set Metrics\")\n",
    "    print(\"Accuracy: {:.2f}\".format(metrics_train[0]))\n",
    "    print(\"Precision: {:.2f}\".format(metrics_train[1]))\n",
    "    print(\"Recall: {:.2f}\".format(metrics_train[2]))\n",
    "    print(\"Specificity: {:.2f}\".format(metrics_train[3]))\n",
    "    print(\"Negative Predictive Value: {:.2f}\".format(metrics_train[4]))\n",
    "    print(\"F1-Score: {:.2f}\".format(metrics_train[5]))\n",
    "\n",
    "    print(\"\\nValidation Set Metrics:\")\n",
    "    print(\"Accuracy: {:.2f}\".format(metrics_val[0]))\n",
    "    print(\"Precision: {:.2f}\".format(metrics_val[1]))\n",
    "    print(\"Recall: {:.2f}\".format(metrics_val[2]))\n",
    "    print(\"Specificity: {:.2f}\".format(metrics_val[3]))\n",
    "    print(\"Negative Predictive Value: {:.2f}\".format(metrics_val[4]))\n",
    "    print(\"F1-Score: {:.2f}\".format(metrics_val[5]))\n",
    "    \n",
    "def print_cv_metrics(model,X,y,cv):\n",
    "    metrics = ['accuracy', 'precision', 'recall', 'f1']\n",
    "\n",
    "    #caculate the metrics using cross validation\n",
    "    for metric in metrics:\n",
    "        score = cross_val_score(model, X, y, scoring=metric, cv=cv, n_jobs=-1)\n",
    "        print(metric, ': mean %.3f and standard deviation (%.3f)' % (np.mean(score), np.std(score)))\n",
    "\n",
    "    #find the specificity\n",
    "    specificity = cross_val_score(model, X, y, scoring=make_scorer(recall_score, pos_label=0))\n",
    "    print('specificity: mean %.3f and standard deviation (%.3f)' % (np.mean(specificity), np.std(specificity)))\n",
    "\n",
    "    #find the npv\n",
    "    npvs = cross_val_score(model, X, y, scoring=make_scorer(precision_score, pos_label=0))\n",
    "    print('npv: mean %.3f and standard deviation (%.3f)' % (np.mean(npvs), np.std(npvs)))\n",
    "    \n"
   ]
  },
  {
   "cell_type": "code",
   "execution_count": 3,
   "id": "7bb1c0dd-1bb1-4c97-aa50-68b485155669",
   "metadata": {
    "tags": []
   },
   "outputs": [
    {
     "name": "stdout",
     "output_type": "stream",
     "text": [
      "(19, 26)\n",
      "(247, 26)\n"
     ]
    }
   ],
   "source": [
    "#Read data\n",
    "filter_dir = os.path.join('/','home','ngsci','project','csv_files_and_genarators')\n",
    "data_positive_label = pd.read_csv(os.path.join(filter_dir,'data_OHCA_preECGs_w24h.csv'))\n",
    "data_negative_label = pd.read_csv(os.path.join(filter_dir,'data_ctrg_preECGs_wNdays.csv'))\n",
    "\n",
    "print(data_positive_label.shape)\n",
    "print(data_negative_label.shape)\n",
    "\n",
    "#Concatanete both datasets\n",
    "dataset_df = pd.concat([data_negative_label,data_positive_label], ignore_index=True)\n",
    "\n",
    "#Remove IDs\n",
    "dataset_df = dataset_df.drop(columns=['ecg_id', 'patient_id'])\n"
   ]
  },
  {
   "cell_type": "code",
   "execution_count": 4,
   "id": "825027ac-0940-42ea-8733-460163fdb412",
   "metadata": {
    "tags": []
   },
   "outputs": [
    {
     "name": "stdout",
     "output_type": "stream",
     "text": [
      "Original dataset shape: (266, 24)\n",
      "Resampled dataset shape: (304, 24)\n",
      "Original class distribution:\n",
      " label\n",
      "0    247\n",
      "1     19\n",
      "Name: count, dtype: int64\n",
      "Resampled class distribution:\n",
      " label\n",
      "0    247\n",
      "1     57\n",
      "Name: count, dtype: int64\n"
     ]
    }
   ],
   "source": [
    "#Apply SMOTE to minority class\n",
    "X = dataset_df.drop('label', axis=1)  # Features\n",
    "y = dataset_df['label']  # Labels\n",
    "\n",
    "# Count the current number of labels\n",
    "count_label_1 = sum(y == 1)\n",
    "\n",
    "# Initialize SMOTE with the desired ratio\n",
    "resampling_factor=3\n",
    "smote = SMOTE(sampling_strategy={1: count_label_1*resampling_factor}, random_state=42)\n",
    "\n",
    "# Apply SMOTE\n",
    "X_resampled, y_resampled = smote.fit_resample(X, y)\n",
    "\n",
    "#Standarize the dataset\n",
    "scaler = StandardScaler()\n",
    "X_scaled = scaler.fit_transform(X_resampled)\n",
    "\n",
    "# Create a new dataframe with the resampled data\n",
    "resampled_df = pd.concat([pd.DataFrame(X_scaled, columns=X.columns), pd.DataFrame(y_resampled, columns=['label'])], axis=1)\n",
    "\n",
    "print(\"Original dataset shape:\", dataset_df.shape)\n",
    "print(\"Resampled dataset shape:\", resampled_df.shape)\n",
    "print(\"Original class distribution:\\n\", dataset_df['label'].value_counts())\n",
    "print(\"Resampled class distribution:\\n\", resampled_df['label'].value_counts())"
   ]
  },
  {
   "cell_type": "code",
   "execution_count": 5,
   "id": "eeda5a11-9471-41bd-8898-2c4dafba822e",
   "metadata": {
    "tags": []
   },
   "outputs": [],
   "source": [
    "# Split the dataset into training, validation, and testing sets\n",
    "train_df, val_df = train_test_split(resampled_df, test_size=0.3, random_state=42)\n",
    "\n",
    "# Define the features (X) and target (y)\n",
    "X_train = train_df.drop('label', axis=1)\n",
    "y_train = train_df['label']\n",
    "X_val = val_df.drop('label', axis=1)\n",
    "y_val = val_df['label']"
   ]
  },
  {
   "cell_type": "code",
   "execution_count": 6,
   "id": "700b04c9-c55c-4a1b-a634-960bef843b9b",
   "metadata": {
    "tags": []
   },
   "outputs": [],
   "source": [
    "# Initialize the models.\n",
    "#Decision Tree\n",
    "#dt = DecisionTreeClassifier(max_depth=7, max_features=0.5, max_leaf_nodes=10, random_state=42)\n",
    "dt = DecisionTreeClassifier(max_depth=5, max_features=0.5, max_leaf_nodes=7,\n",
    "                       random_state=42) #New\n",
    "#SVM\n",
    "#svm_nL = svm.SVC(C=0.5, class_weight='balanced', probability=True, random_state=1, tol=0.1)\n",
    "svm_nL = svm.SVC(class_weight='balanced', gamma=0.1, probability=True, random_state=1) #New\n",
    "\n",
    "svm_L = svm.SVC(kernel='linear', class_weight='balanced', gamma=0.1, probability=True, random_state=1) #New\n",
    "\n",
    "#KNN \n",
    "#knn = KNeighborsClassifier(n_neighbors=4, weights='distance')\n",
    "knn = KNeighborsClassifier(n_neighbors=4, weights='distance') #New\n",
    "\n",
    "#Stocastic Gradient Descent Classifier (SGDC) \n",
    "#sgdc = SGDClassifier(alpha=0.001, class_weight='balanced', l1_ratio=0.0,\n",
    "#                          loss='perceptron', penalty=None, random_state=42)\n",
    "sgdc = SGDClassifier(alpha=0.01, class_weight='balanced', early_stopping=True,\n",
    "              l1_ratio=0.1, loss='huber', penalty='elasticnet',\n",
    "              random_state=42) #New\n",
    "\n",
    "#Logistic Regression\n",
    "#lr = LogisticRegression(C=0.55, class_weight='balanced', intercept_scaling=3.0,\n",
    "#                               multi_class='ovr', penalty='l1', random_state=42,\n",
    "#                               solver='liblinear', tol=0.055)\n",
    "\n",
    "lr = LogisticRegression(C=0.775, class_weight='balanced', intercept_scaling=2.5,\n",
    "                   multi_class='ovr', penalty='l1', random_state=42,\n",
    "                   solver='liblinear', tol=0.01) #New"
   ]
  },
  {
   "cell_type": "code",
   "execution_count": 7,
   "id": "fbdec05f-d4b9-433a-99b4-b725fc3ec849",
   "metadata": {
    "tags": []
   },
   "outputs": [
    {
     "name": "stdout",
     "output_type": "stream",
     "text": [
      "Train Set Metrics\n",
      "Accuracy: 0.99\n",
      "Precision: 0.97\n",
      "Recall: 0.97\n",
      "Specificity: 0.99\n",
      "Negative Predictive Value: 0.99\n",
      "F1-Score: 0.97\n",
      "\n",
      "Validation Set Metrics:\n",
      "Accuracy: 0.97\n",
      "Precision: 1.00\n",
      "Recall: 0.82\n",
      "Specificity: 1.00\n",
      "Negative Predictive Value: 0.96\n",
      "F1-Score: 0.90\n"
     ]
    },
    {
     "data": {
      "image/png": "[encoded data removed]",
      "text/plain": [
       "<Figure size 600x400 with 1 Axes>"
      ]
     },
     "metadata": {},
     "output_type": "display_data"
    },
    {
     "data": {
      "image/png": "[encoded data removed]",
      "text/plain": [
       "<Figure size 600x400 with 1 Axes>"
      ]
     },
     "metadata": {},
     "output_type": "display_data"
    }
   ],
   "source": [
    "#Define estimators\n",
    "base_models=[('dt',dt), ('knn',knn), ('sgdc',sgdc), ('lr', lr)]\n",
    "\n",
    "# Initialize the voting classifier\n",
    "model = StackingClassifier(estimators = base_models, \n",
    "                           final_estimator = svm_nL, \n",
    "                           #cv = cv_outer,\n",
    "                           stack_method = 'auto',\n",
    "                           passthrough = True,\n",
    "                          )\n",
    "\n",
    "model.fit(X_train, y_train)\n",
    "\n",
    "# Evaluate the model on training, validation, and test sets\n",
    "metrics_train = evaluate_model(model, X_train, y_train)\n",
    "metrics_val = evaluate_model(model, X_val, y_val)\n",
    "\n",
    "# Print the metrics\n",
    "print_train_val_metrics(metrics_train, metrics_val)\n",
    "    \n",
    "#Plot Confusion Matrix Training Set\n",
    "y_train_pred = model.predict(X_train)\n",
    "plot_confusion_matrix(y_train, y_train_pred, 'Training Set')\n",
    "\n",
    "#Plot Confusion Matrix Validation Set\n",
    "y_val_pred = model.predict(X_val)\n",
    "plot_confusion_matrix(y_val, y_val_pred, 'Validation Set')\n"
   ]
  },
  {
   "cell_type": "code",
   "execution_count": 8,
   "id": "8f9b0d75-3ae8-4d61-b70a-4fded1368597",
   "metadata": {
    "tags": []
   },
   "outputs": [],
   "source": [
    "#Define everything for CV searching\n",
    "inner_folds = 3\n",
    "outer_folds = 5\n",
    "\n",
    "# configure the cross-validation procedure\n",
    "cv_inner = StratifiedKFold(n_splits=inner_folds, shuffle=True, random_state=42)\n",
    "cv_outer = StratifiedKFold(n_splits=outer_folds, shuffle=True, random_state=42)\n",
    "\n",
    "#Hyperparameteres to tune: \n",
    "# define search space\n",
    "space = {\n",
    "#    'stack_method': ['auto', 'predict_proba', 'decision_function', 'predict'],\n",
    "    'passthrough' : [True,False],\n",
    "    }\n",
    "\n",
    "# define the models\n",
    "models = StackingClassifier(estimators = base_models, \n",
    "                           final_estimator = svm_nL, \n",
    "                           #cv = cv_outer,\n",
    "                           stack_method = 'auto',\n",
    "                           #passthrough = True,\n",
    "                          )\n",
    "# define search\n",
    "search = GridSearchCV(models, space, scoring='f1', n_jobs=1, cv=cv_inner, refit=True)"
   ]
  },
  {
   "cell_type": "code",
   "execution_count": 9,
   "id": "4cb324e6-7c91-47b9-8c21-390d22cee3f3",
   "metadata": {
    "tags": []
   },
   "outputs": [
    {
     "name": "stdout",
     "output_type": "stream",
     "text": [
      "[0.9]\n",
      "[0.9, 0.9523809523809523]\n",
      "[0.9, 0.9523809523809523, 0.8799999999999999]\n",
      "[0.9, 0.9523809523809523, 0.8799999999999999, 0.8]\n",
      "[0.9, 0.9523809523809523, 0.8799999999999999, 0.8, 0.9090909090909091]\n",
      "final model: SVC(class_weight='balanced', gamma=0.1, probability=True, random_state=1)\n",
      "F1 mean score: 0.888 +/- 0.050\n",
      "Precision mean: 0.951 +/- 0.063\n",
      "Sensitivity mean: 0.844 +/- 0.096\n",
      "Specificity mean: 0.988 +/- 0.016\n",
      "NPV mean: 0.965 +/- 0.021\n",
      "Accuracy mean: 0.961 +/- 0.017\n",
      "Time taken: 0.68 minutes\n"
     ]
    }
   ],
   "source": [
    "start = time.perf_counter()\n",
    "\n",
    "# Perform nested cross-validation\n",
    "outer_F1 = []\n",
    "outer_Pre = []\n",
    "outer_Sens = []\n",
    "outer_Spec = []\n",
    "outer_Acc = []\n",
    "outer_NPV = []\n",
    "\n",
    "for train_idx, test_idx in cv_outer.split(X_scaled, y_resampled):\n",
    "    X_cv_train, X_test = X_scaled[train_idx], X_scaled[test_idx]\n",
    "    y_cv_train, y_test = y_resampled[train_idx], y_resampled[test_idx]\n",
    "    \n",
    "    search.fit(X_cv_train, y_cv_train)\n",
    "\n",
    "    # Train the model with the best hyperparameters on the outer training fold\n",
    "    best_model = search.best_estimator_\n",
    "    best_model.fit(X_cv_train, y_cv_train)\n",
    "\n",
    "    # Evaluate the model on the outer validation fold\n",
    "    y_pred = best_model.predict(X_test)\n",
    "    outer_F1.append(f1_score(y_test, y_pred))\n",
    "    print(outer_F1)\n",
    "    outer_Pre.append(precision_score(y_test, y_pred))\n",
    "    outer_Sens.append(recall_score(y_test, y_pred))\n",
    "    outer_Acc.append(accuracy_score(y_test, y_pred))\n",
    "    outer_Spec.append(specificity_score(y_test, y_pred))\n",
    "    npv = calculate_npv(y_test, y_pred)\n",
    "    outer_NPV.append(npv)\n",
    "    \n",
    "# Report the mean and standard deviation of the scores across the outer folds\n",
    "#print(f\"F1 nested cross-validation scores: {outer_scores}\")\n",
    "print(f\"final model: {models.final_estimator}\")\n",
    "print(f\"F1 mean score: {np.mean(outer_F1):.3f} +/- {np.std(outer_F1):.3f}\")\n",
    "print(f\"Precision mean: {np.mean(outer_Pre):.3f} +/- {np.std(outer_Pre):.3f}\")\n",
    "print(f\"Sensitivity mean: {np.mean(outer_Sens):.3f} +/- {np.std(outer_Sens):.3f}\")\n",
    "print(f\"Specificity mean: {np.mean(outer_Spec):.3f} +/- {np.std(outer_Spec):.3f}\")\n",
    "print(f\"NPV mean: {np.mean(outer_NPV):.3f} +/- {np.std(outer_NPV):.3f}\")\n",
    "print(f\"Accuracy mean: {np.mean(outer_Acc):.3f} +/- {np.std(outer_Acc):.3f}\")\n",
    "\n",
    "end = time.perf_counter()\n",
    "print(f\"Time taken: {(end - start)/60:.2f} minutes\")"
   ]
  },
  {
   "cell_type": "code",
   "execution_count": 10,
   "id": "b2e52e21-2c61-4acf-974d-2e4a83ce0db2",
   "metadata": {
    "tags": []
   },
   "outputs": [
    {
     "name": "stdout",
     "output_type": "stream",
     "text": [
      "StackingClassifier(estimators=[('dt',\n",
      "                                DecisionTreeClassifier(max_depth=5,\n",
      "                                                       max_features=0.5,\n",
      "                                                       max_leaf_nodes=7,\n",
      "                                                       random_state=42)),\n",
      "                               ('knn',\n",
      "                                KNeighborsClassifier(n_neighbors=4,\n",
      "                                                     weights='distance')),\n",
      "                               ('sgdc',\n",
      "                                SGDClassifier(alpha=0.01,\n",
      "                                              class_weight='balanced',\n",
      "                                              early_stopping=True, l1_ratio=0.1,\n",
      "                                              loss='huber',\n",
      "                                              penalty='elasticnet',\n",
      "                                              random_state=42)),\n",
      "                               ('lr',\n",
      "                                LogisticRegression(C=0.775,\n",
      "                                                   class_weight='balanced',\n",
      "                                                   intercept_scaling=2.5,\n",
      "                                                   multi_class='ovr',\n",
      "                                                   penalty='l1',\n",
      "                                                   random_state=42,\n",
      "                                                   solver='liblinear',\n",
      "                                                   tol=0.01))],\n",
      "                   final_estimator=SVC(class_weight='balanced', gamma=0.1,\n",
      "                                       probability=True, random_state=1),\n",
      "                   passthrough=True)\n",
      "accuracy : mean 0.961 and standard deviation (0.017)\n",
      "precision : mean 0.951 and standard deviation (0.063)\n",
      "recall : mean 0.844 and standard deviation (0.096)\n",
      "f1 : mean 0.888 and standard deviation (0.050)\n",
      "specificity: mean 0.988 and standard deviation (0.016)\n",
      "npv: mean 0.977 and standard deviation (0.028)\n",
      "final model: SVC(class_weight='balanced', gamma=0.1, probability=True, random_state=1)\n",
      "Time taken: 23.419998 seconds\n"
     ]
    }
   ],
   "source": [
    "start = time.perf_counter()\n",
    "\n",
    "best_model = search.fit(X_scaled, y_resampled).best_estimator_\n",
    "print(best_model)\n",
    "\n",
    "print_cv_metrics(model, X_scaled, y_resampled, cv_outer)\n",
    "\n",
    "end = time.perf_counter()\n",
    "print(f\"final model: {models.final_estimator}\")\n",
    "print(f\"Time taken: {end - start:.6f} seconds\")"
   ]
  },
  {
   "cell_type": "markdown",
   "id": "8b0ea91b-323a-4345-add4-b9bfafecd73f",
   "metadata": {},
   "source": [
    "# Other stacking combinations"
   ]
  },
  {
   "cell_type": "code",
   "execution_count": 11,
   "id": "f563091f-696a-41c1-aa4f-c8ee173f261e",
   "metadata": {
    "tags": []
   },
   "outputs": [
    {
     "name": "stdout",
     "output_type": "stream",
     "text": [
      "accuracy : mean 0.951 and standard deviation (0.025)\n",
      "precision : mean 0.902 and standard deviation (0.113)\n",
      "recall : mean 0.841 and standard deviation (0.038)\n",
      "f1 : mean 0.867 and standard deviation (0.062)\n",
      "specificity: mean 0.968 and standard deviation (0.028)\n",
      "npv: mean 0.962 and standard deviation (0.032)\n",
      "final model: DecisionTreeClassifier(max_depth=5, max_features=0.5, max_leaf_nodes=7,\n",
      "                       random_state=42)\n",
      "Time taken: 21.150909 seconds\n"
     ]
    }
   ],
   "source": [
    "#Define new estimators\n",
    "base_models2=[('svm', svm_nL), ('knn',knn), ('sgdc',sgdc), ('lr', lr)]\n",
    "\n",
    "# Initialize the voting classifier\n",
    "model2 = StackingClassifier(estimators = base_models2, \n",
    "                           final_estimator = dt, \n",
    "                           #cv = cv_outer,\n",
    "                           stack_method = 'auto',\n",
    "                           passthrough = True,\n",
    "                          )\n",
    "\n",
    "model2.fit(X_train, y_train)\n",
    "\n",
    "# define search\n",
    "search2 = GridSearchCV(model2, space, scoring='f1', n_jobs=1, cv=cv_inner, refit=True)\n",
    "\n",
    "start = time.perf_counter()\n",
    "\n",
    "best_model2 = search2.fit(X_scaled, y_resampled).best_estimator_\n",
    "#print(best_model)\n",
    "\n",
    "print_cv_metrics(model2, X_scaled, y_resampled, cv_outer)\n",
    "\n",
    "end = time.perf_counter()\n",
    "print(f\"final model: {model2.final_estimator}\")\n",
    "print(f\"Time taken: {end - start:.6f} seconds\")"
   ]
  },
  {
   "cell_type": "code",
   "execution_count": 12,
   "id": "7f366e42-fd78-44a4-9c9d-f2ea3f346762",
   "metadata": {},
   "outputs": [
    {
     "name": "stdout",
     "output_type": "stream",
     "text": [
      "accuracy : mean 0.941 and standard deviation (0.027)\n",
      "precision : mean 0.836 and standard deviation (0.072)\n",
      "recall : mean 0.861 and standard deviation (0.113)\n",
      "f1 : mean 0.843 and standard deviation (0.072)\n",
      "specificity: mean 0.964 and standard deviation (0.020)\n",
      "npv: mean 0.980 and standard deviation (0.018)\n",
      "final model: KNeighborsClassifier(n_neighbors=4, weights='distance')\n",
      "Time taken: 7.535778 seconds\n"
     ]
    }
   ],
   "source": [
    "#Define new estimators\n",
    "base_models3=[('svm', svm_nL), ('dt',dt), ('sgdc',sgdc), ('lr', lr)]\n",
    "\n",
    "# Initialize the voting classifier\n",
    "model3 = StackingClassifier(estimators = base_models3, \n",
    "                           final_estimator = knn, \n",
    "                           #cv = cv_outer,\n",
    "                           stack_method = 'auto',\n",
    "                           passthrough = True,\n",
    "                          )\n",
    "\n",
    "model3.fit(X_train, y_train)\n",
    "\n",
    "# define search\n",
    "search3 = GridSearchCV(model3, space, scoring='f1', n_jobs=1, cv=cv_inner, refit=True)\n",
    "\n",
    "start = time.perf_counter()\n",
    "\n",
    "best_model3 = search3.fit(X_scaled, y_resampled).best_estimator_\n",
    "#print(best_model)\n",
    "\n",
    "print_cv_metrics(model3, X_scaled, y_resampled, cv_outer)\n",
    "\n",
    "end = time.perf_counter()\n",
    "print(f\"final model: {model3.final_estimator}\")\n",
    "print(f\"Time taken: {end - start:.6f} seconds\")"
   ]
  },
  {
   "cell_type": "code",
   "execution_count": 13,
   "id": "8a752a5a-e98d-41f4-9e24-99361f19dde2",
   "metadata": {
    "tags": []
   },
   "outputs": [
    {
     "name": "stdout",
     "output_type": "stream",
     "text": [
      "accuracy : mean 0.954 and standard deviation (0.019)\n",
      "precision : mean 0.911 and standard deviation (0.050)\n",
      "recall : mean 0.844 and standard deviation (0.096)\n",
      "f1 : mean 0.872 and standard deviation (0.056)\n",
      "specificity: mean 0.980 and standard deviation (0.022)\n",
      "npv: mean 0.974 and standard deviation (0.033)\n",
      "final model: SGDClassifier(alpha=0.01, class_weight='balanced', early_stopping=True,\n",
      "              l1_ratio=0.1, loss='huber', penalty='elasticnet',\n",
      "              random_state=42)\n",
      "Time taken: 19.699504 seconds\n"
     ]
    }
   ],
   "source": [
    "#Define new estimators\n",
    "base_models4=[('svm', svm_nL), ('dt',dt), ('knn', knn), ('lr', lr)]\n",
    "\n",
    "# Initialize the voting classifier\n",
    "model4 = StackingClassifier(estimators = base_models4, \n",
    "                           final_estimator = sgdc, \n",
    "                           #cv = cv_outer,\n",
    "                           stack_method = 'auto',\n",
    "                           passthrough = True,\n",
    "                          )\n",
    "\n",
    "model4.fit(X_train, y_train)\n",
    "\n",
    "# define search\n",
    "search4 = GridSearchCV(model4, space, scoring='f1', n_jobs=1, cv=cv_inner, refit=True)\n",
    "\n",
    "start = time.perf_counter()\n",
    "\n",
    "best_model4 = search4.fit(X_scaled, y_resampled).best_estimator_\n",
    "#print(best_model)\n",
    "\n",
    "print_cv_metrics(model4, X_scaled, y_resampled, cv_outer)\n",
    "\n",
    "end = time.perf_counter()\n",
    "print(f\"final model: {model4.final_estimator}\")\n",
    "print(f\"Time taken: {end - start:.6f} seconds\")"
   ]
  },
  {
   "cell_type": "code",
   "execution_count": 14,
   "id": "b36c34c7-f5b1-4fe7-aa9f-18f746b8b823",
   "metadata": {
    "tags": []
   },
   "outputs": [
    {
     "name": "stdout",
     "output_type": "stream",
     "text": [
      "accuracy : mean 0.944 and standard deviation (0.017)\n",
      "precision : mean 0.837 and standard deviation (0.085)\n",
      "recall : mean 0.895 and standard deviation (0.065)\n",
      "f1 : mean 0.859 and standard deviation (0.031)\n",
      "specificity: mean 0.967 and standard deviation (0.036)\n",
      "npv: mean 0.981 and standard deviation (0.024)\n",
      "final model: LogisticRegression(C=0.775, class_weight='balanced', intercept_scaling=2.5,\n",
      "                   multi_class='ovr', penalty='l1', random_state=42,\n",
      "                   solver='liblinear', tol=0.01)\n",
      "Time taken: 21.034941 seconds\n"
     ]
    }
   ],
   "source": [
    "#Define new estimators\n",
    "base_models5=[('svm', svm_nL), ('dt',dt), ('knn', knn), ('sgdc', sgdc)]\n",
    "\n",
    "# Initialize the voting classifier\n",
    "model5 = StackingClassifier(estimators = base_models5, \n",
    "                           final_estimator = lr, \n",
    "                           #cv = cv_outer,\n",
    "                           stack_method = 'auto',\n",
    "                           passthrough = True,\n",
    "                          )\n",
    "\n",
    "model5.fit(X_train, y_train)\n",
    "\n",
    "# define search\n",
    "search5 = GridSearchCV(model5, space, scoring='f1', n_jobs=1, cv=cv_inner, refit=True)\n",
    "\n",
    "start = time.perf_counter()\n",
    "\n",
    "best_model5 = search5.fit(X_scaled, y_resampled).best_estimator_\n",
    "#print(best_model)\n",
    "\n",
    "print_cv_metrics(model5, X_scaled, y_resampled, cv_outer)\n",
    "\n",
    "end = time.perf_counter()\n",
    "print(f\"final model: {model5.final_estimator}\")\n",
    "print(f\"Time taken: {end - start:.6f} seconds\")"
   ]
  },
  {
   "cell_type": "code",
   "execution_count": 15,
   "id": "30a707c4-e78c-433d-baa7-08647da6723a",
   "metadata": {
    "tags": []
   },
   "outputs": [
    {
     "name": "stdout",
     "output_type": "stream",
     "text": [
      "accuracy : mean 0.937 and standard deviation (0.022)\n",
      "precision : mean 0.805 and standard deviation (0.082)\n",
      "recall : mean 0.895 and standard deviation (0.031)\n",
      "f1 : mean 0.845 and standard deviation (0.048)\n",
      "specificity: mean 0.927 and standard deviation (0.067)\n",
      "npv: mean 0.980 and standard deviation (0.018)\n",
      "final model: SVC(class_weight='balanced', gamma=0.1, kernel='linear', probability=True,\n",
      "    random_state=1)\n",
      "Time taken: 19.162884 seconds\n"
     ]
    }
   ],
   "source": [
    "#Define new estimators\n",
    "base_models6=[('lr', lr), ('dt',dt), ('knn', knn), ('sgdc', sgdc)]\n",
    "\n",
    "# Initialize the voting classifier\n",
    "model6 = StackingClassifier(estimators = base_models6, \n",
    "                           final_estimator = svm_L, \n",
    "                           #cv = cv_outer,\n",
    "                           stack_method = 'auto',\n",
    "                           passthrough = True,\n",
    "                          )\n",
    "\n",
    "#model6.fit(X_train, y_train)\n",
    "\n",
    "# define search\n",
    "search6 = GridSearchCV(model6, space, scoring='f1', n_jobs=1, cv=cv_inner, refit=True)\n",
    "\n",
    "start = time.perf_counter()\n",
    "\n",
    "best_model6 = search6.fit(X_scaled, y_resampled).best_estimator_\n",
    "#print(best_model)\n",
    "\n",
    "print_cv_metrics(model6, X_scaled, y_resampled, cv_outer)\n",
    "\n",
    "end = time.perf_counter()\n",
    "print(f\"final model: {model6.final_estimator}\")\n",
    "print(f\"Time taken: {end - start:.6f} seconds\")"
   ]
  }
 ],
 "metadata": {
  "kernelspec": {
   "display_name": "Python 3 (ipykernel)",
   "language": "python",
   "name": "python3"
  },
  "language_info": {
   "codemirror_mode": {
    "name": "ipython",
    "version": 3
   },
   "file_extension": ".py",
   "mimetype": "text/x-python",
   "name": "python",
   "nbconvert_exporter": "python",
   "pygments_lexer": "ipython3",
   "version": "3.10.9"
  }
 },
 "nbformat": 4,
 "nbformat_minor": 5
}
