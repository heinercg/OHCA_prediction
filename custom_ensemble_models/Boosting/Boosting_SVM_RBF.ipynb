{
 "cells": [
  {
   "cell_type": "code",
   "execution_count": 1,
   "id": "372cef01-e9b3-4413-a439-ee803aefcf91",
   "metadata": {
    "tags": []
   },
   "outputs": [
    {
     "name": "stdout",
     "output_type": "stream",
     "text": [
      "Looking in indexes: https://devpi.svc.ngsci.local/root/pypi/+simple/\n",
      "Requirement already satisfied: pip in /opt/venv/default/lib/python3.10/site-packages (22.3.1)\n",
      "Collecting pip\n",
      "  Downloading https://devpi.svc.ngsci.local/root/pypi/%2Bf/c46/efd13b6aa8279/pip-25.0.1-py3-none-any.whl (1.8 MB)\n",
      "\u001b[2K     \u001b[90m━━━━━━━━━━━━━━━━━━━━━━━━━━━━━━━━━━━━━━━━\u001b[0m \u001b[32m1.8/1.8 MB\u001b[0m \u001b[31m15.9 MB/s\u001b[0m eta \u001b[36m0:00:00\u001b[0m:00:01\u001b[0m\n",
      "\u001b[?25hInstalling collected packages: pip\n",
      "  Attempting uninstall: pip\n",
      "    Found existing installation: pip 22.3.1\n",
      "    Uninstalling pip-22.3.1:\n",
      "      Successfully uninstalled pip-22.3.1\n",
      "Successfully installed pip-25.0.1\n",
      "\u001b[33mWARNING: There was an error checking the latest version of pip.\u001b[0m\u001b[33m\n",
      "\u001b[0mLooking in indexes: https://devpi.svc.ngsci.local/root/pypi/+simple/\n",
      "Collecting imblearn\n",
      "  Using cached https://devpi.svc.ngsci.local/root/pypi/%2Bf/d42/c2d709d22c00d/imblearn-0.0-py2.py3-none-any.whl (1.9 kB)\n",
      "Collecting imbalanced-learn (from imblearn)\n",
      "  Using cached https://devpi.svc.ngsci.local/root/pypi/%2Bf/7eb/5859f7827cb3b/imbalanced_learn-0.13.0-py3-none-any.whl (238 kB)\n",
      "INFO: pip is looking at multiple versions of imbalanced-learn to determine which version is compatible with other requirements. This could take a while.\n",
      "  Using cached https://devpi.svc.ngsci.local/root/pypi/%2Bf/d47/fc599160d3ea8/imbalanced_learn-0.12.4-py3-none-any.whl (258 kB)\n",
      "Requirement already satisfied: numpy>=1.17.3 in /opt/venv/default/lib/python3.10/site-packages (from imbalanced-learn->imblearn) (1.23.5)\n",
      "Requirement already satisfied: scipy>=1.5.0 in /opt/venv/default/lib/python3.10/site-packages (from imbalanced-learn->imblearn) (1.10.1)\n",
      "Requirement already satisfied: scikit-learn>=1.0.2 in /opt/venv/default/lib/python3.10/site-packages (from imbalanced-learn->imblearn) (1.2.2)\n",
      "Requirement already satisfied: joblib>=1.1.1 in /opt/venv/default/lib/python3.10/site-packages (from imbalanced-learn->imblearn) (1.2.0)\n",
      "Requirement already satisfied: threadpoolctl>=2.0.0 in /opt/venv/default/lib/python3.10/site-packages (from imbalanced-learn->imblearn) (3.1.0)\n",
      "Installing collected packages: imbalanced-learn, imblearn\n",
      "Successfully installed imbalanced-learn-0.12.4 imblearn-0.0\n",
      "Looking in indexes: https://devpi.svc.ngsci.local/root/pypi/+simple/\n",
      "Collecting scikit-optimize\n",
      "  Using cached https://devpi.svc.ngsci.local/root/pypi/%2Bf/45b/c7e879b086133/scikit_optimize-0.10.2-py2.py3-none-any.whl (107 kB)\n",
      "Requirement already satisfied: joblib>=0.11 in /opt/venv/default/lib/python3.10/site-packages (from scikit-optimize) (1.2.0)\n",
      "Collecting pyaml>=16.9 (from scikit-optimize)\n",
      "  Using cached https://devpi.svc.ngsci.local/root/pypi/%2Bf/f7b/40629d2dae880/pyaml-25.1.0-py3-none-any.whl (26 kB)\n",
      "Requirement already satisfied: numpy>=1.20.3 in /opt/venv/default/lib/python3.10/site-packages (from scikit-optimize) (1.23.5)\n",
      "Requirement already satisfied: scipy>=1.1.0 in /opt/venv/default/lib/python3.10/site-packages (from scikit-optimize) (1.10.1)\n",
      "Requirement already satisfied: scikit-learn>=1.0.0 in /opt/venv/default/lib/python3.10/site-packages (from scikit-optimize) (1.2.2)\n",
      "Requirement already satisfied: packaging>=21.3 in /opt/venv/default/lib/python3.10/site-packages (from scikit-optimize) (23.1)\n",
      "Requirement already satisfied: PyYAML in /opt/venv/default/lib/python3.10/site-packages (from pyaml>=16.9->scikit-optimize) (6.0)\n",
      "Requirement already satisfied: threadpoolctl>=2.0.0 in /opt/venv/default/lib/python3.10/site-packages (from scikit-learn>=1.0.0->scikit-optimize) (3.1.0)\n",
      "Installing collected packages: pyaml, scikit-optimize\n",
      "Successfully installed pyaml-25.1.0 scikit-optimize-0.10.2\n"
     ]
    }
   ],
   "source": [
    "!pip install --upgrade pip\n",
    "!pip install imblearn\n",
    "!pip install scikit-optimize"
   ]
  },
  {
   "cell_type": "code",
   "execution_count": 2,
   "id": "f6bf21cf-eb40-4247-a478-ffcc4c30528f",
   "metadata": {},
   "outputs": [],
   "source": [
    "# Import necessary libraries\n",
    "import pandas as pd\n",
    "import os\n",
    "import numpy as np\n",
    "import matplotlib.pyplot as plt\n",
    "from sklearn.model_selection import train_test_split\n",
    "from sklearn.metrics import confusion_matrix, classification_report\n",
    "from imblearn.over_sampling import SMOTE\n",
    "import seaborn as sns\n",
    "from sklearn.metrics import accuracy_score, precision_score, recall_score, f1_score, make_scorer\n",
    "from sklearn.preprocessing import StandardScaler\n",
    "from imblearn.metrics import specificity_score\n",
    "from sklearn.model_selection import cross_val_score, StratifiedKFold, GridSearchCV\n",
    "from sklearn.ensemble import AdaBoostClassifier\n",
    "\n",
    "#Import classifier libraries\n",
    "from sklearn import svm\n",
    "import itertools\n",
    "import time\n",
    "from skopt import BayesSearchCV\n",
    "from skopt.space import Real, Integer, Categorical"
   ]
  },
  {
   "cell_type": "code",
   "execution_count": 3,
   "id": "421ae5c2-8954-4eda-853d-3e82894a148d",
   "metadata": {
    "tags": []
   },
   "outputs": [],
   "source": [
    "# Function to evaluate the model\n",
    "def evaluate_model(model, X, y):\n",
    "    \"\"\"\n",
    "    Calculate Evluation metrics for a given model and dataset.\n",
    "    \n",
    "    Parameters:\n",
    "    model : sklearn model\n",
    "        The trained model used to predict the labels.\n",
    "    X : array-like or DataFrame\n",
    "        The input data used for prediction.\n",
    "    y : array-like or Series\n",
    "        The true labels of the data.\n",
    "    \n",
    "    Returns:\n",
    "    accuracy : float\n",
    "        The Accuracy of the model.\n",
    "    precision or PPV : float\n",
    "        The Accuracy Precision or PPV the model.\n",
    "    recall : float\n",
    "        The Recall of the model.\n",
    "    specificity : float\n",
    "        The Specificity of the model.\n",
    "    f1-score : float\n",
    "        The f1-score of the model.\n",
    "    auc_roc : float\n",
    "        The auc_roc of the model.\n",
    "    npv : float\n",
    "        The Negative Predictive Value (NPV) of the model.\n",
    "    \"\"\"\n",
    "    y_pred = model.predict(X)\n",
    "    #y_prob = model.predict_proba(X)[:, 1]  # Probability estimates for the positive class\n",
    "\n",
    "    accuracy = accuracy_score(y, y_pred)\n",
    "    precision = precision_score(y, y_pred)\n",
    "    recall = recall_score(y, y_pred)\n",
    "    specificity = specificity_score(y, y_pred)\n",
    "    \n",
    "    f1 = f1_score(y, y_pred)\n",
    "    npv = calculate_npv(y, y_pred)\n",
    "\n",
    "    return accuracy, precision, recall, specificity, npv, f1\n",
    "\n",
    "# Plot the AUC-ROC curve for each set\n",
    "def plot_roc_curve(model, X, y, set_name):\n",
    "    y_prob = model.predict_proba(X)[:, 1]\n",
    "    fpr, tpr, _ = roc_curve(y, y_prob)\n",
    "    roc_auc = auc(fpr, tpr)\n",
    "\n",
    "    plt.figure()\n",
    "    plt.plot(fpr, tpr, color='darkorange', lw=2, label='ROC curve (area = %0.2f)' % roc_auc)\n",
    "    plt.plot([0, 1], [0, 1], color='navy', lw=2, linestyle='--')\n",
    "    plt.xlim([0.0, 1.0])\n",
    "    plt.ylim([0.0, 1.05])\n",
    "    plt.xlabel('False Positive Rate')\n",
    "    plt.ylabel('True Positive Rate')\n",
    "    plt.title('Receiver Operating Characteristic (ROC) - ' + set_name)\n",
    "    plt.legend(loc=\"lower right\")\n",
    "    plt.show()\n",
    "\n",
    "    # Function to plot confusion matrix\n",
    "def plot_confusion_matrix(y_true, y_pred, set_name):\n",
    "    cm = confusion_matrix(y_true, y_pred)\n",
    "    plt.figure(figsize=(6, 4))\n",
    "    sns.heatmap(cm, annot=True, fmt='d', cmap='Blues', cbar=False)\n",
    "    plt.xlabel('Predicted')\n",
    "    plt.ylabel('True')\n",
    "    plt.title(f'Confusion Matrix - {set_name}')\n",
    "    plt.show()\n",
    "    \n",
    "def calculate_npv(y, y_pred):\n",
    "    \"\"\"\n",
    "    Calculate the Negative Predictive Value (NPV) for a given model and dataset.\n",
    "    \n",
    "    Parameters:\n",
    "    model : sklearn model\n",
    "        The trained model used to predict the labels.\n",
    "    X : array-like or DataFrame\n",
    "        The input data used for prediction.\n",
    "    y : array-like or Series\n",
    "        The true labels of the data.\n",
    "    \n",
    "    Returns:\n",
    "    npv : float\n",
    "        The Negative Predictive Value (NPV) of the model.\n",
    "    \"\"\"\n",
    "    \n",
    "    # Generate the confusion matrix\n",
    "    tn, fp, fn, tp = confusion_matrix(y, y_pred).ravel()\n",
    "    \n",
    "    # Calculate NPV\n",
    "    npv = tn / (tn + fn)\n",
    "    \n",
    "    return npv \n",
    "\n",
    "def show_model_eval(model, X, y, data_type):\n",
    "    metrics = evaluate_model(model, X, y)\n",
    "    print(\"\\n \",data_type, \" Metrics:\")\n",
    "    print(\"Accuracy: {:.2f}\".format(metrics[0]))\n",
    "    print(\"Precision: {:.2f}\".format(metrics[1]))\n",
    "    print(\"Recall: {:.2f}\".format(metrics[2]))\n",
    "    print(\"Specificity: {:.2f}\".format(metrics[3]))\n",
    "    print(\"Negative Predictive Value: {:.2f}\".format(metrics[4]))\n",
    "    print(\"F1-Score: {:.2f}\".format(metrics[5]))\n",
    "    \n",
    "    #Plot Confusion Matrix\n",
    "    y_pred = model.predict(X)\n",
    "    plot_confusion_matrix(y, y_pred, data_type)\n",
    "\n",
    "def print_train_val_metrics(metrics_train, metrics_val):\n",
    "    print(\"Train Set Metrics\")\n",
    "    print(\"Accuracy: {:.2f}\".format(metrics_train[0]))\n",
    "    print(\"Precision: {:.2f}\".format(metrics_train[1]))\n",
    "    print(\"Recall: {:.2f}\".format(metrics_train[2]))\n",
    "    print(\"Specificity: {:.2f}\".format(metrics_train[3]))\n",
    "    print(\"Negative Predictive Value: {:.2f}\".format(metrics_train[4]))\n",
    "    print(\"F1-Score: {:.2f}\".format(metrics_train[5]))\n",
    "\n",
    "    print(\"\\nValidation Set Metrics:\")\n",
    "    print(\"Accuracy: {:.2f}\".format(metrics_val[0]))\n",
    "    print(\"Precision: {:.2f}\".format(metrics_val[1]))\n",
    "    print(\"Recall: {:.2f}\".format(metrics_val[2]))\n",
    "    print(\"Specificity: {:.2f}\".format(metrics_val[3]))\n",
    "    print(\"Negative Predictive Value: {:.2f}\".format(metrics_val[4]))\n",
    "    print(\"F1-Score: {:.2f}\".format(metrics_val[5]))\n",
    "    \n",
    "def print_cv_metrics(model,X,y,cv):\n",
    "    metrics = ['accuracy', 'precision', 'recall', 'f1']\n",
    "\n",
    "    #caculate the metrics using cross validation\n",
    "    for metric in metrics:\n",
    "        score = cross_val_score(model, X, y, scoring=metric, cv=cv, n_jobs=-1)\n",
    "        print(metric, ': mean %.3f and standard deviation (%.3f)' % (np.mean(score), np.std(score)))\n",
    "\n",
    "    #find the specificity\n",
    "    specificity = cross_val_score(model, X, y, scoring=make_scorer(recall_score, pos_label=0))\n",
    "    print('specificity: mean %.3f and standard deviation (%.3f)' % (np.mean(specificity), np.std(specificity)))\n",
    "\n",
    "    #find the npv\n",
    "    npvs = cross_val_score(model, X, y, scoring=make_scorer(precision_score, pos_label=0))\n",
    "    print('npv: mean %.3f and standard deviation (%.3f)' % (np.mean(npvs), np.std(npvs)))\n",
    "    \n"
   ]
  },
  {
   "cell_type": "code",
   "execution_count": 4,
   "id": "7bb1c0dd-1bb1-4c97-aa50-68b485155669",
   "metadata": {
    "tags": []
   },
   "outputs": [
    {
     "name": "stdout",
     "output_type": "stream",
     "text": [
      "(19, 26)\n",
      "(247, 26)\n"
     ]
    }
   ],
   "source": [
    "#Read data\n",
    "filter_dir = os.path.join('/','home','ngsci','project','csv_files_and_genarators')\n",
    "data_positive_label = pd.read_csv(os.path.join(filter_dir,'data_OHCA_preECGs_w24h.csv'))\n",
    "data_negative_label = pd.read_csv(os.path.join(filter_dir,'data_ctrg_preECGs_wNdays.csv'))\n",
    "\n",
    "print(data_positive_label.shape)\n",
    "print(data_negative_label.shape)\n",
    "\n",
    "#Concatanete both datasets\n",
    "dataset_df = pd.concat([data_negative_label,data_positive_label], ignore_index=True)\n",
    "\n",
    "#Remove IDs\n",
    "dataset_df = dataset_df.drop(columns=['ecg_id', 'patient_id'])\n"
   ]
  },
  {
   "cell_type": "code",
   "execution_count": 42,
   "id": "825027ac-0940-42ea-8733-460163fdb412",
   "metadata": {
    "tags": []
   },
   "outputs": [
    {
     "name": "stdout",
     "output_type": "stream",
     "text": [
      "Original dataset shape: (266, 24)\n",
      "Resampled dataset shape: (304, 24)\n",
      "Original class distribution:\n",
      " label\n",
      "0    247\n",
      "1     19\n",
      "Name: count, dtype: int64\n",
      "Resampled class distribution:\n",
      " label\n",
      "0    247\n",
      "1     57\n",
      "Name: count, dtype: int64\n"
     ]
    }
   ],
   "source": [
    "ran_num=42\n",
    "#Apply SMOTE to minority class\n",
    "X = dataset_df.drop('label', axis=1)  # Features\n",
    "y = dataset_df['label']  # Labels\n",
    "\n",
    "# Count the current number of labels\n",
    "count_label_1 = sum(y == 1)\n",
    "\n",
    "# Initialize SMOTE with the desired ratio\n",
    "resampling_factor=3\n",
    "smote = SMOTE(sampling_strategy={1: count_label_1*resampling_factor}, random_state=ran_num)\n",
    "\n",
    "# Apply SMOTE\n",
    "X_resampled, y_resampled = smote.fit_resample(X, y)\n",
    "\n",
    "#Standarize the dataset\n",
    "scaler = StandardScaler()\n",
    "X_scaled = scaler.fit_transform(X_resampled)\n",
    "\n",
    "# Create a new dataframe with the resampled data\n",
    "resampled_df = pd.concat([pd.DataFrame(X_scaled, columns=X.columns), pd.DataFrame(y_resampled, columns=['label'])], axis=1)\n",
    "\n",
    "print(\"Original dataset shape:\", dataset_df.shape)\n",
    "print(\"Resampled dataset shape:\", resampled_df.shape)\n",
    "print(\"Original class distribution:\\n\", dataset_df['label'].value_counts())\n",
    "print(\"Resampled class distribution:\\n\", resampled_df['label'].value_counts())"
   ]
  },
  {
   "cell_type": "code",
   "execution_count": 43,
   "id": "eeda5a11-9471-41bd-8898-2c4dafba822e",
   "metadata": {
    "tags": []
   },
   "outputs": [],
   "source": [
    "# Split the dataset into training, validation, and testing sets\n",
    "train_df, val_df = train_test_split(resampled_df, test_size=0.3, random_state=ran_num)\n",
    "\n",
    "# Define the features (X) and target (y)\n",
    "X_train = train_df.drop('label', axis=1)\n",
    "y_train = train_df['label']\n",
    "X_val = val_df.drop('label', axis=1)\n",
    "y_val = val_df['label']"
   ]
  },
  {
   "cell_type": "code",
   "execution_count": 44,
   "id": "814023d3-f138-4d43-a000-edc5a7b94f36",
   "metadata": {
    "tags": []
   },
   "outputs": [
    {
     "name": "stdout",
     "output_type": "stream",
     "text": [
      "The number of samples in the validation set with positive class is:  17\n",
      "The number of samples in the training set with positive class is:  40\n"
     ]
    }
   ],
   "source": [
    "print ('The number of samples in the validation set with positive class is: ', np.count_nonzero(y_val == 1))\n",
    "print ('The number of samples in the training set with positive class is: ', np.count_nonzero(y_train == 1))"
   ]
  },
  {
   "cell_type": "code",
   "execution_count": 45,
   "id": "7cbefb74-be3e-44db-9dfa-4210e4ce3f68",
   "metadata": {
    "tags": []
   },
   "outputs": [],
   "source": [
    "#svm_b = svm.SVC(class_weight='balanced', gamma=0.1, probability=True, random_state=ran_num)\n",
    "svm_b =svm.SVC(gamma=0.1, \n",
    "               probability=True,    #Fixed True \n",
    "               #tol=0.001, \n",
    "               random_state=ran_num)\n",
    "\n",
    "#Define everything for CV searching\n",
    "inner_folds = 3\n",
    "outer_folds = 5\n",
    "# configure the cross-validation procedure\n",
    "cv_inner = StratifiedKFold(n_splits=inner_folds, shuffle=True, random_state=ran_num)\n",
    "cv_outer = StratifiedKFold(n_splits=outer_folds, shuffle=True, random_state=ran_num)\n",
    "# define search space\n",
    "space = {'n_estimators': [3, 4, 5], 'learning_rate': [0.1, 0.2, 0.3]}\n",
    "# define the model\n",
    "models = AdaBoostClassifier(estimator=svm_b, random_state=ran_num)\n",
    "# define search\n",
    "search = GridSearchCV(models, space, scoring='f1', n_jobs=1, cv=cv_inner, refit=True)"
   ]
  },
  {
   "cell_type": "code",
   "execution_count": 46,
   "id": "dca24143-0d4f-494a-8b32-28e8c9ee8541",
   "metadata": {
    "tags": []
   },
   "outputs": [
    {
     "name": "stdout",
     "output_type": "stream",
     "text": [
      "[0.9333333333333333]\n",
      "[0.9333333333333333, 0.9411764705882353]\n",
      "[0.9333333333333333, 0.9411764705882353, 0.875]\n",
      "[0.9333333333333333, 0.9411764705882353, 0.875, 0.4]\n",
      "[0.9333333333333333, 0.9411764705882353, 0.875, 0.4, 0.7692307692307693]\n",
      "F1 mean score: 0.784 +/- 0.201\n",
      "Precision mean: 0.953 +/- 0.058\n",
      "Sensitivity mean: 0.725 +/- 0.267\n",
      "Specificity mean: 0.988 +/- 0.014\n",
      "NPV mean: 0.942 +/- 0.053\n",
      "Accuracy mean: 0.938 +/- 0.044\n",
      "Time taken: 0.04 minutes\n"
     ]
    }
   ],
   "source": [
    "start = time.perf_counter()\n",
    "\n",
    "# Perform nested cross-validation\n",
    "outer_F1 = []\n",
    "outer_Pre = []\n",
    "outer_Sens = []\n",
    "outer_Spec = []\n",
    "outer_Acc = []\n",
    "outer_NPV = []\n",
    "\n",
    "def run_nested_CV(X_scaled, y_resampled):\n",
    "    for train_idx, test_idx in cv_outer.split(X_scaled, y_resampled):\n",
    "        X_cv_train, X_test = X_scaled[train_idx], X_scaled[test_idx]\n",
    "        y_cv_train, y_test = y_resampled[train_idx], y_resampled[test_idx]\n",
    "\n",
    "        search.fit(X_cv_train, y_cv_train)\n",
    "\n",
    "        # Train the model with the best hyperparameters on the outer training fold\n",
    "        best_model = search.best_estimator_\n",
    "        best_model.fit(X_cv_train, y_cv_train)\n",
    "\n",
    "        # Evaluate the model on the outer validation fold\n",
    "        y_pred = best_model.predict(X_test)\n",
    "        outer_F1.append(f1_score(y_test, y_pred))\n",
    "        print(outer_F1)\n",
    "        outer_Pre.append(precision_score(y_test, y_pred))\n",
    "        outer_Sens.append(recall_score(y_test, y_pred))\n",
    "        outer_Acc.append(accuracy_score(y_test, y_pred))\n",
    "        outer_Spec.append(specificity_score(y_test, y_pred))\n",
    "        npv = calculate_npv(y_test, y_pred)\n",
    "        outer_NPV.append(npv)\n",
    "    \n",
    "    # Report the mean and standard deviation of the scores across the outer folds\n",
    "    #print(f\"F1 nested cross-validation scores: {outer_scores}\")\n",
    "    print(f\"F1 mean score: {np.mean(outer_F1):.3f} +/- {np.std(outer_F1):.3f}\")\n",
    "    print(f\"Precision mean: {np.mean(outer_Pre):.3f} +/- {np.std(outer_Pre):.3f}\")\n",
    "    print(f\"Sensitivity mean: {np.mean(outer_Sens):.3f} +/- {np.std(outer_Sens):.3f}\")\n",
    "    print(f\"Specificity mean: {np.mean(outer_Spec):.3f} +/- {np.std(outer_Spec):.3f}\")\n",
    "    print(f\"NPV mean: {np.mean(outer_NPV):.3f} +/- {np.std(outer_NPV):.3f}\")\n",
    "    print(f\"Accuracy mean: {np.mean(outer_Acc):.3f} +/- {np.std(outer_Acc):.3f}\")\n",
    "\n",
    "    end = time.perf_counter()\n",
    "    print(f\"Time taken: {(end - start)/60:.2f} minutes\")\n",
    "\n",
    "run_nested_CV(X_train.to_numpy(), y_train.to_numpy())"
   ]
  },
  {
   "cell_type": "code",
   "execution_count": 47,
   "id": "1fd96bd5-ba2d-48da-be73-f916c9548260",
   "metadata": {
    "tags": []
   },
   "outputs": [
    {
     "name": "stdout",
     "output_type": "stream",
     "text": [
      "AdaBoostClassifier(estimator=SVC(gamma=0.1, probability=True, random_state=42),\n",
      "                   learning_rate=0.1, n_estimators=4, random_state=42)\n",
      "accuracy : mean 0.962 and standard deviation (0.028)\n",
      "precision : mean 0.956 and standard deviation (0.089)\n",
      "recall : mean 0.850 and standard deviation (0.122)\n",
      "f1 : mean 0.892 and standard deviation (0.083)\n",
      "specificity: mean 0.988 and standard deviation (0.014)\n",
      "npv: mean 0.946 and standard deviation (0.027)\n",
      "Time taken: 2.860448 seconds\n"
     ]
    }
   ],
   "source": [
    "start = time.perf_counter()\n",
    "\n",
    "best_model = search.fit(X_train.to_numpy(), y_train.to_numpy()).best_estimator_\n",
    "print(best_model)\n",
    "\n",
    "cv_metrics = StratifiedKFold(n_splits=outer_folds, shuffle=True, random_state=2)\n",
    "\n",
    "print_cv_metrics(best_model, X_train.to_numpy(), y_train.to_numpy(), cv_metrics)\n",
    "\n",
    "end = time.perf_counter()\n",
    "print(f\"Time taken: {end - start:.6f} seconds\")"
   ]
  },
  {
   "cell_type": "code",
   "execution_count": 48,
   "id": "a3b5d2a1-36c9-4706-8be3-ae956a372a2f",
   "metadata": {
    "tags": []
   },
   "outputs": [
    {
     "name": "stdout",
     "output_type": "stream",
     "text": [
      "\n",
      "  Validation set  Metrics:\n",
      "Accuracy: 0.98\n",
      "Precision: 0.94\n",
      "Recall: 0.94\n",
      "Specificity: 0.99\n",
      "Negative Predictive Value: 0.99\n",
      "F1-Score: 0.94\n"
     ]
    },
    {
     "data": {
      "image/png": "[encoded data removed]",
      "text/plain": [
       "<Figure size 600x400 with 1 Axes>"
      ]
     },
     "metadata": {},
     "output_type": "display_data"
    }
   ],
   "source": [
    "#print_cv_metrics(best_model, X_val.to_numpy(), y_val.to_numpy(), cv_metrics)\n",
    "show_model_eval(best_model, X_val.to_numpy(), y_val.to_numpy(), 'Validation set')"
   ]
  },
  {
   "cell_type": "code",
   "execution_count": 44,
   "id": "4b42de91-55bd-4683-adf8-9e9030008352",
   "metadata": {
    "tags": []
   },
   "outputs": [
    {
     "name": "stdout",
     "output_type": "stream",
     "text": [
      "AdaBoostClassifier(estimator=SVC(gamma=0.1, probability=True, random_state=42),\n",
      "                   random_state=42)\n",
      "Best hyperparameters: OrderedDict([('learning_rate', 0.44625537837458307), ('n_estimators', 3)])\n",
      "Best score: 0.0\n",
      "Time taken: 2.61 minutes\n"
     ]
    }
   ],
   "source": [
    "#Find the best model using Bayesian optimization\n",
    "start = time.perf_counter()\n",
    "# The search_space can now be passed to BayesSearchCV\n",
    "# the model is model\n",
    "print(models)\n",
    "\n",
    "# Define the search space\n",
    "# Define the search space\n",
    "search_space = {\n",
    "    'n_estimators': Integer(2, 5),\n",
    "    'learning_rate': Real(0.1, 0.5),\n",
    "    }\n",
    "\n",
    "# Create the Bayesian optimization object\n",
    "optimizer = BayesSearchCV(\n",
    "    models,\n",
    "    search_space,\n",
    "    n_iter=100,\n",
    "    cv=5,\n",
    "    n_jobs=-1,\n",
    "    scoring='f1',\n",
    "    random_state=2\n",
    ")\n",
    "\n",
    "# Fit the optimizer to the data\n",
    "optimizer.fit(X_resampled, y_resampled)\n",
    "\n",
    "# Print the best hyperparameters and score\n",
    "print(\"Best hyperparameters:\", optimizer.best_params_)\n",
    "print(\"Best score:\", optimizer.best_score_)\n",
    "\n",
    "end = time.perf_counter()\n",
    "print(f\"Time taken: {(end - start)/60:.2f} minutes\")"
   ]
  },
  {
   "cell_type": "code",
   "execution_count": 45,
   "id": "8b8d7eef-f866-4579-a9f4-3a8796bda1f1",
   "metadata": {
    "tags": []
   },
   "outputs": [
    {
     "name": "stdout",
     "output_type": "stream",
     "text": [
      "accuracy : mean 0.974 and standard deviation (0.017)\n",
      "precision : mean 0.965 and standard deviation (0.043)\n",
      "recall : mean 0.898 and standard deviation (0.097)\n",
      "f1 : mean 0.926 and standard deviation (0.048)\n",
      "specificity: mean 0.984 and standard deviation (0.015)\n",
      "npv: mean 0.977 and standard deviation (0.030)\n"
     ]
    }
   ],
   "source": [
    "#Test the best model found \n",
    "best_BScv = optimizer.best_estimator_\n",
    "\n",
    "#Test best score in training\n",
    "\n",
    "print_cv_metrics(best_BScv, X_scaled, y_resampled, cv_metrics)"
   ]
  },
  {
   "cell_type": "markdown",
   "id": "8b0ea91b-323a-4345-add4-b9bfafecd73f",
   "metadata": {},
   "source": [
    "# END"
   ]
  },
  {
   "cell_type": "code",
   "execution_count": 35,
   "id": "c22e8baa-119a-4a33-8789-d8578f681aad",
   "metadata": {
    "tags": []
   },
   "outputs": [
    {
     "name": "stdout",
     "output_type": "stream",
     "text": [
      "Nested CV f1-score: mean 0.8979 and standard deviation (0.0372)\n",
      "AdaBoostClassifier(estimator=SVC(gamma=0.1, probability=True, random_state=42),\n",
      "                   learning_rate=0.2, n_estimators=3, random_state=42)\n",
      "CV F1-score : mean 0.87890 and std. deviation (0.028)\n",
      "Time taken: 0.941740 seconds\n"
     ]
    }
   ],
   "source": [
    "\n",
    "#Delete after tests\n",
    "scores = cross_val_score(search, X_scaled, y_resampled, scoring='f1', cv=cv_outer, n_jobs=-1)\n",
    "print('Nested CV f1-score: mean %.4f and standard deviation (%.4f)' % (np.mean(scores), np.std(scores)))\n",
    "start = time.perf_counter()\n",
    "best_model = search.fit(X_scaled, y_resampled).best_estimator_\n",
    "print(best_model)\n",
    "f1 = cross_val_score(best_model, X_scaled, y_resampled, scoring='f1', cv=cv_outer, n_jobs=-1)\n",
    "print('CV F1-score : mean %.5f and std. deviation (%.3f)' % (np.mean(f1), np.std(f1)))\n",
    "end = time.perf_counter()\n",
    "print(f\"Time taken: {end - start:.6f} seconds\")"
   ]
  }
 ],
 "metadata": {
  "kernelspec": {
   "display_name": "Python 3 (ipykernel)",
   "language": "python",
   "name": "python3"
  },
  "language_info": {
   "codemirror_mode": {
    "name": "ipython",
    "version": 3
   },
   "file_extension": ".py",
   "mimetype": "text/x-python",
   "name": "python",
   "nbconvert_exporter": "python",
   "pygments_lexer": "ipython3",
   "version": "3.10.9"
  }
 },
 "nbformat": 4,
 "nbformat_minor": 5
}
