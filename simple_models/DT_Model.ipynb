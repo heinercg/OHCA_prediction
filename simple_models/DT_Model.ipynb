{
 "cells": [
  {
   "cell_type": "code",
   "execution_count": 10,
   "id": "3c42e98f-f599-46e9-85cc-f9b41e5800ce",
   "metadata": {
    "tags": []
   },
   "outputs": [
    {
     "name": "stdout",
     "output_type": "stream",
     "text": [
      "Looking in indexes: https://devpi.svc.ngsci.local/root/pypi/+simple/\n",
      "Requirement already satisfied: pip in /opt/venv/default/lib/python3.10/site-packages (24.3.1)\n",
      "Looking in indexes: https://devpi.svc.ngsci.local/root/pypi/+simple/\n",
      "Requirement already satisfied: scikit-optimize in /opt/venv/default/lib/python3.10/site-packages (0.10.2)\n",
      "Requirement already satisfied: joblib>=0.11 in /opt/venv/default/lib/python3.10/site-packages (from scikit-optimize) (1.2.0)\n",
      "Requirement already satisfied: pyaml>=16.9 in /opt/venv/default/lib/python3.10/site-packages (from scikit-optimize) (24.12.1)\n",
      "Requirement already satisfied: numpy>=1.20.3 in /opt/venv/default/lib/python3.10/site-packages (from scikit-optimize) (1.23.5)\n",
      "Requirement already satisfied: scipy>=1.1.0 in /opt/venv/default/lib/python3.10/site-packages (from scikit-optimize) (1.10.1)\n",
      "Requirement already satisfied: scikit-learn>=1.0.0 in /opt/venv/default/lib/python3.10/site-packages (from scikit-optimize) (1.2.2)\n",
      "Requirement already satisfied: packaging>=21.3 in /opt/venv/default/lib/python3.10/site-packages (from scikit-optimize) (23.1)\n",
      "Requirement already satisfied: PyYAML in /opt/venv/default/lib/python3.10/site-packages (from pyaml>=16.9->scikit-optimize) (6.0)\n",
      "Requirement already satisfied: threadpoolctl>=2.0.0 in /opt/venv/default/lib/python3.10/site-packages (from scikit-learn>=1.0.0->scikit-optimize) (3.1.0)\n",
      "Looking in indexes: https://devpi.svc.ngsci.local/root/pypi/+simple/\n",
      "Requirement already satisfied: imblearn in /opt/venv/default/lib/python3.10/site-packages (0.0)\n",
      "Requirement already satisfied: imbalanced-learn in /opt/venv/default/lib/python3.10/site-packages (from imblearn) (0.12.4)\n",
      "Requirement already satisfied: numpy>=1.17.3 in /opt/venv/default/lib/python3.10/site-packages (from imbalanced-learn->imblearn) (1.23.5)\n",
      "Requirement already satisfied: scipy>=1.5.0 in /opt/venv/default/lib/python3.10/site-packages (from imbalanced-learn->imblearn) (1.10.1)\n",
      "Requirement already satisfied: scikit-learn>=1.0.2 in /opt/venv/default/lib/python3.10/site-packages (from imbalanced-learn->imblearn) (1.2.2)\n",
      "Requirement already satisfied: joblib>=1.1.1 in /opt/venv/default/lib/python3.10/site-packages (from imbalanced-learn->imblearn) (1.2.0)\n",
      "Requirement already satisfied: threadpoolctl>=2.0.0 in /opt/venv/default/lib/python3.10/site-packages (from imbalanced-learn->imblearn) (3.1.0)\n"
     ]
    }
   ],
   "source": [
    "!pip install --upgrade pip\n",
    "!pip install scikit-optimize\n",
    "!pip install imblearn"
   ]
  },
  {
   "cell_type": "code",
   "execution_count": 11,
   "id": "615dee6d-3fa5-48c1-a4f0-569dc7808a26",
   "metadata": {},
   "outputs": [],
   "source": [
    "# Import necessary libraries\n",
    "import pandas as pd\n",
    "import os\n",
    "import numpy as np\n",
    "import matplotlib.pyplot as plt\n",
    "from sklearn.model_selection import train_test_split\n",
    "from sklearn.metrics import confusion_matrix, classification_report\n",
    "from imblearn.over_sampling import SMOTE\n",
    "import seaborn as sns\n",
    "from sklearn.tree import DecisionTreeClassifier\n",
    "from sklearn.metrics import accuracy_score, precision_score, recall_score, f1_score, roc_auc_score, confusion_matrix\n",
    "from sklearn.metrics import roc_curve, auc\n",
    "from sklearn.metrics import make_scorer\n",
    "from imblearn.metrics import specificity_score\n",
    "from sklearn.model_selection import cross_val_score\n",
    "from sklearn.model_selection import StratifiedKFold\n",
    "from sklearn.model_selection import GridSearchCV\n",
    "\n",
    "from skopt import BayesSearchCV\n",
    "from skopt.space import Real, Integer, Categorical\n"
   ]
  },
  {
   "cell_type": "code",
   "execution_count": 12,
   "id": "421ae5c2-8954-4eda-853d-3e82894a148d",
   "metadata": {
    "tags": []
   },
   "outputs": [],
   "source": [
    "# Function to calculate specificity and negative predictive value\n",
    "def calculate_npv(y, y_pred):\n",
    "    \"\"\"\n",
    "    Calculate the Negative Predictive Value (NPV) for a given model and dataset.\n",
    "    \n",
    "    Parameters:\n",
    "    model : sklearn model\n",
    "        The trained model used to predict the labels.\n",
    "    X : array-like or DataFrame\n",
    "        The input data used for prediction.\n",
    "    y : array-like or Series\n",
    "        The true labels of the data.\n",
    "    \n",
    "    Returns:\n",
    "    npv : float\n",
    "        The Negative Predictive Value (NPV) of the model.\n",
    "    \"\"\"\n",
    "    \n",
    "    # Generate the confusion matrix\n",
    "    tn, fp, fn, tp = confusion_matrix(y, y_pred).ravel()\n",
    "    \n",
    "    # Calculate NPV\n",
    "    npv = tn / (tn + fn)\n",
    "    \n",
    "    return npv \n",
    "\n",
    "# Function to evaluate the model\n",
    "def evaluate_model(model, X, y):\n",
    "    y_pred = model.predict(X)\n",
    "    y_prob = model.predict_proba(X)[:, 1]  # Probability estimates for the positive class\n",
    "\n",
    "    accuracy = accuracy_score(y, y_pred)\n",
    "    precision = precision_score(y, y_pred)\n",
    "    recall = recall_score(y, y_pred)\n",
    "    specificity =  specificity_score(y, y_pred)\n",
    "    npv = calculate_npv(y, y_pred)\n",
    "    f1 = f1_score(y, y_pred)\n",
    "    auc_roc = roc_auc_score(y, y_prob)\n",
    "\n",
    "    return accuracy, precision, recall, specificity, npv, f1, auc_roc\n",
    "\n",
    "# Plot the AUC-ROC curve for each set\n",
    "def plot_roc_curve(model, X, y, set_name):\n",
    "    y_prob = model.predict_proba(X)[:, 1]\n",
    "    fpr, tpr, _ = roc_curve(y, y_prob)\n",
    "    roc_auc = auc(fpr, tpr)\n",
    "\n",
    "    plt.figure()\n",
    "    plt.plot(fpr, tpr, color='darkorange', lw=2, label='ROC curve (area = %0.2f)' % roc_auc)\n",
    "    plt.plot([0, 1], [0, 1], color='navy', lw=2, linestyle='--')\n",
    "    plt.xlim([0.0, 1.0])\n",
    "    plt.ylim([0.0, 1.05])\n",
    "    plt.xlabel('False Positive Rate')\n",
    "    plt.ylabel('True Positive Rate')\n",
    "    plt.title('Receiver Operating Characteristic (ROC) - ' + set_name)\n",
    "    plt.legend(loc=\"lower right\")\n",
    "    plt.show()\n",
    "\n",
    "    # Function to plot confusion matrix\n",
    "def plot_confusion_matrix(y_true, y_pred, set_name):\n",
    "    cm = confusion_matrix(y_true, y_pred)\n",
    "    plt.figure(figsize=(6, 4))\n",
    "    sns.heatmap(cm, annot=True, fmt='d', cmap='Blues', cbar=False)\n",
    "    plt.xlabel('Predicted')\n",
    "    plt.ylabel('True')\n",
    "    plt.title(f'Confusion Matrix - {set_name}')\n",
    "    plt.show()"
   ]
  },
  {
   "cell_type": "code",
   "execution_count": 13,
   "id": "7bb1c0dd-1bb1-4c97-aa50-68b485155669",
   "metadata": {
    "tags": []
   },
   "outputs": [
    {
     "name": "stdout",
     "output_type": "stream",
     "text": [
      "(19, 26)\n",
      "(247, 26)\n"
     ]
    }
   ],
   "source": [
    "#Read data\n",
    "filter_dir = os.path.join('/','home','ngsci','project','csv_files_and_genarators')\n",
    "data_positive_label = pd.read_csv(os.path.join(filter_dir,'data_OHCA_preECGs_w24h.csv'))\n",
    "data_negative_label = pd.read_csv(os.path.join(filter_dir,'data_ctrg_preECGs_wNdays.csv'))\n",
    "\n",
    "print(data_positive_label.shape)\n",
    "#print(data_positive_label.head(5))\n",
    "#print(data_negative_label.head(5))\n",
    "print(data_negative_label.shape)\n",
    "\n",
    "#Concatanete both datasets\n",
    "dataset_df = pd.concat([data_negative_label,data_positive_label], ignore_index=True)\n",
    "\n",
    "#Remove IDs\n",
    "dataset_df = dataset_df.drop(columns=['ecg_id', 'patient_id'])"
   ]
  },
  {
   "cell_type": "code",
   "execution_count": 14,
   "id": "825027ac-0940-42ea-8733-460163fdb412",
   "metadata": {
    "tags": []
   },
   "outputs": [
    {
     "name": "stdout",
     "output_type": "stream",
     "text": [
      "Original dataset shape: (266, 24)\n",
      "Resampled dataset shape: (304, 24)\n",
      "Original class distribution:\n",
      " label\n",
      "0    247\n",
      "1     19\n",
      "Name: count, dtype: int64\n",
      "Resampled class distribution:\n",
      " label\n",
      "0    247\n",
      "1     57\n",
      "Name: count, dtype: int64\n"
     ]
    }
   ],
   "source": [
    "#Apply SMOTE to minority class\n",
    "ran_num=2\n",
    "X = dataset_df.drop('label', axis=1)  # Features\n",
    "y = dataset_df['label']  # Labels\n",
    "\n",
    "# Count the current number of labels\n",
    "count_label_1 = sum(y == 1)\n",
    "\n",
    "# Initialize SMOTE with the desired ratio\n",
    "resampling_factor=3\n",
    "smote = SMOTE(sampling_strategy={1: count_label_1*resampling_factor}, random_state=ran_num)\n",
    "\n",
    "# Apply SMOTE\n",
    "X_resampled, y_resampled = smote.fit_resample(X, y)\n",
    "\n",
    "# Create a new dataframe with the resampled data\n",
    "resampled_df = pd.concat([pd.DataFrame(X_resampled, columns=X.columns), pd.DataFrame(y_resampled, columns=['label'])], axis=1)\n",
    "\n",
    "print(\"Original dataset shape:\", dataset_df.shape)\n",
    "print(\"Resampled dataset shape:\", resampled_df.shape)\n",
    "print(\"Original class distribution:\\n\", dataset_df['label'].value_counts())\n",
    "print(\"Resampled class distribution:\\n\", resampled_df['label'].value_counts())"
   ]
  },
  {
   "cell_type": "code",
   "execution_count": 15,
   "id": "eeda5a11-9471-41bd-8898-2c4dafba822e",
   "metadata": {
    "tags": []
   },
   "outputs": [],
   "source": [
    "# Split the dataset into training, validation, and testing sets\n",
    "train_df, val_df = train_test_split(resampled_df, test_size=0.3, random_state=ran_num)\n",
    "#train_df, val_df = train_test_split(train_val_df, test_size=0.25, random_state=ran_num)\n",
    "\n",
    "# Define the features (X) and target (y)\n",
    "X_train = train_df.drop('label', axis=1)\n",
    "y_train = train_df['label']\n",
    "X_val = val_df.drop('label', axis=1)\n",
    "y_val = val_df['label']"
   ]
  },
  {
   "cell_type": "code",
   "execution_count": 16,
   "id": "fbdec05f-d4b9-433a-99b4-b725fc3ec849",
   "metadata": {
    "tags": []
   },
   "outputs": [
    {
     "name": "stdout",
     "output_type": "stream",
     "text": [
      "Train Set Metrics\n",
      "Accuracy: 0.99\n",
      "Precision: 1.00\n",
      "Recall: 0.95\n",
      "Specificity: 1.00\n",
      "Negative Predictive Value: 0.99\n",
      "F1-Score: 0.98\n",
      "AUC-ROC: 1.00\n",
      "\n",
      "Validation Set Metrics:\n",
      "Accuracy: 0.92\n",
      "Precision: 0.75\n",
      "Recall: 0.80\n",
      "Specificity: 0.95\n",
      "Negative Predictive Value: 0.96\n",
      "F1-Score: 0.77\n",
      "AUC-ROC: 0.86\n"
     ]
    },
    {
     "data": {
      "image/png": "[encoded data removed]",
      "text/plain": [
       "<Figure size 600x400 with 1 Axes>"
      ]
     },
     "metadata": {},
     "output_type": "display_data"
    },
    {
     "data": {
      "image/png": "[encoded data removed]",
      "text/plain": [
       "<Figure size 600x400 with 1 Axes>"
      ]
     },
     "metadata": {},
     "output_type": "display_data"
    }
   ],
   "source": [
    "# Initialize the Decision Tree classifier\n",
    "clf = DecisionTreeClassifier(max_depth=6, \\\n",
    "                              random_state=ran_num)\n",
    "\n",
    "# Fit the model\n",
    "clf.fit(X_train, y_train)\n",
    "\n",
    "# Evaluate the model on training, validation, and test sets\n",
    "metrics_train = evaluate_model(clf, X_train, y_train)\n",
    "metrics_val = evaluate_model(clf, X_val, y_val)\n",
    "\n",
    "# Print the metrics\n",
    "print(\"Train Set Metrics\")\n",
    "print(\"Accuracy: {:.2f}\".format(metrics_train[0]))\n",
    "print(\"Precision: {:.2f}\".format(metrics_train[1]))\n",
    "print(\"Recall: {:.2f}\".format(metrics_train[2]))\n",
    "print(\"Specificity: {:.2f}\".format(metrics_train[3]))\n",
    "print(\"Negative Predictive Value: {:.2f}\".format(metrics_train[4]))\n",
    "print(\"F1-Score: {:.2f}\".format(metrics_train[5]))\n",
    "print(\"AUC-ROC: {:.2f}\".format(metrics_train[6]))\n",
    "\n",
    "print(\"\\nValidation Set Metrics:\")\n",
    "print(\"Accuracy: {:.2f}\".format(metrics_val[0]))\n",
    "print(\"Precision: {:.2f}\".format(metrics_val[1]))\n",
    "print(\"Recall: {:.2f}\".format(metrics_val[2]))\n",
    "print(\"Specificity: {:.2f}\".format(metrics_val[3]))\n",
    "print(\"Negative Predictive Value: {:.2f}\".format(metrics_val[4]))\n",
    "print(\"F1-Score: {:.2f}\".format(metrics_val[5]))\n",
    "print(\"AUC-ROC: {:.2f}\".format(metrics_val[6]))\n",
    "\n",
    "#Plot Confusion Matrix Training Set\n",
    "y_train_pred = clf.predict(X_train)\n",
    "plot_confusion_matrix(y_train, y_train_pred, 'Training Set')\n",
    "\n",
    "#Plot Confusion Matrix Validation Set\n",
    "y_val_pred = clf.predict(X_val)\n",
    "plot_confusion_matrix(y_val, y_val_pred, 'Validation Set')"
   ]
  },
  {
   "cell_type": "code",
   "execution_count": 17,
   "id": "536ba83a-d110-4615-b2a7-9f6b3d7fd580",
   "metadata": {
    "tags": []
   },
   "outputs": [],
   "source": [
    "#Define everything for CV searching\n",
    "inner_folds = 3\n",
    "outer_folds = 5\n",
    "\n",
    "# configure the cross-validation procedure\n",
    "cv_inner = StratifiedKFold(n_splits=inner_folds, shuffle=True, random_state=ran_num)\n",
    "cv_outer = StratifiedKFold(n_splits=outer_folds, shuffle=True, random_state=ran_num)\n",
    "\n",
    "#Hyperparameteres to tune: \n",
    "# define search space\n",
    "space = dict()\n",
    "space['max_leaf_nodes'] = [5, 7, 10]\n",
    "space['max_depth'] = [5, 7, 10]\n",
    "space['max_features'] = [0.1, 0.5, 1]\n",
    "#New space dimension\n",
    "space['criterion'] = ['gini', 'entropy', 'log_loss']\n",
    "space['class_weight'] = ['balanced',None]\n",
    "\n",
    "# define the model\n",
    "models = DecisionTreeClassifier(random_state=ran_num)\n",
    "\n",
    "# define search\n",
    "search = GridSearchCV(models, space, scoring='f1', n_jobs=1, cv=cv_inner, refit=True)\n"
   ]
  },
  {
   "cell_type": "code",
   "execution_count": 18,
   "id": "5e1d482a-7125-4f7a-86c5-b6fbbeb8054c",
   "metadata": {
    "tags": []
   },
   "outputs": [
    {
     "name": "stdout",
     "output_type": "stream",
     "text": [
      "F1 mean score: 0.657 +/- 0.052\n",
      "Precision mean: 0.556 +/- 0.078\n",
      "Sensitivity mean: 0.823 +/- 0.096\n",
      "Specificity mean: 0.838 +/- 0.067\n",
      "NPV mean: 0.956 +/- 0.024\n",
      "Accuracy mean: 0.836 +/- 0.043\n",
      "Time taken: 18.781035 seconds\n"
     ]
    }
   ],
   "source": [
    "import time\n",
    "start = time.perf_counter()\n",
    "\n",
    "# Perform nested cross-validation\n",
    "outer_F1 = []\n",
    "outer_Pre = []\n",
    "outer_Sens = []\n",
    "outer_Spec = []\n",
    "outer_Acc = []\n",
    "outer_NPV = []\n",
    "\n",
    "for train_idx, test_idx in cv_outer.split(X_resampled, y_resampled):\n",
    "    X_cv_train, X_test = X_resampled.iloc[train_idx], X_resampled.iloc[test_idx]\n",
    "    y_cv_train, y_test = y_resampled.iloc[train_idx], y_resampled.iloc[test_idx]\n",
    "    \n",
    "    search.fit(X_cv_train, y_cv_train)\n",
    "\n",
    "    # Train the model with the best hyperparameters on the outer training fold\n",
    "    best_model = search.best_estimator_\n",
    "    best_model.fit(X_cv_train, y_cv_train)\n",
    "\n",
    "    # Evaluate the model on the outer validation fold\n",
    "    y_pred = best_model.predict(X_test)\n",
    "    outer_F1.append(f1_score(y_test, y_pred))\n",
    "    outer_Pre.append(precision_score(y_test, y_pred))\n",
    "    outer_Sens.append(recall_score(y_test, y_pred))\n",
    "    outer_Acc.append(accuracy_score(y_test, y_pred))\n",
    "    outer_Spec.append(specificity_score(y_test, y_pred))\n",
    "    npv = calculate_npv(y_test, y_pred)\n",
    "    outer_NPV.append(npv)\n",
    "    \n",
    "# Report the mean and standard deviation of the scores across the outer folds\n",
    "#print(f\"F1 nested cross-validation scores: {outer_scores}\")\n",
    "print(f\"F1 mean score: {np.mean(outer_F1):.3f} +/- {np.std(outer_F1):.3f}\")\n",
    "print(f\"Precision mean: {np.mean(outer_Pre):.3f} +/- {np.std(outer_Pre):.3f}\")\n",
    "print(f\"Sensitivity mean: {np.mean(outer_Sens):.3f} +/- {np.std(outer_Sens):.3f}\")\n",
    "print(f\"Specificity mean: {np.mean(outer_Spec):.3f} +/- {np.std(outer_Spec):.3f}\")\n",
    "print(f\"NPV mean: {np.mean(outer_NPV):.3f} +/- {np.std(outer_NPV):.3f}\")\n",
    "print(f\"Accuracy mean: {np.mean(outer_Acc):.3f} +/- {np.std(outer_Acc):.3f}\")\n",
    "\n",
    "end = time.perf_counter()\n",
    "print(f\"Time taken: {end - start:.6f} seconds\")\n"
   ]
  },
  {
   "cell_type": "code",
   "execution_count": 20,
   "id": "72aca4e0-c1b1-4faa-94d1-fdbf2d1ecab2",
   "metadata": {
    "tags": []
   },
   "outputs": [
    {
     "name": "stdout",
     "output_type": "stream",
     "text": [
      "f1-score: 0.657 (0.052)\n"
     ]
    }
   ],
   "source": [
    "# automatic nested cross-validation\n",
    "\n",
    "# execute the nested cross-validation\n",
    "scores = cross_val_score(search, X_resampled, y_resampled, scoring='f1', cv=cv_outer, n_jobs=-1)\n",
    "# report performance\n",
    "print('f1-score: %.3f (%.3f)' % (np.mean(scores), np.std(scores)))"
   ]
  },
  {
   "cell_type": "code",
   "execution_count": 19,
   "id": "eb1bb289-738d-44e7-9871-42e98568076c",
   "metadata": {
    "tags": []
   },
   "outputs": [
    {
     "name": "stdout",
     "output_type": "stream",
     "text": [
      "accuracy : mean 0.829 and standard deviation (0.040)\n",
      "precision : mean 0.528 and standard deviation (0.081)\n",
      "recall : mean 0.803 and standard deviation (0.136)\n",
      "f1 : mean 0.635 and standard deviation (0.097)\n",
      "specificity: mean 0.805 and standard deviation (0.126)\n",
      "npv: mean 0.945 and standard deviation (0.045)\n"
     ]
    }
   ],
   "source": [
    "#Evaluate the best_model\n",
    "best_model = search.fit(X_resampled, y_resampled).best_estimator_\n",
    "metrics = ['accuracy', 'precision', 'recall', 'f1']\n",
    "\n",
    "#caculate the metrics using cross validation\n",
    "for metric in metrics:\n",
    "    score = cross_val_score(best_model, X_resampled, y_resampled, scoring=metric, cv=cv_outer, n_jobs=-1)\n",
    "    print(metric, ': mean %.3f and standard deviation (%.3f)' % (np.mean(score), np.std(score)))\n",
    "\n",
    "#find the specificity\n",
    "#from sklearn.metrics import recall_score\n",
    "specificity = cross_val_score(best_model, X_resampled, y_resampled, scoring=make_scorer(recall_score, pos_label=0))\n",
    "print('specificity: mean %.3f and standard deviation (%.3f)' % (np.mean(specificity), np.std(specificity)))\n",
    "\n",
    "#find the npv\n",
    "#from sklearn.metrics import make_scorer, precision_score\n",
    "npvs = cross_val_score(best_model, X_resampled, y_resampled, scoring=make_scorer(precision_score, pos_label=0))\n",
    "print('npv: mean %.3f and standard deviation (%.3f)' % (np.mean(npvs), np.std(npvs)))"
   ]
  },
  {
   "cell_type": "code",
   "execution_count": 11,
   "id": "ce577445-8a1b-4a76-ba9a-ef9a8cacf01c",
   "metadata": {
    "tags": []
   },
   "outputs": [
    {
     "data": {
      "text/html": [
       "<style>#sk-container-id-1 {color: black;background-color: white;}#sk-container-id-1 pre{padding: 0;}#sk-container-id-1 div.sk-toggleable {background-color: white;}#sk-container-id-1 label.sk-toggleable__label {cursor: pointer;display: block;width: 100%;margin-bottom: 0;padding: 0.3em;box-sizing: border-box;text-align: center;}#sk-container-id-1 label.sk-toggleable__label-arrow:before {content: \"▸\";float: left;margin-right: 0.25em;color: #696969;}#sk-container-id-1 label.sk-toggleable__label-arrow:hover:before {color: black;}#sk-container-id-1 div.sk-estimator:hover label.sk-toggleable__label-arrow:before {color: black;}#sk-container-id-1 div.sk-toggleable__content {max-height: 0;max-width: 0;overflow: hidden;text-align: left;background-color: #f0f8ff;}#sk-container-id-1 div.sk-toggleable__content pre {margin: 0.2em;color: black;border-radius: 0.25em;background-color: #f0f8ff;}#sk-container-id-1 input.sk-toggleable__control:checked~div.sk-toggleable__content {max-height: 200px;max-width: 100%;overflow: auto;}#sk-container-id-1 input.sk-toggleable__control:checked~label.sk-toggleable__label-arrow:before {content: \"▾\";}#sk-container-id-1 div.sk-estimator input.sk-toggleable__control:checked~label.sk-toggleable__label {background-color: #d4ebff;}#sk-container-id-1 div.sk-label input.sk-toggleable__control:checked~label.sk-toggleable__label {background-color: #d4ebff;}#sk-container-id-1 input.sk-hidden--visually {border: 0;clip: rect(1px 1px 1px 1px);clip: rect(1px, 1px, 1px, 1px);height: 1px;margin: -1px;overflow: hidden;padding: 0;position: absolute;width: 1px;}#sk-container-id-1 div.sk-estimator {font-family: monospace;background-color: #f0f8ff;border: 1px dotted black;border-radius: 0.25em;box-sizing: border-box;margin-bottom: 0.5em;}#sk-container-id-1 div.sk-estimator:hover {background-color: #d4ebff;}#sk-container-id-1 div.sk-parallel-item::after {content: \"\";width: 100%;border-bottom: 1px solid gray;flex-grow: 1;}#sk-container-id-1 div.sk-label:hover label.sk-toggleable__label {background-color: #d4ebff;}#sk-container-id-1 div.sk-serial::before {content: \"\";position: absolute;border-left: 1px solid gray;box-sizing: border-box;top: 0;bottom: 0;left: 50%;z-index: 0;}#sk-container-id-1 div.sk-serial {display: flex;flex-direction: column;align-items: center;background-color: white;padding-right: 0.2em;padding-left: 0.2em;position: relative;}#sk-container-id-1 div.sk-item {position: relative;z-index: 1;}#sk-container-id-1 div.sk-parallel {display: flex;align-items: stretch;justify-content: center;background-color: white;position: relative;}#sk-container-id-1 div.sk-item::before, #sk-container-id-1 div.sk-parallel-item::before {content: \"\";position: absolute;border-left: 1px solid gray;box-sizing: border-box;top: 0;bottom: 0;left: 50%;z-index: -1;}#sk-container-id-1 div.sk-parallel-item {display: flex;flex-direction: column;z-index: 1;position: relative;background-color: white;}#sk-container-id-1 div.sk-parallel-item:first-child::after {align-self: flex-end;width: 50%;}#sk-container-id-1 div.sk-parallel-item:last-child::after {align-self: flex-start;width: 50%;}#sk-container-id-1 div.sk-parallel-item:only-child::after {width: 0;}#sk-container-id-1 div.sk-dashed-wrapped {border: 1px dashed gray;margin: 0 0.4em 0.5em 0.4em;box-sizing: border-box;padding-bottom: 0.4em;background-color: white;}#sk-container-id-1 div.sk-label label {font-family: monospace;font-weight: bold;display: inline-block;line-height: 1.2em;}#sk-container-id-1 div.sk-label-container {text-align: center;}#sk-container-id-1 div.sk-container {/* jupyter's `normalize.less` sets `[hidden] { display: none; }` but bootstrap.min.css set `[hidden] { display: none !important; }` so we also need the `!important` here to be able to override the default hidden behavior on the sphinx rendered scikit-learn.org. See: https://github.com/scikit-learn/scikit-learn/issues/21755 */display: inline-block !important;position: relative;}#sk-container-id-1 div.sk-text-repr-fallback {display: none;}</style><div id=\"sk-container-id-1\" class=\"sk-top-container\"><div class=\"sk-text-repr-fallback\"><pre>DecisionTreeClassifier(max_depth=5, max_features=0.5, max_leaf_nodes=7,\n",
       "                       random_state=42)</pre><b>In a Jupyter environment, please rerun this cell to show the HTML representation or trust the notebook. <br />On GitHub, the HTML representation is unable to render, please try loading this page with nbviewer.org.</b></div><div class=\"sk-container\" hidden><div class=\"sk-item\"><div class=\"sk-estimator sk-toggleable\"><input class=\"sk-toggleable__control sk-hidden--visually\" id=\"sk-estimator-id-1\" type=\"checkbox\" checked><label for=\"sk-estimator-id-1\" class=\"sk-toggleable__label sk-toggleable__label-arrow\">DecisionTreeClassifier</label><div class=\"sk-toggleable__content\"><pre>DecisionTreeClassifier(max_depth=5, max_features=0.5, max_leaf_nodes=7,\n",
       "                       random_state=42)</pre></div></div></div></div></div>"
      ],
      "text/plain": [
       "DecisionTreeClassifier(max_depth=5, max_features=0.5, max_leaf_nodes=7,\n",
       "                       random_state=42)"
      ]
     },
     "execution_count": 11,
     "metadata": {},
     "output_type": "execute_result"
    }
   ],
   "source": [
    "best_model"
   ]
  },
  {
   "cell_type": "markdown",
   "id": "63d0378c-1676-49be-a692-aa7af604444f",
   "metadata": {},
   "source": [
    "# END"
   ]
  },
  {
   "cell_type": "code",
   "execution_count": 8,
   "id": "998856a9-171f-4e27-86bc-14868fdaf583",
   "metadata": {
    "tags": []
   },
   "outputs": [
    {
     "data": {
      "text/html": [
       "<div>\n",
       "<style scoped>\n",
       "    .dataframe tbody tr th:only-of-type {\n",
       "        vertical-align: middle;\n",
       "    }\n",
       "\n",
       "    .dataframe tbody tr th {\n",
       "        vertical-align: top;\n",
       "    }\n",
       "\n",
       "    .dataframe thead th {\n",
       "        text-align: right;\n",
       "    }\n",
       "</style>\n",
       "<table border=\"1\" class=\"dataframe\">\n",
       "  <thead>\n",
       "    <tr style=\"text-align: right;\">\n",
       "      <th></th>\n",
       "      <th>feature</th>\n",
       "      <th>importance</th>\n",
       "    </tr>\n",
       "  </thead>\n",
       "  <tbody>\n",
       "    <tr>\n",
       "      <th>16</th>\n",
       "      <td>V1_RDUR</td>\n",
       "      <td>0.475160</td>\n",
       "    </tr>\n",
       "    <tr>\n",
       "      <th>12</th>\n",
       "      <td>V1_PDUR</td>\n",
       "      <td>0.159323</td>\n",
       "    </tr>\n",
       "    <tr>\n",
       "      <th>3</th>\n",
       "      <td>I_QAMP</td>\n",
       "      <td>0.141074</td>\n",
       "    </tr>\n",
       "    <tr>\n",
       "      <th>10</th>\n",
       "      <td>I_QRSDEF</td>\n",
       "      <td>0.075308</td>\n",
       "    </tr>\n",
       "    <tr>\n",
       "      <th>11</th>\n",
       "      <td>V1_PAMP</td>\n",
       "      <td>0.058740</td>\n",
       "    </tr>\n",
       "    <tr>\n",
       "      <th>1</th>\n",
       "      <td>I_PAMP</td>\n",
       "      <td>0.031441</td>\n",
       "    </tr>\n",
       "    <tr>\n",
       "      <th>20</th>\n",
       "      <td>V1_QRSDEF</td>\n",
       "      <td>0.030982</td>\n",
       "    </tr>\n",
       "    <tr>\n",
       "      <th>19</th>\n",
       "      <td>V1_QRSA</td>\n",
       "      <td>0.027972</td>\n",
       "    </tr>\n",
       "    <tr>\n",
       "      <th>14</th>\n",
       "      <td>V1_QDUR</td>\n",
       "      <td>0.000000</td>\n",
       "    </tr>\n",
       "    <tr>\n",
       "      <th>21</th>\n",
       "      <td>female</td>\n",
       "      <td>0.000000</td>\n",
       "    </tr>\n",
       "  </tbody>\n",
       "</table>\n",
       "</div>"
      ],
      "text/plain": [
       "      feature  importance\n",
       "16    V1_RDUR    0.475160\n",
       "12    V1_PDUR    0.159323\n",
       "3      I_QAMP    0.141074\n",
       "10   I_QRSDEF    0.075308\n",
       "11    V1_PAMP    0.058740\n",
       "1      I_PAMP    0.031441\n",
       "20  V1_QRSDEF    0.030982\n",
       "19    V1_QRSA    0.027972\n",
       "14    V1_QDUR    0.000000\n",
       "21     female    0.000000"
      ]
     },
     "execution_count": 8,
     "metadata": {},
     "output_type": "execute_result"
    }
   ],
   "source": [
    "features = list(X_train.columns)\n",
    "fi = pd.DataFrame({'feature': features,\n",
    "                   'importance': clf.feature_importances_}).\\\n",
    "                    sort_values('importance', ascending = False)\n",
    "fi.head(10)"
   ]
  },
  {
   "cell_type": "code",
   "execution_count": 12,
   "id": "c8ab7c31-5386-4d2d-bd1b-7fd21b723925",
   "metadata": {
    "tags": []
   },
   "outputs": [
    {
     "name": "stdout",
     "output_type": "stream",
     "text": [
      "DecisionTreeClassifier(random_state=42)\n",
      "Best hyperparameters: OrderedDict([('class_weight', None), ('criterion', 'gini'), ('max_depth', 6), ('max_features', 0.9213078542699094), ('max_leaf_nodes', 10)])\n",
      "Best score: 0.7402703962703961\n"
     ]
    }
   ],
   "source": [
    "#Find the best model using Bayesian optimization and Optuna\n",
    "\n",
    "# The search_space can now be passed to BayesSearchCV\n",
    "# the model is model\n",
    "print(model)\n",
    "\n",
    "# Define the search space\n",
    "search_space = {\n",
    "    'max_leaf_nodes': Integer(5, 10),\n",
    "    'max_depth': Integer(2, 10),\n",
    "    'max_features': Real(0.1, 1.0),\n",
    "    'criterion' : Categorical(['gini', 'entropy', 'log_loss']),\n",
    "    'class_weight' : Categorical(['balanced',None]),\n",
    "}\n",
    "\n",
    "# Create the Bayesian optimization object\n",
    "optimizer = BayesSearchCV(\n",
    "    model,\n",
    "    search_space,\n",
    "    n_iter=50,\n",
    "    cv=5,\n",
    "    n_jobs=-1,\n",
    "    scoring='f1',\n",
    "    random_state=ran_num\n",
    ")\n",
    "\n",
    "# Fit the optimizer to the data\n",
    "optimizer.fit(X_resampled, y_resampled)\n",
    "\n",
    "# Print the best hyperparameters and score\n",
    "print(\"Best hyperparameters:\", optimizer.best_params_)\n",
    "print(\"Best score:\", optimizer.best_score_)"
   ]
  },
  {
   "cell_type": "code",
   "execution_count": 13,
   "id": "5cbf2400-6246-4ea1-8477-fb22417a9a9d",
   "metadata": {
    "tags": []
   },
   "outputs": [
    {
     "name": "stdout",
     "output_type": "stream",
     "text": [
      "f1-score: mean 0.681 and standard deviation (0.106)\n"
     ]
    }
   ],
   "source": [
    "#Test the best model found \n",
    "best_model_BScv = optimizer.best_estimator_\n",
    "\n",
    "#Test best score in training\n",
    "\n",
    "cv_score = StratifiedKFold(n_splits=5, shuffle=True, random_state=ran_num)\n",
    "\n",
    "#scores = cross_val_score(best_model_BScv, X_train, y_train, scoring='f1', cv=cv_train, n_jobs=-1)\n",
    "scores = cross_val_score(best_model_BScv, X_resampled, y_resampled, scoring='f1', cv=cv_score, n_jobs=-1)\n",
    "\n",
    "#print('f1-score-train: mean %.3f and standard deviation (%.3f)' % (np.mean(scores_train), np.std(scores_train)))\n",
    "print('f1-score: mean %.3f and standard deviation (%.3f)' % (np.mean(scores), np.std(scores)))"
   ]
  },
  {
   "cell_type": "markdown",
   "id": "2f93d8ce-b138-468c-aad3-893b9ba63727",
   "metadata": {},
   "source": [
    "# end 2"
   ]
  },
  {
   "cell_type": "code",
   "execution_count": 14,
   "id": "6fb96257-ebb5-4b29-8a14-727c05a92e7b",
   "metadata": {
    "tags": []
   },
   "outputs": [
    {
     "name": "stdout",
     "output_type": "stream",
     "text": [
      "\n",
      "Validation Set Metrics:\n",
      "Accuracy: 0.96\n",
      "Precision: 1.00\n",
      "Recall: 0.76\n",
      "Specificity: 1.00\n",
      "Negative Predictive Value: 0.95\n",
      "F1-Score: 0.87\n"
     ]
    },
    {
     "data": {
      "image/png": "[encoded data removed]",
      "text/plain": [
       "<Figure size 600x400 with 1 Axes>"
      ]
     },
     "metadata": {},
     "output_type": "display_data"
    },
    {
     "name": "stdout",
     "output_type": "stream",
     "text": [
      "f1-score-val: mean 0.498 and standard deviation (0.228)\n"
     ]
    }
   ],
   "source": [
    "# Evaluate the model on validation, and test sets\n",
    "metrics_val = evaluate_model(best_model_BScv, X_val, y_val)\n",
    "\n",
    "print(\"\\nValidation Set Metrics:\")\n",
    "print(\"Accuracy: {:.2f}\".format(metrics_val[0]))\n",
    "print(\"Precision: {:.2f}\".format(metrics_val[1]))\n",
    "print(\"Recall: {:.2f}\".format(metrics_val[2]))\n",
    "print(\"Specificity: {:.2f}\".format(metrics_val[3]))\n",
    "print(\"Negative Predictive Value: {:.2f}\".format(metrics_val[4]))\n",
    "print(\"F1-Score: {:.2f}\".format(metrics_val[5]))\n",
    "\n",
    "#Plot Confusion Matrix Validation Set\n",
    "y_val_pred = best_model_BScv.predict(X_val)\n",
    "plot_confusion_matrix(y_val, y_val_pred, 'Validation Set')\n",
    "\n",
    "cv_val = StratifiedKFold(n_splits=3, shuffle=True, random_state=ran_num)\n",
    "scores_val = cross_val_score(best_model_BScv, X_val, y_val, scoring='f1', cv=cv_val, n_jobs=-1)\n",
    "\n",
    "print('f1-score-val: mean %.3f and standard deviation (%.3f)' % (np.mean(scores_val), np.std(scores_val)))"
   ]
  }
 ],
 "metadata": {
  "kernelspec": {
   "display_name": "Python 3 (ipykernel)",
   "language": "python",
   "name": "python3"
  },
  "language_info": {
   "codemirror_mode": {
    "name": "ipython",
    "version": 3
   },
   "file_extension": ".py",
   "mimetype": "text/x-python",
   "name": "python",
   "nbconvert_exporter": "python",
   "pygments_lexer": "ipython3",
   "version": "3.10.9"
  }
 },
 "nbformat": 4,
 "nbformat_minor": 5
}
