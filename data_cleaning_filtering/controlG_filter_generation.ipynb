{
 "cells": [
  {
   "cell_type": "markdown",
   "id": "9ba17bd9-72b2-442c-af9e-6e176624fe6c",
   "metadata": {},
   "source": [
    "## Control Group Filter Generation\n",
    "\n",
    "We explore the control group data below."
   ]
  },
  {
   "cell_type": "code",
   "execution_count": 1,
   "id": "36388fc2-f576-4ea5-a843-a7c5ae0771e3",
   "metadata": {
    "tags": []
   },
   "outputs": [],
   "source": [
    "import pandas as pd\n",
    "import os\n",
    "import numpy as np\n",
    "from functools import reduce\n",
    "\n",
    "import matplotlib.pyplot as plt"
   ]
  },
  {
   "cell_type": "code",
   "execution_count": 2,
   "id": "dc9afecb-befc-494e-a78f-3ea9f5e87e92",
   "metadata": {
    "tags": []
   },
   "outputs": [],
   "source": [
    "DATA_DIR = os.path.join('/','home','ngsci','datasets','arrest-ntuh-ecg','v1')\n",
    "LEAD_ORDER = ['I', 'II', 'III',\n",
    "              'aVR', 'aVL', 'aVF',\n",
    "              'V1', 'V2', 'V3', 'V4', 'V5', 'V6']\n",
    "LEAD_INDEX = {lead: i for i, lead in enumerate(LEAD_ORDER)}\n",
    "ECG_CAPTURE_TIME = 10  # Each ECG is taken for 10 seconds\n",
    "ECG_SAMPLE_RATE = 500 # Each ECG is sampled at 500 Hz"
   ]
  },
  {
   "cell_type": "code",
   "execution_count": 3,
   "id": "3efe0474-d82d-4b08-a265-eb58236acf64",
   "metadata": {
    "tags": []
   },
   "outputs": [],
   "source": [
    "#Functions\n",
    "\n",
    "def load_outcomes_df(fp):\n",
    "    '''Load outcomes'''\n",
    "    df = pd.read_csv(fp)\n",
    "\n",
    "    # Convert to datetime\n",
    "    date_cols = [c for c in df.columns if '_offset' in c]\n",
    "    for c in date_cols:\n",
    "        df[c] = pd.to_datetime(df[c], format='ISO8601')\n",
    "\n",
    "    print('Loaded {}: {}'.format(fp, df.shape))\n",
    "    return df\n",
    "\n",
    "def load_control_group_outcomes():\n",
    "    # Load Control Group files\n",
    "    ecg_cohort_fp = os.path.join(DATA_DIR, 'control-group','ecg-cohort.csv')\n",
    "    ecg_cohort_df = load_outcomes_df(ecg_cohort_fp)\n",
    "\n",
    "    return ecg_cohort_df\n",
    "\n",
    "def load_control_group_rhythm_ecgs(year):\n",
    "    '''Load Control Group rhythm ECGs npy and lookup CSV'''\n",
    "    # Waveforms - pre\n",
    "    fp = os.path.join(DATA_DIR, 'control-group/{}/pre/ecg-waveforms/waveform-rhythm.npy'.format(year))\n",
    "    ecg_rhythm_npy_pre = np.load(fp)\n",
    "    print('Loaded {}: {}'.format(fp, ecg_rhythm_npy_pre.shape))\n",
    "    \n",
    "    # Waveforms - control\n",
    "    fp = os.path.join(DATA_DIR, 'control-group/{}/control/ecg-waveforms/waveform-rhythm.npy'.format(year))\n",
    "    ecg_rhythm_npy_control = np.load(fp)\n",
    "    print('Loaded {}: {}'.format(fp, ecg_rhythm_npy_control.shape))\n",
    "    \n",
    "    # Dictionary to store both 'pre' and 'control' waveforms\n",
    "    ecg_rhythm_npy_precontrol = {\n",
    "        'pre': ecg_rhythm_npy_pre,\n",
    "        'control': ecg_rhythm_npy_control\n",
    "    }\n",
    "    \n",
    "    # Waveform lookup df - pre\n",
    "    fp = os.path.join(DATA_DIR, 'control-group/{}/pre/ecg-waveforms/waveform-npy.csv'.format(year))\n",
    "    ecg_npy_df_pre = pd.read_csv(fp)\n",
    "    print('Loaded {}: {}'.format(fp, ecg_npy_df_pre.shape))\n",
    "    ecg_npy_df_pre['ecg_timetag'] = 'pre'\n",
    "    \n",
    "    # Waveform lookup df - control\n",
    "    fp = os.path.join(DATA_DIR, 'control-group/{}/control/ecg-waveforms/waveform-npy.csv'.format(year))\n",
    "    ecg_npy_df_control = pd.read_csv(fp)\n",
    "    print('Loaded {}: {}'.format(fp, ecg_npy_df_control.shape))\n",
    "    ecg_npy_df_control['ecg_timetag'] = 'control'\n",
    "    \n",
    "    ecg_npy_df = pd.concat([ecg_npy_df_pre, ecg_npy_df_control])\n",
    "\n",
    "    return ecg_rhythm_npy_precontrol, ecg_npy_df\n",
    "\n",
    "def ctrg_calculate_time_diff(df):\n",
    "    \"\"\"\n",
    "    Calculate the time difference between control and pre acquisition_datetime_offset values\n",
    "    for the same patient_ngsci_id and save it in a new column called time_diff.\n",
    "\n",
    "    Parameters:\n",
    "    df (pd.DataFrame): The input dataframe containing patient_ngsci_id, ecg_timetag, \n",
    "                       and acquisition_datetime_offset columns.\n",
    "\n",
    "    Returns:\n",
    "    pd.DataFrame: A new dataframe with patient_ngsci_id and time_diff columns.\n",
    "    \"\"\"\n",
    "    # Filter rows based on ecg_timetag\n",
    "    control_df = df[df['ecg_timetag'] == 'control']\n",
    "    pre_df = df[df['ecg_timetag'] == 'pre']\n",
    "\n",
    "    # Rename columns to avoid conflicts during merge\n",
    "    control_df = control_df.rename(columns={'acquisition_datetime_offset': 'control_offset'})\n",
    "    pre_df = pre_df.rename(columns={'acquisition_datetime_offset': 'pre_offset'})\n",
    "\n",
    "    # Merge the dataframes on patient_ngsci_id\n",
    "    merged_df = pd.merge(control_df, pre_df, on='patient_ngsci_id')\n",
    "\n",
    "    # Calculate the difference and save in a new column\n",
    "    merged_df['time_diff'] = merged_df['control_offset'] - merged_df['pre_offset']\n",
    "\n",
    "    # Select relevant columns\n",
    "    result_df = merged_df[['patient_ngsci_id', 'time_diff']]\n",
    "\n",
    "    return result_df"
   ]
  },
  {
   "cell_type": "code",
   "execution_count": 4,
   "id": "dadaf437-da86-485b-be0e-dd7c2ad2000e",
   "metadata": {
    "tags": []
   },
   "outputs": [
    {
     "name": "stdout",
     "output_type": "stream",
     "text": [
      "Loaded /home/ngsci/datasets/arrest-ntuh-ecg/v1/control-group/ecg-cohort.csv: (16386, 8)\n",
      "Loaded /home/ngsci/datasets/arrest-ntuh-ecg/v1/control-group/2015/pre/ecg-waveforms/waveform-rhythm.npy: (1046, 12, 5000)\n",
      "Loaded /home/ngsci/datasets/arrest-ntuh-ecg/v1/control-group/2015/control/ecg-waveforms/waveform-rhythm.npy: (1712, 12, 5000)\n",
      "Loaded /home/ngsci/datasets/arrest-ntuh-ecg/v1/control-group/2015/pre/ecg-waveforms/waveform-npy.csv: (1046, 4)\n",
      "Loaded /home/ngsci/datasets/arrest-ntuh-ecg/v1/control-group/2015/control/ecg-waveforms/waveform-npy.csv: (1712, 4)\n"
     ]
    }
   ],
   "source": [
    "# Load Control Group files\n",
    "#control_group_df contains the data on ecg-cohort.csv\n",
    "ctrg_ecg_cohort_df = load_control_group_outcomes()\n",
    "\n",
    "ecg_rhythm_npy_precontrol_2015, ecg_npy_df_2015 = load_control_group_rhythm_ecgs('2015')"
   ]
  },
  {
   "cell_type": "code",
   "execution_count": 5,
   "id": "d3dc85ec-ccd7-4a3e-b0ec-d1b5d26ce4e0",
   "metadata": {
    "tags": []
   },
   "outputs": [
    {
     "data": {
      "text/html": [
       "<div>\n",
       "<style scoped>\n",
       "    .dataframe tbody tr th:only-of-type {\n",
       "        vertical-align: middle;\n",
       "    }\n",
       "\n",
       "    .dataframe tbody tr th {\n",
       "        vertical-align: top;\n",
       "    }\n",
       "\n",
       "    .dataframe thead th {\n",
       "        text-align: right;\n",
       "    }\n",
       "</style>\n",
       "<table border=\"1\" class=\"dataframe\">\n",
       "  <thead>\n",
       "    <tr style=\"text-align: right;\">\n",
       "      <th></th>\n",
       "      <th>patient_ngsci_id</th>\n",
       "      <th>year</th>\n",
       "      <th>ecg_id</th>\n",
       "      <th>ecg_timetag</th>\n",
       "      <th>acquisition_datetime_offset</th>\n",
       "      <th>acquisition_datetime_is_weekend</th>\n",
       "      <th>age</th>\n",
       "      <th>sex</th>\n",
       "    </tr>\n",
       "  </thead>\n",
       "  <tbody>\n",
       "    <tr>\n",
       "      <th>0</th>\n",
       "      <td>1510001362</td>\n",
       "      <td>2015</td>\n",
       "      <td>192717e3fd052706ce297b9d36b58354</td>\n",
       "      <td>control</td>\n",
       "      <td>2126-03-10 23:13:00</td>\n",
       "      <td>0</td>\n",
       "      <td>82</td>\n",
       "      <td>male</td>\n",
       "    </tr>\n",
       "    <tr>\n",
       "      <th>1</th>\n",
       "      <td>1510001362</td>\n",
       "      <td>2015</td>\n",
       "      <td>9232eb679d9ab57579440e89b12fb3c9</td>\n",
       "      <td>pre</td>\n",
       "      <td>2125-07-19 11:10:00</td>\n",
       "      <td>0</td>\n",
       "      <td>82</td>\n",
       "      <td>male</td>\n",
       "    </tr>\n",
       "    <tr>\n",
       "      <th>2</th>\n",
       "      <td>1510010000</td>\n",
       "      <td>2015</td>\n",
       "      <td>20fbe673da581eba4f6c363eef9557a9</td>\n",
       "      <td>control</td>\n",
       "      <td>2210-08-01 22:56:00</td>\n",
       "      <td>0</td>\n",
       "      <td>80</td>\n",
       "      <td>male</td>\n",
       "    </tr>\n",
       "    <tr>\n",
       "      <th>3</th>\n",
       "      <td>1510032359</td>\n",
       "      <td>2015</td>\n",
       "      <td>ab6a26e105ab852f49dd395c497b91e1</td>\n",
       "      <td>control</td>\n",
       "      <td>2171-12-26 21:11:00</td>\n",
       "      <td>0</td>\n",
       "      <td>74</td>\n",
       "      <td>female</td>\n",
       "    </tr>\n",
       "    <tr>\n",
       "      <th>4</th>\n",
       "      <td>1510032359</td>\n",
       "      <td>2015</td>\n",
       "      <td>64f8fa6e0718a00f87c0760063d94086</td>\n",
       "      <td>pre</td>\n",
       "      <td>2167-11-07 20:02:00</td>\n",
       "      <td>1</td>\n",
       "      <td>70</td>\n",
       "      <td>female</td>\n",
       "    </tr>\n",
       "  </tbody>\n",
       "</table>\n",
       "</div>"
      ],
      "text/plain": [
       "   patient_ngsci_id  year                            ecg_id ecg_timetag   \n",
       "0        1510001362  2015  192717e3fd052706ce297b9d36b58354     control  \\\n",
       "1        1510001362  2015  9232eb679d9ab57579440e89b12fb3c9         pre   \n",
       "2        1510010000  2015  20fbe673da581eba4f6c363eef9557a9     control   \n",
       "3        1510032359  2015  ab6a26e105ab852f49dd395c497b91e1     control   \n",
       "4        1510032359  2015  64f8fa6e0718a00f87c0760063d94086         pre   \n",
       "\n",
       "  acquisition_datetime_offset  acquisition_datetime_is_weekend age     sex  \n",
       "0         2126-03-10 23:13:00                                0  82    male  \n",
       "1         2125-07-19 11:10:00                                0  82    male  \n",
       "2         2210-08-01 22:56:00                                0  80    male  \n",
       "3         2171-12-26 21:11:00                                0  74  female  \n",
       "4         2167-11-07 20:02:00                                1  70  female  "
      ]
     },
     "execution_count": 5,
     "metadata": {},
     "output_type": "execute_result"
    }
   ],
   "source": [
    "ctrg_ecg_cohort_df.head(5)"
   ]
  },
  {
   "cell_type": "code",
   "execution_count": 6,
   "id": "d6b9ad7f-9b86-4448-b4e9-d8bdb26cf592",
   "metadata": {
    "tags": []
   },
   "outputs": [
    {
     "name": "stdout",
     "output_type": "stream",
     "text": [
      "ecg_timetag\n",
      "control    9976\n",
      "pre        6410\n",
      "Name: count, dtype: int64\n",
      "(16386, 8)\n",
      "Number of unique patient is: 9976\n"
     ]
    }
   ],
   "source": [
    "#Print and count the unique values of ecg type and patients\n",
    "control_ecg_type_counts = ctrg_ecg_cohort_df['ecg_timetag'].value_counts()\n",
    "print(control_ecg_type_counts)\n",
    "print(ctrg_ecg_cohort_df.shape)\n",
    "unique_patient_ids = ctrg_ecg_cohort_df['patient_ngsci_id'].nunique()\n",
    "print(f\"Number of unique patient is: {unique_patient_ids}\")"
   ]
  },
  {
   "cell_type": "code",
   "execution_count": 7,
   "id": "2a54f2ab-ea25-4c0b-b7b1-3371357b3908",
   "metadata": {},
   "outputs": [
    {
     "name": "stdout",
     "output_type": "stream",
     "text": [
      "Max # of days between PRE-ECG and no-CA event in the study group: 36199 days 00:00:00\n",
      "Min # of days between PRE-ECG and no-CA event in the study group: -35766 days +00:00:00\n",
      "Number of PRE and no-CA ECG time difference more than one day: 4949\n",
      "Number of PRE and no-CA ECG time difference more than one week: 4711\n",
      "Number of PRE and no-CA ECG time difference more than one month: 4264\n",
      "Number of PRE and no-CA ECG time difference more than 6 months: 3108\n",
      "Number of PRE and no-CA ECG time difference more than a year: 2548\n",
      "Number of PRE and no-CA ECG time difference NEGATIVE: 1370\n"
     ]
    }
   ],
   "source": [
    "#Calculate the minimum and maximum time from Pre-ECG and noCA-ECG\n",
    "\n",
    "# Sort by patient_id first, then by ecg_timetag\n",
    "#ctrg_ecg_cohort_df = ctrg_ecg_cohort_df.sort_values(by=['patient_ngsci_id','year','ecg_timetag']) #,'acquisition_datetime_offset'\n",
    "\n",
    "#Calculate difference\n",
    "ctrg_timeDiff_df = ctrg_calculate_time_diff(ctrg_ecg_cohort_df)\n",
    "\n",
    "# Print the result\n",
    "#print(result_df)\n",
    "\n",
    "#print(ctrg_ecg_cohort_df.head(10))\n",
    "\n",
    "max_Pre_noCA_time = ctrg_timeDiff_df['time_diff'].max()\n",
    "min_Pre_noCA_time = ctrg_timeDiff_df['time_diff'].min()\n",
    "\n",
    "#Checking which rows are the max and minimum \n",
    "#max_row_index = ctrg_timeDiff_df['time_diff'].idxmax()\n",
    "#min_row_index = ctrg_timeDiff_df['time_diff'].idxmin()\n",
    "#print(f'The index name of the max difference is: {max_row_index}')\n",
    "#print(f'The index name of the min difference is: {min_row_index}')\n",
    "#row_number_max = ctrg_timeDiff_df.index.get_loc(max_row_index)\n",
    "#row_number_min = ctrg_timeDiff_df.index.get_loc(min_row_index)\n",
    "\n",
    "#print(ctrg_timeDiff_df.iloc[row_number_max - 4 : row_number_max + 5])\n",
    "#print(ctrg_timeDiff_df.iloc[row_number_min - 4 : row_number_min + 5])\n",
    "\n",
    "print(f'Max # of days between PRE-ECG and no-CA event in the study group: {max_Pre_noCA_time}')\n",
    "print(f'Min # of days between PRE-ECG and no-CA event in the study group: {min_Pre_noCA_time}')\n",
    "\n",
    "#Working in a \"histogram\" of the PRE and ROSC ECG time difference:\n",
    "\n",
    "more_than_day = ctrg_timeDiff_df['time_diff'][ctrg_timeDiff_df['time_diff'] > pd.Timedelta('1 days')]\n",
    "more_than_week = ctrg_timeDiff_df['time_diff'][ctrg_timeDiff_df['time_diff'] > pd.Timedelta('7 days')]\n",
    "more_than_month = ctrg_timeDiff_df['time_diff'][ctrg_timeDiff_df['time_diff'] > pd.Timedelta('30 days')]\n",
    "more_than_6_month = ctrg_timeDiff_df['time_diff'][ctrg_timeDiff_df['time_diff'] > pd.Timedelta('180 days')]\n",
    "more_than_year = ctrg_timeDiff_df['time_diff'][ctrg_timeDiff_df['time_diff'] > pd.Timedelta('365 days')]\n",
    "less_than_0 = ctrg_timeDiff_df[['patient_ngsci_id','time_diff']][ctrg_timeDiff_df['time_diff'] < pd.Timedelta('0 seconds')]\n",
    "\n",
    "\n",
    "# Get the count of time differences\n",
    "num_more_than_day = len(more_than_day.unique())\n",
    "num_more_than_week = len(more_than_week.unique())\n",
    "num_more_than_month = len(more_than_month.unique())\n",
    "num_more_than_6_month = len(more_than_6_month.unique())\n",
    "num_more_than_year = len(more_than_year.unique())\n",
    "num_less_than_0 = len(less_than_0['time_diff'].unique())\n",
    "\n",
    "# Display the result\n",
    "print(f\"Number of PRE and no-CA ECG time difference more than one day: {num_more_than_day}\")\n",
    "print(f\"Number of PRE and no-CA ECG time difference more than one week: {num_more_than_week}\")\n",
    "print(f\"Number of PRE and no-CA ECG time difference more than one month: {num_more_than_month}\")\n",
    "print(f\"Number of PRE and no-CA ECG time difference more than 6 months: {num_more_than_6_month}\")\n",
    "print(f\"Number of PRE and no-CA ECG time difference more than a year: {num_more_than_year}\")\n",
    "\n",
    "\n",
    "print(f\"Number of PRE and no-CA ECG time difference NEGATIVE: {num_less_than_0}\")\n",
    "\n"
   ]
  },
  {
   "cell_type": "code",
   "execution_count": 8,
   "id": "50ba2708-a445-4161-b97b-dae3492dbe94",
   "metadata": {
    "tags": []
   },
   "outputs": [
    {
     "name": "stdout",
     "output_type": "stream",
     "text": [
      "       patient_ngsci_id ecg_timetag acquisition_datetime_offset\n",
      "10429        1819211246     control                  2139-06-28\n",
      "10430        1819211246         pre                  2145-09-28\n",
      "       patient_ngsci_id ecg_timetag acquisition_datetime_offset\n",
      "10433        1819241880     control                  2123-08-22\n",
      "10434        1819241880         pre                  2205-09-23\n",
      "       patient_ngsci_id ecg_timetag acquisition_datetime_offset\n",
      "10435        1819252849     control                  2132-12-16\n",
      "10436        1819252849         pre                  2164-03-31\n",
      "       patient_ngsci_id ecg_timetag acquisition_datetime_offset\n",
      "10437        1819261458     control                  2120-02-14\n",
      "10438        1819261458         pre                  2218-01-17\n"
     ]
    }
   ],
   "source": [
    "#Print some examples why the time difference is negative\n",
    "print(ctrg_ecg_cohort_df[['patient_ngsci_id','ecg_timetag','acquisition_datetime_offset']][ctrg_ecg_cohort_df['patient_ngsci_id']==1819211246])\n",
    "print(ctrg_ecg_cohort_df[['patient_ngsci_id','ecg_timetag','acquisition_datetime_offset']][ctrg_ecg_cohort_df['patient_ngsci_id']==1819241880])\n",
    "print(ctrg_ecg_cohort_df[['patient_ngsci_id','ecg_timetag','acquisition_datetime_offset']][ctrg_ecg_cohort_df['patient_ngsci_id']==1819252849])\n",
    "print(ctrg_ecg_cohort_df[['patient_ngsci_id','ecg_timetag','acquisition_datetime_offset']][ctrg_ecg_cohort_df['patient_ngsci_id']==1819261458])"
   ]
  },
  {
   "cell_type": "code",
   "execution_count": 9,
   "id": "66419fa1-4c2e-4fa2-9997-160ee367e3ce",
   "metadata": {
    "tags": []
   },
   "outputs": [
    {
     "data": {
      "text/html": [
       "<div>\n",
       "<style scoped>\n",
       "    .dataframe tbody tr th:only-of-type {\n",
       "        vertical-align: middle;\n",
       "    }\n",
       "\n",
       "    .dataframe tbody tr th {\n",
       "        vertical-align: top;\n",
       "    }\n",
       "\n",
       "    .dataframe thead th {\n",
       "        text-align: right;\n",
       "    }\n",
       "</style>\n",
       "<table border=\"1\" class=\"dataframe\">\n",
       "  <thead>\n",
       "    <tr style=\"text-align: right;\">\n",
       "      <th></th>\n",
       "      <th>patient_ngsci_id</th>\n",
       "      <th>time_diff</th>\n",
       "    </tr>\n",
       "  </thead>\n",
       "  <tbody>\n",
       "    <tr>\n",
       "      <th>3554</th>\n",
       "      <td>1810061000</td>\n",
       "      <td>-20252 days</td>\n",
       "    </tr>\n",
       "    <tr>\n",
       "      <th>3556</th>\n",
       "      <td>1810111613</td>\n",
       "      <td>-3286 days</td>\n",
       "    </tr>\n",
       "    <tr>\n",
       "      <th>3557</th>\n",
       "      <td>1810131364</td>\n",
       "      <td>-2704 days</td>\n",
       "    </tr>\n",
       "    <tr>\n",
       "      <th>3560</th>\n",
       "      <td>1810182865</td>\n",
       "      <td>-11293 days</td>\n",
       "    </tr>\n",
       "    <tr>\n",
       "      <th>3562</th>\n",
       "      <td>1810221077</td>\n",
       "      <td>-1110 days</td>\n",
       "    </tr>\n",
       "  </tbody>\n",
       "</table>\n",
       "</div>"
      ],
      "text/plain": [
       "      patient_ngsci_id   time_diff\n",
       "3554        1810061000 -20252 days\n",
       "3556        1810111613  -3286 days\n",
       "3557        1810131364  -2704 days\n",
       "3560        1810182865 -11293 days\n",
       "3562        1810221077  -1110 days"
      ]
     },
     "execution_count": 9,
     "metadata": {},
     "output_type": "execute_result"
    }
   ],
   "source": [
    "less_than_0.head(5)"
   ]
  },
  {
   "cell_type": "code",
   "execution_count": 9,
   "id": "fb1e0ac4-d7e1-4279-9020-7d2449ed0e8d",
   "metadata": {},
   "outputs": [
    {
     "ename": "KeyboardInterrupt",
     "evalue": "",
     "output_type": "error",
     "traceback": [
      "\u001b[0;31m---------------------------------------------------------------------------\u001b[0m",
      "\u001b[0;31mKeyboardInterrupt\u001b[0m                         Traceback (most recent call last)",
      "File \u001b[0;32m/opt/venv/default/lib/python3.10/site-packages/IPython/core/async_helpers.py:129\u001b[0m, in \u001b[0;36m_pseudo_sync_runner\u001b[0;34m(coro)\u001b[0m\n\u001b[1;32m    121\u001b[0m \u001b[38;5;250m\u001b[39m\u001b[38;5;124;03m\"\"\"\u001b[39;00m\n\u001b[1;32m    122\u001b[0m \u001b[38;5;124;03mA runner that does not really allow async execution, and just advance the coroutine.\u001b[39;00m\n\u001b[1;32m    123\u001b[0m \n\u001b[0;32m   (...)\u001b[0m\n\u001b[1;32m    126\u001b[0m \u001b[38;5;124;03mCredit to Nathaniel Smith\u001b[39;00m\n\u001b[1;32m    127\u001b[0m \u001b[38;5;124;03m\"\"\"\u001b[39;00m\n\u001b[1;32m    128\u001b[0m \u001b[38;5;28;01mtry\u001b[39;00m:\n\u001b[0;32m--> 129\u001b[0m     \u001b[43mcoro\u001b[49m\u001b[38;5;241;43m.\u001b[39;49m\u001b[43msend\u001b[49m\u001b[43m(\u001b[49m\u001b[38;5;28;43;01mNone\u001b[39;49;00m\u001b[43m)\u001b[49m\n\u001b[1;32m    130\u001b[0m \u001b[38;5;28;01mexcept\u001b[39;00m \u001b[38;5;167;01mStopIteration\u001b[39;00m \u001b[38;5;28;01mas\u001b[39;00m exc:\n\u001b[1;32m    131\u001b[0m     \u001b[38;5;28;01mreturn\u001b[39;00m exc\u001b[38;5;241m.\u001b[39mvalue\n",
      "File \u001b[0;32m/opt/venv/default/lib/python3.10/site-packages/IPython/core/interactiveshell.py:3217\u001b[0m, in \u001b[0;36mInteractiveShell.run_cell_async\u001b[0;34m(self, raw_cell, store_history, silent, shell_futures, transformed_cell, preprocessing_exc_tuple, cell_id)\u001b[0m\n\u001b[1;32m   3215\u001b[0m \u001b[38;5;66;03m# Store raw and processed history\u001b[39;00m\n\u001b[1;32m   3216\u001b[0m \u001b[38;5;28;01mif\u001b[39;00m store_history:\n\u001b[0;32m-> 3217\u001b[0m     \u001b[38;5;28;43mself\u001b[39;49m\u001b[38;5;241;43m.\u001b[39;49m\u001b[43mhistory_manager\u001b[49m\u001b[38;5;241;43m.\u001b[39;49m\u001b[43mstore_inputs\u001b[49m\u001b[43m(\u001b[49m\u001b[38;5;28;43mself\u001b[39;49m\u001b[38;5;241;43m.\u001b[39;49m\u001b[43mexecution_count\u001b[49m\u001b[43m,\u001b[49m\u001b[43m \u001b[49m\u001b[43mcell\u001b[49m\u001b[43m,\u001b[49m\u001b[43m \u001b[49m\u001b[43mraw_cell\u001b[49m\u001b[43m)\u001b[49m\n\u001b[1;32m   3218\u001b[0m \u001b[38;5;28;01mif\u001b[39;00m \u001b[38;5;129;01mnot\u001b[39;00m silent:\n\u001b[1;32m   3219\u001b[0m     \u001b[38;5;28mself\u001b[39m\u001b[38;5;241m.\u001b[39mlogger\u001b[38;5;241m.\u001b[39mlog(cell, raw_cell)\n",
      "File \u001b[0;32m/opt/venv/default/lib/python3.10/site-packages/IPython/core/history.py:773\u001b[0m, in \u001b[0;36mHistoryManager.store_inputs\u001b[0;34m(self, line_num, source, source_raw)\u001b[0m\n\u001b[1;32m    770\u001b[0m \u001b[38;5;28mself\u001b[39m\u001b[38;5;241m.\u001b[39minput_hist_parsed\u001b[38;5;241m.\u001b[39mappend(source)\n\u001b[1;32m    771\u001b[0m \u001b[38;5;28mself\u001b[39m\u001b[38;5;241m.\u001b[39minput_hist_raw\u001b[38;5;241m.\u001b[39mappend(source_raw)\n\u001b[0;32m--> 773\u001b[0m \u001b[38;5;28;01mwith\u001b[39;00m \u001b[38;5;28mself\u001b[39m\u001b[38;5;241m.\u001b[39mdb_input_cache_lock:\n\u001b[1;32m    774\u001b[0m     \u001b[38;5;28mself\u001b[39m\u001b[38;5;241m.\u001b[39mdb_input_cache\u001b[38;5;241m.\u001b[39mappend((line_num, source, source_raw))\n\u001b[1;32m    775\u001b[0m     \u001b[38;5;66;03m# Trigger to flush cache and write to DB.\u001b[39;00m\n",
      "\u001b[0;31mKeyboardInterrupt\u001b[0m: "
     ]
    }
   ],
   "source": [
    "#Delete all time differences tha are negative\n",
    "patients_ecgIDs_timeDiff_negative = ctrg_ecg_cohort_df[['patient_ngsci_id','ecg_id','ecg_timetag']]\\\n",
    "                                                        [ctrg_ecg_cohort_df['patient_ngsci_id']\\\n",
    "                                                         .isin(less_than_0['patient_ngsci_id'])]\n",
    "#print(patients_ecgIDs_timeDiff_negative.head(5))\n",
    "#print(patients_ecgIDs_timeDiff_negative.shape)\n",
    "\n",
    "#Remove the control ECGs (non-SCA ECGs taken the same day of other SCA-ECG)\n",
    "patients_ecgIDs_timeDiff_negative=patients_ecgIDs_timeDiff_negative[\\\n",
    "                                patients_ecgIDs_timeDiff_negative['ecg_timetag']=='pre']\n",
    "\n",
    "#print(patients_ecgIDs_timeDiff_negative.head(5))\n",
    "#print(patients_ecgIDs_timeDiff_negative.shape)\n",
    "\n",
    "#Remove the patients_id from the main dataframe\n",
    "\n",
    "ctrg_ecg_cohort_df=ctrg_ecg_cohort_df[~ctrg_ecg_cohort_df['patient_ngsci_id']\\\n",
    "                                      .isin(patients_ecgIDs_timeDiff_negative['patient_ngsci_id'])]\n",
    "#print(ctrg_ecg_cohort_df.shape)\n",
    "#print(ctrg_ecg_cohort_df.head(5))"
   ]
  },
  {
   "cell_type": "code",
   "execution_count": null,
   "id": "60cbba6d-45ff-424a-b7a2-ad3246eeb4ff",
   "metadata": {
    "tags": []
   },
   "outputs": [],
   "source": [
    "#Test there is no negative difference\n",
    "\n",
    "#Recalculate difference\n",
    "ctrg_timeDiff_df = ctrg_calculate_time_diff(ctrg_ecg_cohort_df)\n",
    "\n",
    "max_Pre_noCA_time = ctrg_timeDiff_df['time_diff'].max()\n",
    "min_Pre_noCA_time = ctrg_timeDiff_df['time_diff'].min()\n",
    "\n",
    "print(f'Max # of days between PRE-ECG and no-CA event in the study group: {max_Pre_noCA_time}')\n",
    "print(f'Min # of days between PRE-ECG and no-CA event in the study group: {min_Pre_noCA_time}')\n",
    "\n",
    "less_than_0 = ctrg_timeDiff_df[['patient_ngsci_id','time_diff']][ctrg_timeDiff_df['time_diff'] < pd.Timedelta('0 seconds')]\n",
    "\n",
    "# Get the count of time differences\n",
    "num_less_than_0 = len(less_than_0['time_diff'].unique())\n",
    "\n",
    "# Display the result\n",
    "print(f\"Number of PRE and no-CA ECG time difference NEGATIVE: {num_less_than_0}\")"
   ]
  },
  {
   "cell_type": "code",
   "execution_count": null,
   "id": "7e369be0-0a9d-4b46-be96-6d514f5ae937",
   "metadata": {
    "tags": []
   },
   "outputs": [],
   "source": [
    "#Remove the control ECGs from the main dataframe (non-SCA ECGs taken the same day of other SCA-ECG)\n",
    "ctrg_preECG_df=ctrg_ecg_cohort_df[['patient_ngsci_id','ecg_id','ecg_timetag','age','sex']]\\\n",
    "                                        [ctrg_ecg_cohort_df['ecg_timetag']=='pre']\n",
    "print(ctrg_preECG_df.shape)\n",
    "#print(ctrg_preECG_df.head(5))\n",
    "\n",
    "#Keep pre-ecgs within 24h before next visit\n",
    "#preECG_within_Ndays = ctrg_timeDiff_df[ctrg_timeDiff_df['time_diff'] <= pd.Timedelta('7 days')]\n",
    "\n",
    "#Keep pre-ecgs within 30 days before next visit\n",
    "preECG_within_Ndays = ctrg_timeDiff_df[ctrg_timeDiff_df['time_diff'] <= pd.Timedelta('30 days')]\n",
    "\n",
    "#print(preECG_within_Ndays.head(5))\n",
    "print(preECG_within_Ndays.shape)\n",
    "\n",
    "ctrg_preECG_within_Ndays_df = ctrg_preECG_df[ctrg_preECG_df['patient_ngsci_id']\\\n",
    "                                             .isin(preECG_within_Ndays['patient_ngsci_id'])]\n",
    "print(ctrg_preECG_within_Ndays_df.shape)\n",
    "#print(ctrg_preECG_within_Ndays_df.head(5))"
   ]
  },
  {
   "cell_type": "code",
   "execution_count": null,
   "id": "cd5f6258-eb49-4250-ba56-5c789828feb4",
   "metadata": {
    "tags": []
   },
   "outputs": [],
   "source": [
    "#save the filter in a csv file\n",
    "#ctrg_preECG_within_Ndays_df.to_csv('fltr_ctrg_preECG_within_7days.csv', index=False)\n",
    "\n",
    "#save the filter for 30 days control data in a csv file\n",
    "ctrg_preECG_within_Ndays_df.to_csv('fltr_ctrg_preECG_30days.csv', index=False)"
   ]
  }
 ],
 "metadata": {
  "kernelspec": {
   "display_name": "Python 3 (ipykernel)",
   "language": "python",
   "name": "python3"
  },
  "language_info": {
   "codemirror_mode": {
    "name": "ipython",
    "version": 3
   },
   "file_extension": ".py",
   "mimetype": "text/x-python",
   "name": "python",
   "nbconvert_exporter": "python",
   "pygments_lexer": "ipython3",
   "version": "3.10.9"
  }
 },
 "nbformat": 4,
 "nbformat_minor": 5
}
