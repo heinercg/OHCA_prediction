{
 "cells": [
  {
   "cell_type": "code",
   "execution_count": 1,
   "id": "db10e92b-2194-4505-8b42-a5483450d25d",
   "metadata": {},
   "outputs": [],
   "source": [
    "import pandas as pd\n",
    "import os\n",
    "import numpy as np\n",
    "from functools import reduce\n",
    "\n",
    "import matplotlib.pyplot as plt"
   ]
  },
  {
   "cell_type": "code",
   "execution_count": 2,
   "id": "6763e36a-c92e-47c1-a501-f9c57bfc3c52",
   "metadata": {
    "tags": []
   },
   "outputs": [],
   "source": [
    "DATA_DIR = os.path.join('/','home','ngsci','datasets','arrest-ntuh-ecg','v1')\n",
    "LEAD_ORDER = ['I', 'II', 'III',\n",
    "              'aVR', 'aVL', 'aVF',\n",
    "              'V1', 'V2', 'V3', 'V4', 'V5', 'V6']\n",
    "LEAD_INDEX = {lead: i for i, lead in enumerate(LEAD_ORDER)}\n",
    "ECG_CAPTURE_TIME = 10  # Each ECG is taken for 10 seconds\n",
    "ECG_SAMPLE_RATE = 500 # Each ECG is sampled at 500 Hz"
   ]
  },
  {
   "cell_type": "markdown",
   "id": "271efb00-137e-4a05-908b-016714a7faca",
   "metadata": {},
   "source": [
    "## Study Group Filter Generation\n",
    "\n",
    "We explore the study group data below."
   ]
  },
  {
   "cell_type": "code",
   "execution_count": 3,
   "id": "1922f5b9-1641-45ff-b342-14661fb5d47d",
   "metadata": {
    "tags": []
   },
   "outputs": [],
   "source": [
    "def load_outcomes_df(fp):\n",
    "    '''Load outcomes'''\n",
    "    df = pd.read_csv(fp)\n",
    "\n",
    "    # Convert to datetime\n",
    "    date_cols = [c for c in df.columns if '_offset' in c]\n",
    "    for c in date_cols:\n",
    "        df[c] = pd.to_datetime(df[c], format='ISO8601')\n",
    "\n",
    "    print('Loaded {}: {}'.format(fp, df.shape))\n",
    "    return df\n",
    "\n",
    "def load_study_group_rhythm_ecgs():\n",
    "    '''Load Study Group rhythm ECGs npy and lookup CSV'''\n",
    "    ecg_rhythm_fp = os.path.join(DATA_DIR, 'study-group','ecg-waveforms','waveform-rhythm.npy')\n",
    "    waveform_rhythm_npy = np.load(ecg_rhythm_fp)\n",
    "    print('Loaded {}: {}'.format(ecg_rhythm_fp, waveform_rhythm_npy.shape))\n",
    "    \n",
    "    ecg_lookup_fp = os.path.join(DATA_DIR, 'study-group','ecg-waveforms','waveform-npy.csv')\n",
    "    waveform_npy_df = pd.read_csv(ecg_lookup_fp)\n",
    "    print('Loaded {}: {}'.format(ecg_lookup_fp, waveform_npy_df.shape))\n",
    "    \n",
    "    return waveform_rhythm_npy, waveform_npy_df\n",
    "\n",
    "def load_study_group_outcomes():\n",
    "    # Load all Study Group files\n",
    "    cohort_fp = os.path.join(DATA_DIR, 'study-group','cohort.csv')\n",
    "    cohort_df = load_outcomes_df(cohort_fp)\n",
    "\n",
    "    comorbidities_fp = os.path.join(DATA_DIR, 'study-group','comorbidities.csv')\n",
    "    comorbidities_df = load_outcomes_df(comorbidities_fp)\n",
    "\n",
    "    ecg_fp = os.path.join(DATA_DIR, 'study-group','ecg.csv')\n",
    "    ecg_df = load_outcomes_df(ecg_fp)\n",
    "\n",
    "    rosc_outcomes_fp = os.path.join(DATA_DIR, 'study-group','rosc-outcomes.csv')\n",
    "    rosc_outcomes_df = load_outcomes_df(rosc_outcomes_fp)\n",
    "\n",
    "    study_group_df = reduce(lambda left,right: pd.merge(left, right, on=['patient_ngsci_id', 'year', 'ecg_id'],\n",
    "                                                        how='outer'), [cohort_df, comorbidities_df, ecg_df, rosc_outcomes_df])\n",
    "    print('`study_group_df`: {}'.format(study_group_df.shape))\n",
    "    study_group_df_lookup = {\n",
    "        'study_group_df': study_group_df,\n",
    "        'cohort_df': cohort_df,\n",
    "        'comorbidities_df': comorbidities_df,\n",
    "        'ecg_df': ecg_df,\n",
    "        'rosc_outcomes_df': rosc_outcomes_df\n",
    "    }\n",
    "    return study_group_df_lookup\n",
    "\n",
    "def stdg_calculate_time_diff(df):\n",
    "    \"\"\"\n",
    "    Calculate the time difference between control and pre acquisition_datetime_offset values\n",
    "    for the same patient_ngsci_id and save it in a new column called time_diff.\n",
    "\n",
    "    Parameters:\n",
    "    df (pd.DataFrame): The input dataframe containing patient_ngsci_id, ecg_timetag, \n",
    "                       and acquisition_datetime_offset columns.\n",
    "\n",
    "    Returns:\n",
    "    pd.DataFrame: A new dataframe with patient_ngsci_id and time_diff columns.\n",
    "    \"\"\"\n",
    "    # Filter rows based on ecg_timetag\n",
    "    control_df = df[df['ecg_timetag'] == '[1]ROSC']\n",
    "    pre_df = df[df['ecg_timetag'] == '[0]pre']\n",
    "\n",
    "    # Rename columns to avoid conflicts during merge\n",
    "    control_df = control_df.rename(columns={'acquisition_datetime_offset': 'control_offset'})\n",
    "    pre_df = pre_df.rename(columns={'acquisition_datetime_offset': 'pre_offset'})\n",
    "    \n",
    "    #Print the number of patients id in both datasets\n",
    "    # Find the intersection of unique 'patient_ngsci_id' values in both DataFrames\n",
    "    common_patient_ids = set(control_df['patient_ngsci_id']).intersection(set(pre_df['patient_ngsci_id']))\n",
    "\n",
    "    # Count and print the number of common patient_ngsci_id\n",
    "    print('The number of patients ID with both Pre and SCA are: ', len(common_patient_ids))\n",
    "\n",
    "    # Merge the dataframes on patient_ngsci_id\n",
    "    merged_df = pd.merge(control_df, pre_df, on='patient_ngsci_id')\n",
    "\n",
    "    # Calculate the difference and save in a new column\n",
    "    merged_df['time_diff'] = merged_df['control_offset'] - merged_df['pre_offset']\n",
    "\n",
    "    # Select relevant columns\n",
    "    result_df = merged_df[['patient_ngsci_id', 'time_diff']]\n",
    "\n",
    "    return result_df\n",
    "\n",
    "def stdg_print_problematic_patients(df):\n",
    "    print(df[df['patient_ngsci_id']==100308])\n",
    "    print(df[df['patient_ngsci_id']==101190])\n",
    "    print(df[df['patient_ngsci_id']==101298])\n",
    "    \n",
    "def check_missing_values(df):\n",
    "    \"\"\"\n",
    "    Check for missing values in the dataframe and print the count of missing values in each column.\n",
    "\n",
    "    Parameters:\n",
    "    df (pd.DataFrame): The dataframe to check for missing values.\n",
    "\n",
    "    Returns:\n",
    "    None\n",
    "    \"\"\"\n",
    "    # Check for missing values in the dataframe\n",
    "    missing_values = df.isnull().any()\n",
    "\n",
    "    # Print the result\n",
    "    print(\"Columns with missing values:\")\n",
    "    print(missing_values)\n",
    "    \n",
    "    # Check the count of missing values in each column\n",
    "    missing_values_count = df.isnull().sum()\n",
    "    print(\"\\nCount of missing values in each column:\")\n",
    "    print(missing_values_count)"
   ]
  },
  {
   "cell_type": "code",
   "execution_count": 4,
   "id": "ddf91843-bee1-4fe8-b687-88b5dd091187",
   "metadata": {
    "tags": []
   },
   "outputs": [
    {
     "name": "stdout",
     "output_type": "stream",
     "text": [
      "Loaded /home/ngsci/datasets/arrest-ntuh-ecg/v1/study-group/ecg-waveforms/waveform-rhythm.npy: (1686, 12, 5000)\n",
      "Loaded /home/ngsci/datasets/arrest-ntuh-ecg/v1/study-group/ecg-waveforms/waveform-npy.csv: (1686, 4)\n"
     ]
    }
   ],
   "source": [
    "#Read ECG data from study group\n",
    "ecg_study_npy, ecg_study_df = load_study_group_rhythm_ecgs()"
   ]
  },
  {
   "cell_type": "code",
   "execution_count": 5,
   "id": "8717b43e-3240-4252-8b5e-0b69087b2ec9",
   "metadata": {
    "tags": []
   },
   "outputs": [
    {
     "name": "stdout",
     "output_type": "stream",
     "text": [
      "Loaded /home/ngsci/datasets/arrest-ntuh-ecg/v1/study-group/cohort.csv: (1686, 9)\n",
      "Loaded /home/ngsci/datasets/arrest-ntuh-ecg/v1/study-group/comorbidities.csv: (1686, 11)\n",
      "Loaded /home/ngsci/datasets/arrest-ntuh-ecg/v1/study-group/ecg.csv: (1686, 7)\n",
      "Loaded /home/ngsci/datasets/arrest-ntuh-ecg/v1/study-group/rosc-outcomes.csv: (1686, 37)\n",
      "`study_group_df`: (1686, 55)\n",
      "<class 'dict'>\n"
     ]
    }
   ],
   "source": [
    "#Read outcome data from study group\n",
    "study_group_df_lookup = load_study_group_outcomes()\n",
    "print(type(study_group_df_lookup))"
   ]
  },
  {
   "cell_type": "code",
   "execution_count": 6,
   "id": "d459f2a4-bb75-4114-ae58-1292bea766e4",
   "metadata": {
    "tags": []
   },
   "outputs": [
    {
     "name": "stdout",
     "output_type": "stream",
     "text": [
      "                             ecg_id     year  npy_index ecg_timetag\n",
      "0  4d2b35fb8850b75dd3f6644978e542b5  2011-14          0     [1]ROSC\n",
      "1  ea01a56650768f3f41d255fe546e27a9  2011-14          1     [1]ROSC\n",
      "2  e4a8dfe722c4686695265586d8b5b6bc  2011-14          2      [0]pre\n",
      "3  bfae87358404a1fb0f2ee6e71296f399  2011-14          3     [1]ROSC\n",
      "4  041608622e1cbdad60f80257bae3ab61  2011-14          4     [2]24hr\n"
     ]
    }
   ],
   "source": [
    "print(ecg_study_df.head(5))"
   ]
  },
  {
   "cell_type": "code",
   "execution_count": 7,
   "id": "cc94e083-f6a6-43cc-afe9-8d4464c83b66",
   "metadata": {
    "tags": []
   },
   "outputs": [
    {
     "name": "stdout",
     "output_type": "stream",
     "text": [
      "# of unique patients: 974\n"
     ]
    }
   ],
   "source": [
    "#Print number of unique patients in the Study group\n",
    "print('# of unique patients: {:,}'.format(len(study_group_df_lookup['cohort_df'][['patient_ngsci_id']].drop_duplicates())))"
   ]
  },
  {
   "cell_type": "code",
   "execution_count": 8,
   "id": "4d899436-8375-4ad9-a09c-1d4995b6c569",
   "metadata": {
    "tags": []
   },
   "outputs": [
    {
     "name": "stdout",
     "output_type": "stream",
     "text": [
      "   patient_ngsci_id     year                            ecg_id   \n",
      "0            100000  2011-14  4d2b35fb8850b75dd3f6644978e542b5  \\\n",
      "1            100001  2011-14  ea01a56650768f3f41d255fe546e27a9   \n",
      "2            100001  2011-14  e380efe5cc3211b5137f5f6b156f6201   \n",
      "3            100001  2011-14  fc42a07f6d54ac0db90adf19f710fd02   \n",
      "4            100002  2011-14  30849ba48b0418b50852bba62ddc4f71   \n",
      "\n",
      "  acquisition_datetime_offset ecg_timetag  \n",
      "0         2123-02-07 22:21:00     [1]ROSC  \n",
      "1         2115-11-22 06:57:00     [1]ROSC  \n",
      "2         2115-11-23 14:18:00     [2]24hr  \n",
      "3         2115-11-22 05:45:00      [0]pre  \n",
      "4         2122-10-06 13:33:00     [1]ROSC  \n",
      "(1686, 5)\n"
     ]
    }
   ],
   "source": [
    "#Get and check ECG info\n",
    "study_ecg_info_df=study_group_df_lookup['ecg_df']\n",
    "#delete long-so far unecessary information\n",
    "study_ecg_info_df=study_ecg_info_df.drop(['acquisition_datetime_is_weekend','rosc'],axis=1)\n",
    "print(study_ecg_info_df.head(5))\n",
    "print(study_ecg_info_df.shape)"
   ]
  },
  {
   "cell_type": "code",
   "execution_count": 9,
   "id": "f38e8c2d-12c6-491d-8095-b9a6ffcfae3b",
   "metadata": {
    "tags": []
   },
   "outputs": [
    {
     "name": "stdout",
     "output_type": "stream",
     "text": [
      "# of just-after ROSC ECGs is 838 in the study group\n",
      "# of pre-cardiac arrest ECGs is 605 in the study group\n",
      "# of 24h-after ROSC ECGs is 243 in the study group\n"
     ]
    }
   ],
   "source": [
    "#Print and count the unique values of ecg type.\n",
    "study_ecg_type_counts = study_ecg_info_df['ecg_timetag'].value_counts()\n",
    "study_rosc_ecg_n = study_ecg_type_counts[0]\n",
    "study_pre_ecg_n = study_ecg_type_counts[1]\n",
    "study_24hr_ecg_n = study_ecg_type_counts[2]\n",
    "\n",
    "print(f'# of just-after ROSC ECGs is {study_rosc_ecg_n} in the study group')\n",
    "print(f'# of pre-cardiac arrest ECGs is {study_pre_ecg_n} in the study group')\n",
    "print(f'# of 24h-after ROSC ECGs is {study_24hr_ecg_n} in the study group')"
   ]
  },
  {
   "cell_type": "code",
   "execution_count": 10,
   "id": "c6db9123-b3ab-4d5d-855f-1906c9456fa7",
   "metadata": {
    "tags": []
   },
   "outputs": [
    {
     "name": "stdout",
     "output_type": "stream",
     "text": [
      "Number of ECG after 24hr of ROSC after deletion: 0\n",
      "Number of different patient_id values appearing more than two times: 3\n",
      "The patient ids with more than 2 pre or ROSC records are: patient_ngsci_id\n",
      "101298    4\n",
      "101190    4\n",
      "100308    3\n",
      "Name: count, dtype: int64\n"
     ]
    }
   ],
   "source": [
    "#Delete problematic ECGs\n",
    "#Problematic patients are who have more than 2 records i.e. multiple Pre and ROSC ECGs\n",
    "#Delete the 24hr after SCA ECGs\n",
    "No_24hr_condition = study_ecg_info_df['ecg_timetag'] != '[2]24hr'\n",
    "stdg_ecg_PreROSC_df=study_ecg_info_df[No_24hr_condition].copy()\n",
    "\n",
    "count_24hr = (stdg_ecg_PreROSC_df['ecg_timetag'] == '[2]24hr').sum()\n",
    "print(f\"Number of ECG after 24hr of ROSC after deletion: {count_24hr}\")\n",
    "\n",
    "patient_id_counts = stdg_ecg_PreROSC_df['patient_ngsci_id'].value_counts()\n",
    "#patient_id_counts_df = pd.DataFrame(patient_id_counts)\n",
    "\n",
    "# Filter patient_id values that appear more than two times\n",
    "more_than_two_counts = patient_id_counts[patient_id_counts > 2]\n",
    "more_than_two_counts_df = pd.DataFrame(more_than_two_counts).reset_index('patient_ngsci_id')\n",
    "\n",
    "# Get the count of different patient_id values that appear more than two times\n",
    "num_different_values = len(more_than_two_counts)\n",
    "\n",
    "# Display the result\n",
    "print(f\"Number of different patient_id values appearing more than two times: {num_different_values}\")\n",
    "print(f\"The patient ids with more than 2 pre or ROSC records are: {more_than_two_counts}\")\n",
    "\n",
    "#Delete these patients from the dataset\n",
    "#print(stdg_ecg_PreROSC_df.shape)\n",
    "#stdg_ecg_PreROSC_df = stdg_ecg_PreROSC_df[~stdg_ecg_PreROSC_df['patient_ngsci_id'].isin(more_than_two_counts['patient_ngsci_id'])]\n",
    "#print(stdg_ecg_PreROSC_df[patient_id_counts > 2])"
   ]
  },
  {
   "cell_type": "code",
   "execution_count": 11,
   "id": "2c3094c0-ceb2-4099-862e-1484bcd114fd",
   "metadata": {
    "tags": []
   },
   "outputs": [
    {
     "data": {
      "text/html": [
       "<div>\n",
       "<style scoped>\n",
       "    .dataframe tbody tr th:only-of-type {\n",
       "        vertical-align: middle;\n",
       "    }\n",
       "\n",
       "    .dataframe tbody tr th {\n",
       "        vertical-align: top;\n",
       "    }\n",
       "\n",
       "    .dataframe thead th {\n",
       "        text-align: right;\n",
       "    }\n",
       "</style>\n",
       "<table border=\"1\" class=\"dataframe\">\n",
       "  <thead>\n",
       "    <tr style=\"text-align: right;\">\n",
       "      <th></th>\n",
       "      <th>patient_ngsci_id</th>\n",
       "      <th>year</th>\n",
       "      <th>ecg_id</th>\n",
       "      <th>acquisition_datetime_offset</th>\n",
       "      <th>ecg_timetag</th>\n",
       "    </tr>\n",
       "  </thead>\n",
       "  <tbody>\n",
       "    <tr>\n",
       "      <th>393</th>\n",
       "      <td>100308</td>\n",
       "      <td>2011-14</td>\n",
       "      <td>3fb5e002ac6e540dbb458f57e79c2955</td>\n",
       "      <td>2128-08-19 20:21:00</td>\n",
       "      <td>[1]ROSC</td>\n",
       "    </tr>\n",
       "    <tr>\n",
       "      <th>395</th>\n",
       "      <td>100308</td>\n",
       "      <td>2011-14</td>\n",
       "      <td>48ce2822b2839b74a187ea0968f5d201</td>\n",
       "      <td>2128-09-12 19:32:00</td>\n",
       "      <td>[1]ROSC</td>\n",
       "    </tr>\n",
       "    <tr>\n",
       "      <th>396</th>\n",
       "      <td>100308</td>\n",
       "      <td>2011-14</td>\n",
       "      <td>a5b43dada49c227ae80e2686df0194a7</td>\n",
       "      <td>2128-08-26 08:27:00</td>\n",
       "      <td>[0]pre</td>\n",
       "    </tr>\n",
       "    <tr>\n",
       "      <th>1547</th>\n",
       "      <td>101190</td>\n",
       "      <td>2019</td>\n",
       "      <td>0059a263438c8bfba6a1eaf56c0ddd93</td>\n",
       "      <td>2167-11-10 12:08:33</td>\n",
       "      <td>[0]pre</td>\n",
       "    </tr>\n",
       "    <tr>\n",
       "      <th>1548</th>\n",
       "      <td>101190</td>\n",
       "      <td>2019</td>\n",
       "      <td>26dcfd8809f2b9dab06448312152e92a</td>\n",
       "      <td>2168-05-08 15:39:15</td>\n",
       "      <td>[1]ROSC</td>\n",
       "    </tr>\n",
       "    <tr>\n",
       "      <th>1549</th>\n",
       "      <td>101190</td>\n",
       "      <td>2019</td>\n",
       "      <td>5bf15010f13d23e77794f4e722929c65</td>\n",
       "      <td>2168-06-04 09:50:15</td>\n",
       "      <td>[0]pre</td>\n",
       "    </tr>\n",
       "    <tr>\n",
       "      <th>1550</th>\n",
       "      <td>101190</td>\n",
       "      <td>2019</td>\n",
       "      <td>2d8f70a010b1351ea17d31676e6f3ab6</td>\n",
       "      <td>2168-08-05 09:17:42</td>\n",
       "      <td>[1]ROSC</td>\n",
       "    </tr>\n",
       "    <tr>\n",
       "      <th>1682</th>\n",
       "      <td>101298</td>\n",
       "      <td>2015-16</td>\n",
       "      <td>28a6f831b6378c1c254f2e28a720e3ac</td>\n",
       "      <td>2132-07-11 15:20:05</td>\n",
       "      <td>[1]ROSC</td>\n",
       "    </tr>\n",
       "    <tr>\n",
       "      <th>1683</th>\n",
       "      <td>101298</td>\n",
       "      <td>2015-16</td>\n",
       "      <td>ba8bd21a6c21015a7c33cd96570b6175</td>\n",
       "      <td>2132-06-15 02:54:40</td>\n",
       "      <td>[0]pre</td>\n",
       "    </tr>\n",
       "    <tr>\n",
       "      <th>1684</th>\n",
       "      <td>101298</td>\n",
       "      <td>2017</td>\n",
       "      <td>8f7e1f60f3eb4a7cf54a044d2cc3d3db</td>\n",
       "      <td>2173-11-16 11:02:13</td>\n",
       "      <td>[0]pre</td>\n",
       "    </tr>\n",
       "    <tr>\n",
       "      <th>1685</th>\n",
       "      <td>101298</td>\n",
       "      <td>2017</td>\n",
       "      <td>f77694b2ff031e30fb3f75443e4da28a</td>\n",
       "      <td>2174-08-03 19:36:57</td>\n",
       "      <td>[1]ROSC</td>\n",
       "    </tr>\n",
       "  </tbody>\n",
       "</table>\n",
       "</div>"
      ],
      "text/plain": [
       "      patient_ngsci_id     year                            ecg_id   \n",
       "393             100308  2011-14  3fb5e002ac6e540dbb458f57e79c2955  \\\n",
       "395             100308  2011-14  48ce2822b2839b74a187ea0968f5d201   \n",
       "396             100308  2011-14  a5b43dada49c227ae80e2686df0194a7   \n",
       "1547            101190     2019  0059a263438c8bfba6a1eaf56c0ddd93   \n",
       "1548            101190     2019  26dcfd8809f2b9dab06448312152e92a   \n",
       "1549            101190     2019  5bf15010f13d23e77794f4e722929c65   \n",
       "1550            101190     2019  2d8f70a010b1351ea17d31676e6f3ab6   \n",
       "1682            101298  2015-16  28a6f831b6378c1c254f2e28a720e3ac   \n",
       "1683            101298  2015-16  ba8bd21a6c21015a7c33cd96570b6175   \n",
       "1684            101298     2017  8f7e1f60f3eb4a7cf54a044d2cc3d3db   \n",
       "1685            101298     2017  f77694b2ff031e30fb3f75443e4da28a   \n",
       "\n",
       "     acquisition_datetime_offset ecg_timetag  \n",
       "393          2128-08-19 20:21:00     [1]ROSC  \n",
       "395          2128-09-12 19:32:00     [1]ROSC  \n",
       "396          2128-08-26 08:27:00      [0]pre  \n",
       "1547         2167-11-10 12:08:33      [0]pre  \n",
       "1548         2168-05-08 15:39:15     [1]ROSC  \n",
       "1549         2168-06-04 09:50:15      [0]pre  \n",
       "1550         2168-08-05 09:17:42     [1]ROSC  \n",
       "1682         2132-07-11 15:20:05     [1]ROSC  \n",
       "1683         2132-06-15 02:54:40      [0]pre  \n",
       "1684         2173-11-16 11:02:13      [0]pre  \n",
       "1685         2174-08-03 19:36:57     [1]ROSC  "
      ]
     },
     "execution_count": 11,
     "metadata": {},
     "output_type": "execute_result"
    }
   ],
   "source": [
    "#Show the information of patients with more than 2 pre-ECGs\n",
    "more_than_two_ROSC_PreEcgs = stdg_ecg_PreROSC_df[stdg_ecg_PreROSC_df['patient_ngsci_id'].isin(more_than_two_counts_df['patient_ngsci_id'])]\n",
    "more_than_two_ROSC_PreEcgs"
   ]
  },
  {
   "cell_type": "code",
   "execution_count": 49,
   "id": "4670affc-48e0-4379-9c88-f8c19b6838b5",
   "metadata": {
    "tags": []
   },
   "outputs": [
    {
     "name": "stdout",
     "output_type": "stream",
     "text": [
      "(486, 2)\n",
      "Max # of days between PRE-ECG and ROSC-ECG in the study group: 15389 days 16:42:17\n",
      "Min # of days between PRE-ECG and ROSC-ECG in the study group: -15103 days +04:17:52\n",
      "Number of PRE and ROSC ECG time differences more than one day: 318\n",
      "Number of PRE and ROSC ECG time differences more than one week: 274\n",
      "Number of PRE and ROSC ECG time differences more than one month: 220\n",
      "Number of PRE and ROSC ECG time differences more than 6 months: 115\n",
      "Number of PRE and ROSC ECG time differences more than a year: 80\n",
      "Number of PRE and no-CA ECG time difference NEGATIVE: 3\n"
     ]
    }
   ],
   "source": [
    "#Calculate the minimum and maximum time from Pre-ECG and ROSC-ECG\n",
    "#study_ecg_info_df.shape\n",
    "#print(study_ecg_PreROSC_df.head(10))\n",
    "\n",
    "# Sort by patient_id first, then by ecg_timetag\n",
    "#study_ecg_PreROSC_df = study_ecg_PreROSC_df.sort_values(by=['patient_ngsci_id','year','acquisition_datetime_offset','ecg_timetag'])\n",
    "#print(study_ecg_PreROSC_sorted.head(10))\n",
    "\n",
    "#Calculate difference\n",
    "#study_ecg_PreROSC_df['time_diff'] = study_ecg_PreROSC_df.groupby(['patient_ngsci_id','year'])['acquisition_datetime_offset'].diff()\n",
    "#NaT_condition=PreROSC_diff_df_full='NaT'\n",
    "#PreROSC_diff_df = PreROSC_diff_df_full.drop(PreROSC_diff_df_full[NaT_condition])\n",
    "\n",
    "#Calculate difference using the new function\n",
    "stdg_timeDiff_df=stdg_calculate_time_diff(stdg_ecg_PreROSC_df)\n",
    "print(stdg_timeDiff_df.shape)\n",
    "\n",
    "#noTime_condition=study_ecg_PreROSC_df['time_diff']!='NaT'\n",
    "#noTime_condition\n",
    "\n",
    "#PreRosc_diff = study_ecg_PreROSC_df[noTime_condition].copy()\n",
    "#print(study_ecg_PreROSC_df.head(10))\n",
    "max_PreROSC_time = stdg_timeDiff_df['time_diff'].max()\n",
    "min_PreROSC_time = stdg_timeDiff_df['time_diff'].min()\n",
    "\n",
    "print(f'Max # of days between PRE-ECG and ROSC-ECG in the study group: {max_PreROSC_time}')\n",
    "print(f'Min # of days between PRE-ECG and ROSC-ECG in the study group: {min_PreROSC_time}')\n",
    "\n",
    "#Working in a \"histogram\" of the PRE and ROSC ECG time difference:\n",
    "\n",
    "more_than_day = stdg_timeDiff_df['time_diff'][stdg_timeDiff_df['time_diff'] > pd.Timedelta('1 days')]\n",
    "more_than_week = stdg_timeDiff_df['time_diff'][stdg_timeDiff_df['time_diff'] > pd.Timedelta('7 days')]\n",
    "more_than_month = stdg_timeDiff_df['time_diff'][stdg_timeDiff_df['time_diff'] > pd.Timedelta('30 days')]\n",
    "more_than_6_month = stdg_timeDiff_df['time_diff'][stdg_timeDiff_df['time_diff'] > pd.Timedelta('180 days')]\n",
    "more_than_year = stdg_timeDiff_df['time_diff'][stdg_timeDiff_df['time_diff'] > pd.Timedelta('365 days')]\n",
    "less_than_0 = stdg_timeDiff_df[['patient_ngsci_id','time_diff']][stdg_timeDiff_df['time_diff'] < pd.Timedelta('0 seconds')]\n",
    "\n",
    "\n",
    "# Get the count of time differences\n",
    "num_more_than_day = len(more_than_day.unique())\n",
    "num_more_than_week = len(more_than_week.unique())\n",
    "num_more_than_month = len(more_than_month.unique())\n",
    "num_more_than_6_month = len(more_than_6_month.unique())\n",
    "num_more_than_year = len(more_than_year.unique())\n",
    "\n",
    "num_less_than_0 = len(less_than_0)\n",
    "\n",
    "\n",
    "# Display the result\n",
    "print(f\"Number of PRE and ROSC ECG time differences more than one day: {num_more_than_day}\")\n",
    "print(f\"Number of PRE and ROSC ECG time differences more than one week: {num_more_than_week}\")\n",
    "print(f\"Number of PRE and ROSC ECG time differences more than one month: {num_more_than_month}\")\n",
    "print(f\"Number of PRE and ROSC ECG time differences more than 6 months: {num_more_than_6_month}\")\n",
    "print(f\"Number of PRE and ROSC ECG time differences more than a year: {num_more_than_year}\")\n",
    "\n",
    "print(f\"Number of PRE and no-CA ECG time difference NEGATIVE: {num_less_than_0}\")"
   ]
  },
  {
   "cell_type": "code",
   "execution_count": 50,
   "id": "fcd18416-864a-4db3-bf21-04f6eb956c47",
   "metadata": {
    "tags": []
   },
   "outputs": [
    {
     "name": "stdout",
     "output_type": "stream",
     "text": [
      "Number of PRE-ECG time less than one day: 167\n",
      "Number of PRE-ECG time less than one week: 211\n",
      "Number of PRE-ECG time less than one month: 265\n",
      "Number of PRE-ECG time less than 6 months: 370\n",
      "Number of PRE-ECG time less than a year: 405\n"
     ]
    }
   ],
   "source": [
    "#Show number of pre-OHSCA-ECGs less than a threshold time\n",
    "df_less_than_day = stdg_timeDiff_df['time_diff'][stdg_timeDiff_df['time_diff'] <= pd.Timedelta('1 days')]\n",
    "df_less_than_week = stdg_timeDiff_df['time_diff'][stdg_timeDiff_df['time_diff'] <= pd.Timedelta('7 days')]\n",
    "df_less_than_month = stdg_timeDiff_df['time_diff'][stdg_timeDiff_df['time_diff'] <= pd.Timedelta('30 days')]\n",
    "df_less_than_6_month = stdg_timeDiff_df['time_diff'][stdg_timeDiff_df['time_diff'] <= pd.Timedelta('180 days')]\n",
    "df_less_than_year = stdg_timeDiff_df['time_diff'][stdg_timeDiff_df['time_diff'] <= pd.Timedelta('365 days')]\n",
    "\n",
    "# Get the count of time differences\n",
    "num_less_than_day = len(df_less_than_day.unique())\n",
    "num_less_than_week = len(df_less_than_week.unique())\n",
    "num_less_than_month = len(df_less_than_month.unique())\n",
    "num_less_than_6_month = len(df_less_than_6_month.unique())\n",
    "num_less_than_year = len(df_less_than_year.unique())\n",
    "\n",
    "\n",
    "# Display the result\n",
    "print(f\"Number of PRE-ECG time less than one day: {num_less_than_day}\")\n",
    "print(f\"Number of PRE-ECG time less than one week: {num_less_than_week}\")\n",
    "print(f\"Number of PRE-ECG time less than one month: {num_less_than_month}\")\n",
    "print(f\"Number of PRE-ECG time less than 6 months: {num_less_than_6_month}\")\n",
    "print(f\"Number of PRE-ECG time less than a year: {num_less_than_year}\")\n"
   ]
  },
  {
   "cell_type": "code",
   "execution_count": 51,
   "id": "c7df22d8-67b1-4cc8-a518-6ae38390ef8b",
   "metadata": {
    "tags": []
   },
   "outputs": [
    {
     "name": "stdout",
     "output_type": "stream",
     "text": [
      "(486, 2)\n",
      "     patient_ngsci_id         time_diff\n",
      "113            100308 -7 days +11:54:00\n",
      "114            100308  17 days 11:05:00\n",
      "     patient_ngsci_id          time_diff\n",
      "449            101190  180 days 03:30:42\n",
      "450            101190 -27 days +05:49:00\n",
      "451            101190  268 days 21:09:09\n",
      "452            101190   61 days 23:27:27\n",
      "     patient_ngsci_id             time_diff\n",
      "482            101298      26 days 12:25:25\n",
      "483            101298 -15103 days +04:17:52\n",
      "484            101298   15389 days 16:42:17\n",
      "485            101298     260 days 08:34:44\n",
      "(486, 2)\n",
      "     patient_ngsci_id             time_diff\n",
      "113            100308     -7 days +11:54:00\n",
      "450            101190    -27 days +05:49:00\n",
      "483            101298 -15103 days +04:17:52\n"
     ]
    }
   ],
   "source": [
    "print(stdg_timeDiff_df.shape)\n",
    "stdg_print_problematic_patients(stdg_timeDiff_df)\n",
    "print(stdg_timeDiff_df.shape)\n",
    "print(less_than_0)"
   ]
  },
  {
   "cell_type": "code",
   "execution_count": 52,
   "id": "4604ded5-b798-41f3-8e41-e87afa7a15ce",
   "metadata": {
    "tags": []
   },
   "outputs": [
    {
     "name": "stdout",
     "output_type": "stream",
     "text": [
      "(1443, 5)\n",
      "(486, 2)\n",
      "(1432, 5)\n",
      "(476, 2)\n"
     ]
    }
   ],
   "source": [
    "#Delete the problematic patients\n",
    "#Original size\n",
    "print(stdg_ecg_PreROSC_df.shape)\n",
    "print(stdg_timeDiff_df.shape)\n",
    "\n",
    "# Filter out the rows with problematic patient_ngsci_id values\n",
    "stdg_ecg_PreROSC_df = stdg_ecg_PreROSC_df[~stdg_ecg_PreROSC_df['patient_ngsci_id'].isin(less_than_0['patient_ngsci_id'])]\n",
    "stdg_timeDiff_df = stdg_timeDiff_df[~stdg_timeDiff_df['patient_ngsci_id'].isin(less_than_0['patient_ngsci_id'])]\n",
    "\n",
    "#Sizes after deleting problematic patients\n",
    "print(stdg_ecg_PreROSC_df.shape)\n",
    "print(stdg_timeDiff_df.shape)\n",
    "\n",
    "# Print the resulting dataframe\n",
    "#print(study_ecg_PreROSC_df)\n",
    "#print(stdg_ecg_PreROSC_df[['patient_ngsci_id','ecg_timetag','acquisition_datetime_offset']][stdg_ecg_PreROSC_df['patient_ngsci_id']==100308])\n",
    "#print(stdg_ecg_PreROSC_df[['patient_ngsci_id','ecg_timetag','acquisition_datetime_offset']][stdg_ecg_PreROSC_df['patient_ngsci_id']==101190])\n",
    "#print(stdg_ecg_PreROSC_df[['patient_ngsci_id','ecg_timetag','acquisition_datetime_offset']][stdg_ecg_PreROSC_df['patient_ngsci_id']==101298])\n",
    "#Delete negative difference patients from the dataset"
   ]
  },
  {
   "cell_type": "code",
   "execution_count": 53,
   "id": "efccaef0-e844-4ce2-9c4b-7f1173c86098",
   "metadata": {
    "tags": []
   },
   "outputs": [
    {
     "name": "stdout",
     "output_type": "stream",
     "text": [
      "Number of patients with Pre-ECGs (IHCA and OHCA) less than 24 hours: 165\n",
      "Columns with missing values:\n",
      "patient_ngsci_id    False\n",
      "ecg_id              False\n",
      "ecg_timetag         False\n",
      "dtype: bool\n",
      "\n",
      "Count of missing values in each column:\n",
      "patient_ngsci_id    0\n",
      "ecg_id              0\n",
      "ecg_timetag         0\n",
      "dtype: int64\n",
      "Columns with missing values:\n",
      "patient_ngsci_id    False\n",
      "ecg_id              False\n",
      "ecg_timetag         False\n",
      "dtype: bool\n",
      "\n",
      "Count of missing values in each column:\n",
      "patient_ngsci_id    0\n",
      "ecg_id              0\n",
      "ecg_timetag         0\n",
      "dtype: int64\n",
      "Columns with missing values:\n",
      "patient_ngsci_id    False\n",
      "ecg_id              False\n",
      "ecg_timetag         False\n",
      "dtype: bool\n",
      "\n",
      "Count of missing values in each column:\n",
      "patient_ngsci_id    0\n",
      "ecg_id              0\n",
      "ecg_timetag         0\n",
      "dtype: int64\n",
      "Columns with missing values:\n",
      "patient_ngsci_id    False\n",
      "ecg_id              False\n",
      "ecg_timetag         False\n",
      "dtype: bool\n",
      "\n",
      "Count of missing values in each column:\n",
      "patient_ngsci_id    0\n",
      "ecg_id              0\n",
      "ecg_timetag         0\n",
      "dtype: int64\n",
      "Columns with missing values:\n",
      "patient_ngsci_id    False\n",
      "ecg_id              False\n",
      "ecg_timetag         False\n",
      "dtype: bool\n",
      "\n",
      "Count of missing values in each column:\n",
      "patient_ngsci_id    0\n",
      "ecg_id              0\n",
      "ecg_timetag         0\n",
      "dtype: int64\n",
      "Columns with missing values:\n",
      "patient_ngsci_id    False\n",
      "ecg_id              False\n",
      "ecg_timetag         False\n",
      "dtype: bool\n",
      "\n",
      "Count of missing values in each column:\n",
      "patient_ngsci_id    0\n",
      "ecg_id              0\n",
      "ecg_timetag         0\n",
      "dtype: int64\n",
      "Columns with missing values:\n",
      "patient_ngsci_id    False\n",
      "ecg_id              False\n",
      "ecg_timetag         False\n",
      "dtype: bool\n",
      "\n",
      "Count of missing values in each column:\n",
      "patient_ngsci_id    0\n",
      "ecg_id              0\n",
      "ecg_timetag         0\n",
      "dtype: int64\n"
     ]
    }
   ],
   "source": [
    "#Keep only the preECGs \n",
    "stdg_preECG_df = stdg_ecg_PreROSC_df[stdg_ecg_PreROSC_df['ecg_timetag']=='[0]pre']\n",
    "#print(stdg_preECG_df.head(5))\n",
    "#print(stdg_preECG_df.shape)\n",
    "\n",
    "#Keep the pre-ECG with less than 24h prior the SCA\n",
    "#patiens_preECG_within24h_df=stdg_timeDiff_df[stdg_timeDiff_df['time_diff'] <= pd.Timedelta('1 days')]\n",
    "\n",
    "#Keep patients within 1 days \n",
    "patiens_preECG_within24h_df=stdg_timeDiff_df[stdg_timeDiff_df['time_diff'] <= pd.Timedelta('1 days')]\n",
    "\n",
    "#Keep patients within x days \n",
    "patiens_preECG_within_1week_df=stdg_timeDiff_df[stdg_timeDiff_df['time_diff'] <= pd.Timedelta('7 days')]\n",
    "patiens_preECG_within_2weeks_df=stdg_timeDiff_df[stdg_timeDiff_df['time_diff'] <= pd.Timedelta('15 days')]\n",
    "patiens_preECG_within_1month_df=stdg_timeDiff_df[stdg_timeDiff_df['time_diff'] <= pd.Timedelta('30 days')]\n",
    "patiens_preECG_within_3months_df=stdg_timeDiff_df[stdg_timeDiff_df['time_diff'] <= pd.Timedelta('90 days')]\n",
    "patiens_preECG_within_6months_df=stdg_timeDiff_df[stdg_timeDiff_df['time_diff'] <= pd.Timedelta('180 days')]\n",
    "patiens_preECG_within_1year_df=stdg_timeDiff_df[stdg_timeDiff_df['time_diff'] <= pd.Timedelta('365 days')]\n",
    "\n",
    "#print(patiens_preECG_within24h_df.head(5))\n",
    "print('Number of patients with Pre-ECGs (IHCA and OHCA) less than 24 hours:', patiens_preECG_within24h_df.shape[0])\n",
    "\n",
    "#Create the pre-ECG dataframes with patient_id, year and ecg_id\n",
    "stdg_preECG_within24h_df = stdg_preECG_df[stdg_preECG_df['patient_ngsci_id'].isin(patiens_preECG_within24h_df['patient_ngsci_id'])]\n",
    "#print(stdg_preECG_within24h_df.head(5))\n",
    "#print(stdg_preECG_within24h_df.shape)\n",
    "stdg_preECG_within_1week_df = stdg_preECG_df[stdg_preECG_df['patient_ngsci_id'].isin(patiens_preECG_within_1week_df['patient_ngsci_id'])]\n",
    "stdg_preECG_within_2weeks_df = stdg_preECG_df[stdg_preECG_df['patient_ngsci_id'].isin(patiens_preECG_within_2weeks_df['patient_ngsci_id'])]\n",
    "stdg_preECG_within_1month_df = stdg_preECG_df[stdg_preECG_df['patient_ngsci_id'].isin(patiens_preECG_within_1month_df['patient_ngsci_id'])]\n",
    "stdg_preECG_within_3months_df = stdg_preECG_df[stdg_preECG_df['patient_ngsci_id'].isin(patiens_preECG_within_3months_df['patient_ngsci_id'])]\n",
    "stdg_preECG_within_6months_df = stdg_preECG_df[stdg_preECG_df['patient_ngsci_id'].isin(patiens_preECG_within_6months_df['patient_ngsci_id'])]\n",
    "stdg_preECG_within_1year_df = stdg_preECG_df[stdg_preECG_df['patient_ngsci_id'].isin(patiens_preECG_within_1year_df['patient_ngsci_id'])]\n",
    "\n",
    "#Delete unnecesary columns\n",
    "# Drop the specified columns\n",
    "stdg_preECG_within24h_df = stdg_preECG_within24h_df.drop(columns=['year', 'acquisition_datetime_offset'])\n",
    "stdg_preECG_within_1week_df = stdg_preECG_within_1week_df.drop(columns=['year', 'acquisition_datetime_offset'])\n",
    "stdg_preECG_within_2weeks_df = stdg_preECG_within_2weeks_df.drop(columns=['year', 'acquisition_datetime_offset'])\n",
    "stdg_preECG_within_1month_df = stdg_preECG_within_1month_df.drop(columns=['year', 'acquisition_datetime_offset'])\n",
    "stdg_preECG_within_3months_df = stdg_preECG_within_3months_df.drop(columns=['year', 'acquisition_datetime_offset'])\n",
    "stdg_preECG_within_6months_df = stdg_preECG_within_6months_df.drop(columns=['year', 'acquisition_datetime_offset'])\n",
    "stdg_preECG_within_1year_df = stdg_preECG_within_1year_df.drop(columns=['year', 'acquisition_datetime_offset'])\n",
    "\n",
    "check_missing_values(stdg_preECG_within24h_df)\n",
    "check_missing_values(stdg_preECG_within_1week_df)\n",
    "check_missing_values(stdg_preECG_within_2weeks_df)\n",
    "check_missing_values(stdg_preECG_within_1month_df)\n",
    "check_missing_values(stdg_preECG_within_3months_df)\n",
    "check_missing_values(stdg_preECG_within_6months_df)\n",
    "check_missing_values(stdg_preECG_within_1year_df)"
   ]
  },
  {
   "cell_type": "markdown",
   "id": "a157c4a4-c68b-48d2-9631-68cbf8441402",
   "metadata": {},
   "source": [
    "## OHCA or IHCA"
   ]
  },
  {
   "cell_type": "code",
   "execution_count": 54,
   "id": "9b388d3e-d73f-4812-9c15-07acf409019f",
   "metadata": {},
   "outputs": [
    {
     "name": "stdout",
     "output_type": "stream",
     "text": [
      "Number of patients with OHCA-Pre-ECGs total: 854\n",
      "Number of patients with OHCA-Pre-ECGs within 24 hours: 19\n",
      "Number of patients with OHCA-Pre-ECGs within 1 week: 27\n",
      "Number of patients with OHCA-Pre-ECGs within 2 weeks: 34\n",
      "Number of patients with OHCA-Pre-ECGs within 1 month: 58\n",
      "Number of patients with OHCA-Pre-ECGs within 3 months: 104\n",
      "Number of patients with OHCA-Pre-ECGs within 6 months: 132\n",
      "Number of patients with OHCA-Pre-ECGs within 1 year: 149\n"
     ]
    }
   ],
   "source": [
    "#Check how many IHCA and OHCA are\n",
    "#Get and check ROSC outcomes info\n",
    "study_rosc_info_df=study_group_df_lookup['rosc_outcomes_df']\n",
    "#print(study_rosc_info_df.head(5))\n",
    "IH_OH_CA_counts=study_rosc_info_df['location_of_cardiac_arrest'].value_counts()\n",
    "#print(IH_OH_CA_counts)\n",
    "\n",
    "#Keep only the OHCA\n",
    "patiens_OHA_df = study_rosc_info_df[['patient_ngsci_id','ecg_id','location_of_cardiac_arrest',\\\n",
    "                                                     'cause_of_cardiac_arrest','initial_rhythm']]\\\n",
    "                                  [study_rosc_info_df['location_of_cardiac_arrest'] == 'OHCA']\n",
    "#print(patiens_OHA_df.head(5))\n",
    "print('Number of patients with OHCA-Pre-ECG total:', patiens_OHA_df.shape[0])\n",
    "\n",
    "#Filter preECGs by Pre-ECG window time\n",
    "OHCA_preECG_within24h_df = pd.merge(stdg_preECG_within24h_df,patiens_OHA_df, on=['patient_ngsci_id','ecg_id'])\n",
    "#print(OHCA_preECG_within24h_df.head(5))\n",
    "OHCA_preECG_within_1week_df = pd.merge(stdg_preECG_within_1week_df,patiens_OHA_df, on=['patient_ngsci_id','ecg_id'])\n",
    "OHCA_preECG_within_2weeks_df = pd.merge(stdg_preECG_within_2weeks_df,patiens_OHA_df, on=['patient_ngsci_id','ecg_id'])\n",
    "OHCA_preECG_within_1month_df = pd.merge(stdg_preECG_within_1month_df,patiens_OHA_df, on=['patient_ngsci_id','ecg_id'])\n",
    "OHCA_preECG_within_3months_df = pd.merge(stdg_preECG_within_3months_df,patiens_OHA_df, on=['patient_ngsci_id','ecg_id'])\n",
    "OHCA_preECG_within_6months_df = pd.merge(stdg_preECG_within_6months_df,patiens_OHA_df, on=['patient_ngsci_id','ecg_id'])\n",
    "OHCA_preECG_within_1year_df = pd.merge(stdg_preECG_within_1year_df,patiens_OHA_df, on=['patient_ngsci_id','ecg_id'])\n",
    "\n",
    "#Print results\n",
    "print('Number of patients with OHCA-Pre-ECGs within 24 hours:', OHCA_preECG_within24h_df.shape[0])\n",
    "print('Number of patients with OHCA-Pre-ECGs within 1 week:', OHCA_preECG_within_1week_df.shape[0])\n",
    "print('Number of patients with OHCA-Pre-ECGs within 2 weeks:', OHCA_preECG_within_2weeks_df.shape[0])\n",
    "print('Number of patients with OHCA-Pre-ECGs within 1 month:', OHCA_preECG_within_1month_df.shape[0])\n",
    "print('Number of patients with OHCA-Pre-ECGs within 3 months:', OHCA_preECG_within_3months_df.shape[0])\n",
    "print('Number of patients with OHCA-Pre-ECGs within 6 months:', OHCA_preECG_within_6months_df.shape[0])\n",
    "print('Number of patients with OHCA-Pre-ECGs within 1 year:', OHCA_preECG_within_1year_df.shape[0])\n",
    "\n",
    "#Keep only the IHCA\n",
    "patiens_IHA_df = study_rosc_info_df[['patient_ngsci_id','ecg_id','location_of_cardiac_arrest',\\\n",
    "                                                     'cause_of_cardiac_arrest','initial_rhythm']]\\\n",
    "                                  [study_rosc_info_df['location_of_cardiac_arrest'] == 'IHCA']\n",
    "#print(patiens_OHA_df.head(5))\n",
    "#print(patiens_OHA_df.shape)\n",
    "\n",
    "IHCA_preECG_within24h_df = pd.merge(stdg_preECG_within24h_df,patiens_IHA_df, on=['patient_ngsci_id','ecg_id'])\n",
    "#print(IHCA_preECG_within24h_df.head(5))\n",
    "#print(IHCA_preECG_within24h_df.shape)\n",
    "\n",
    "#Check for missing values.\n",
    "#check_missing_values(IHCA_preECG_within24h_df)\n",
    "#check_missing_values(OHCA_preECG_within24h_df)\n"
   ]
  },
  {
   "cell_type": "code",
   "execution_count": 55,
   "id": "35b0ece3-1cfb-4d0b-ac02-7297059aaba5",
   "metadata": {
    "tags": []
   },
   "outputs": [
    {
     "name": "stdout",
     "output_type": "stream",
     "text": [
      "Number of IH+OH CA is:  location_of_cardiac_arrest\n",
      "OHCA     854\n",
      "IHCA     707\n",
      "Other    123\n",
      "0          2\n",
      "Name: count, dtype: int64\n",
      "Number of OHCA ECGs with preECGs (854, 5)\n",
      "Number of preECGs OHCA 240\n",
      "Number of preECGs IHCA 332\n",
      "Number of preECGs Other 27\n"
     ]
    }
   ],
   "source": [
    "print('Number of IH+OH CA is: ', IH_OH_CA_counts)\n",
    "print('Number of OHCA ECGs with preECGs', patiens_OHA_df.shape)\n",
    "\n",
    "\n",
    "stg_preEcgs_OHCA_df = pd.merge(stdg_preECG_df,patiens_OHA_df, on=['patient_ngsci_id','ecg_id'])\n",
    "print('Number of preECGs OHCA', stg_preEcgs_OHCA_df.shape[0])\n",
    "\n",
    "stg_preEcgs_IHCA_df = pd.merge(stdg_preECG_df,patiens_IHA_df, on=['patient_ngsci_id','ecg_id'])\n",
    "print('Number of preECGs IHCA', stg_preEcgs_IHCA_df.shape[0])\n",
    "\n",
    "patiens_Other_df = study_rosc_info_df[['patient_ngsci_id','ecg_id','location_of_cardiac_arrest',\\\n",
    "                                                     'cause_of_cardiac_arrest','initial_rhythm']]\\\n",
    "                                  [study_rosc_info_df['location_of_cardiac_arrest'] == 'Other']\n",
    "stg_preEcgs_Other_df = pd.merge(stdg_preECG_df,patiens_Other_df, on=['patient_ngsci_id','ecg_id'])\n",
    "print('Number of preECGs Other', stg_preEcgs_Other_df.shape[0])"
   ]
  },
  {
   "cell_type": "code",
   "execution_count": 56,
   "id": "060f05a6-4ee6-4f8c-b755-be9620d5baf3",
   "metadata": {
    "tags": []
   },
   "outputs": [],
   "source": [
    "#Get and check ECG info\n",
    "stg_cohort_df=study_group_df_lookup['cohort_df']\n",
    "\n",
    "#Keep only the columns of interest\n",
    "stg_cohort_df=stg_cohort_df[['patient_ngsci_id','ecg_id','sex','age']]\n",
    "#print(stg_cohort_df.head(5))\n",
    "\n",
    "#Merge the cohort information into the filters\n",
    "IHCA_preECG_within24h_df=pd.merge(IHCA_preECG_within24h_df, stg_cohort_df, on =['patient_ngsci_id','ecg_id'])\n",
    "#print(IHCA_preECG_within24h_df.head(5))\n",
    "\n",
    "#Out of Hospital filter\n",
    "OHCA_preECG_within24h_df=pd.merge(OHCA_preECG_within24h_df, stg_cohort_df, on =['patient_ngsci_id','ecg_id'])\n",
    "#print(OHCA_preECG_within24h_df.head(5))"
   ]
  },
  {
   "cell_type": "markdown",
   "id": "f12e7761-b1b9-4241-a408-5e463e66c43a",
   "metadata": {},
   "source": [
    "### Save the files into csv"
   ]
  },
  {
   "cell_type": "code",
   "execution_count": 57,
   "id": "1d924cb9-29ce-4d18-af00-4efe40c1d9bb",
   "metadata": {
    "tags": []
   },
   "outputs": [],
   "source": [
    "#IHCA_preECG_within24h_df.to_csv('fltr_IHCA_preECG_within24h.csv', index=False)\n",
    "#OHCA_preECG_within24h_df.to_csv('fltr_OHCA_preECG_within24h.csv', index=False)\n",
    "\n",
    "#Within 30 days\n",
    "#OHCA_preECG_within24h_df.to_csv('fltr_OHCA_preECG_in30d.csv', index=False)"
   ]
  }
 ],
 "metadata": {
  "kernelspec": {
   "display_name": "Python 3 (ipykernel)",
   "language": "python",
   "name": "python3"
  },
  "language_info": {
   "codemirror_mode": {
    "name": "ipython",
    "version": 3
   },
   "file_extension": ".py",
   "mimetype": "text/x-python",
   "name": "python",
   "nbconvert_exporter": "python",
   "pygments_lexer": "ipython3",
   "version": "3.10.9"
  }
 },
 "nbformat": 4,
 "nbformat_minor": 5
}
